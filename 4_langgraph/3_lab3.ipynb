{
 "cells": [
  {
   "cell_type": "markdown",
   "metadata": {},
   "source": [
    "## Welcome to Week 4, Day 4\n",
    "\n",
    "This is the start of an AWESOME project! Really simple and very effective."
   ]
  },
  {
   "cell_type": "code",
   "execution_count": 12,
   "metadata": {},
   "outputs": [],
   "source": [
    "from typing import Annotated\n",
    "from typing_extensions import TypedDict\n",
    "from langgraph.graph import StateGraph, START\n",
    "from langgraph.graph.message import add_messages\n",
    "from dotenv import load_dotenv\n",
    "from IPython.display import Image, display\n",
    "import gradio as gr\n",
    "from langgraph.prebuilt import ToolNode, tools_condition\n",
    "import requests\n",
    "import os\n",
    "from langchain.agents import Tool\n",
    "\n",
    "from langchain_openai import ChatOpenAI, AzureChatOpenAI\n",
    "from langgraph.checkpoint.memory import MemorySaver"
   ]
  },
  {
   "cell_type": "code",
   "execution_count": 13,
   "metadata": {},
   "outputs": [
    {
     "data": {
      "text/plain": [
       "True"
      ]
     },
     "execution_count": 13,
     "metadata": {},
     "output_type": "execute_result"
    }
   ],
   "source": [
    "load_dotenv(override=True)"
   ]
  },
  {
   "cell_type": "markdown",
   "metadata": {},
   "source": [
    "### Asynchronous LangGraph\n",
    "\n",
    "To run a tool:  \n",
    "Sync: `tool.run(inputs)`  \n",
    "Async: `await tool.arun(inputs)`\n",
    "\n",
    "To invoke the graph:  \n",
    "Sync: `graph.invoke(state)`  \n",
    "Async: `await graph.ainvoke(state)`"
   ]
  },
  {
   "cell_type": "code",
   "execution_count": 14,
   "metadata": {},
   "outputs": [],
   "source": [
    "class State(TypedDict):\n",
    "    \n",
    "    messages: Annotated[list, add_messages]\n",
    "\n",
    "\n",
    "graph_builder = StateGraph(State)"
   ]
  },
  {
   "cell_type": "code",
   "execution_count": 15,
   "metadata": {},
   "outputs": [],
   "source": [
    "pushover_token = os.getenv(\"PUSHOVER_TOKEN\")\n",
    "pushover_user = os.getenv(\"PUSHOVER_USER\")\n",
    "pushover_url = \"https://api.pushover.net/1/messages.json\"\n",
    "\n",
    "def push(text: str):\n",
    "    \"\"\"Send a push notification to the user\"\"\"\n",
    "    requests.post(pushover_url, data = {\"token\": pushover_token, \"user\": pushover_user, \"message\": text})\n",
    "\n",
    "tool_push = Tool(\n",
    "        name=\"send_push_notification\",\n",
    "        func=push,\n",
    "        description=\"useful for when you want to send a push notification\"\n",
    "    )"
   ]
  },
  {
   "cell_type": "markdown",
   "metadata": {},
   "source": [
    "## Extra installation step - if you don't have Node and Playwright on your computer\n",
    "\n",
    "Next, you need to install NodeJS and Playwright on your computer if you don't already have them. Please see instructions here:\n",
    "\n",
    "[Node and Playwright setup](../setup/SETUP-node.md)"
   ]
  },
  {
   "cell_type": "markdown",
   "metadata": {},
   "source": [
    "## And now - after Installing Playwright, a heads up for Windows PC Users:\n",
    "\n",
    "While executing the next few cells, you might hit a problem with the Playwright browser raising a NotImplementedError.\n",
    "\n",
    "This should work when we move to python modules, but it can cause problems in Windows in a notebook.\n",
    "\n",
    "If you it this error and would like to run the notebook, you need to make a small change which seems quite hacky! You need to do this AFTER installing Playwright (prior cells)\n",
    "\n",
    "1. Right click in `.venv` in the File Explorer on the left and select \"Find in folder\"\n",
    "2. Search for `asyncio.set_event_loop_policy(WindowsSelectorEventLoopPolicy())`  \n",
    "3. That code should be found in a line of code in a file called `kernelapp.py`\n",
    "4. Comment out the entire else clause that this line is a part of - see the fragment below. Be sure to have the \"pass\" statement after the ImportError line.\n",
    "5. Restart the kernel by pressing the \"Restart\" button above\n",
    "\n",
    "```python\n",
    "        if sys.platform.startswith(\"win\") and sys.version_info >= (3, 8):\n",
    "            import asyncio\n",
    " \n",
    "            try:\n",
    "                from asyncio import WindowsProactorEventLoopPolicy, WindowsSelectorEventLoopPolicy\n",
    "            except ImportError:\n",
    "                pass\n",
    "                # not affected\n",
    "           # else:\n",
    "            #    if type(asyncio.get_event_loop_policy()) is WindowsProactorEventLoopPolicy:\n",
    "                    # WindowsProactorEventLoopPolicy is not compatible with tornado 6\n",
    "                    # fallback to the pre-3.8 default of Selector\n",
    "                    # asyncio.set_event_loop_policy(WindowsSelectorEventLoopPolicy())\n",
    "```\n",
    "\n",
    "Thank you to student Nicolas for finding this, and to Kalyan, Yaki, Zibin and Bhaskar for confirming that this worked for them! And to Vladislav for the extra pointers.\n",
    "\n",
    "As an alternative, you can just move to a Python module (which we do anyway in Day 5)"
   ]
  },
  {
   "cell_type": "code",
   "execution_count": 16,
   "metadata": {},
   "outputs": [],
   "source": [
    "# Introducing nest_asyncio\n",
    "# Python async code only allows for one \"event loop\" processing aynchronous events.\n",
    "# The `nest_asyncio` library patches this, and is used for special situations, if you need to run a nested event loop.\n",
    "\n",
    "import nest_asyncio\n",
    "nest_asyncio.apply()"
   ]
  },
  {
   "cell_type": "markdown",
   "metadata": {},
   "source": [
    "### The LangChain community\n",
    "\n",
    "One of the remarkable things about LangChain is the rich community around it.\n",
    "\n",
    "Check this out:\n"
   ]
  },
  {
   "cell_type": "code",
   "execution_count": 17,
   "metadata": {},
   "outputs": [],
   "source": [
    "from langchain_community.agent_toolkits import PlayWrightBrowserToolkit\n",
    "from langchain_community.tools.playwright.utils import create_async_playwright_browser\n",
    "\n",
    "# If you get a NotImplementedError here or later, see the Heads Up at the top of the notebook\n",
    "\n",
    "async_browser =  create_async_playwright_browser(headless=False)  # headful mode\n",
    "toolkit = PlayWrightBrowserToolkit.from_browser(async_browser=async_browser)\n",
    "tools = toolkit.get_tools()"
   ]
  },
  {
   "cell_type": "code",
   "execution_count": 18,
   "metadata": {},
   "outputs": [
    {
     "name": "stdout",
     "output_type": "stream",
     "text": [
      "click_element=async_browser=<Browser type=<BrowserType name=chromium executable_path=C:\\Users\\trananhtu\\AppData\\Local\\ms-playwright\\chromium-1169\\chrome-win\\chrome.exe> version=136.0.7103.25>\n",
      "navigate_browser=async_browser=<Browser type=<BrowserType name=chromium executable_path=C:\\Users\\trananhtu\\AppData\\Local\\ms-playwright\\chromium-1169\\chrome-win\\chrome.exe> version=136.0.7103.25>\n",
      "previous_webpage=async_browser=<Browser type=<BrowserType name=chromium executable_path=C:\\Users\\trananhtu\\AppData\\Local\\ms-playwright\\chromium-1169\\chrome-win\\chrome.exe> version=136.0.7103.25>\n",
      "extract_text=async_browser=<Browser type=<BrowserType name=chromium executable_path=C:\\Users\\trananhtu\\AppData\\Local\\ms-playwright\\chromium-1169\\chrome-win\\chrome.exe> version=136.0.7103.25>\n",
      "extract_hyperlinks=async_browser=<Browser type=<BrowserType name=chromium executable_path=C:\\Users\\trananhtu\\AppData\\Local\\ms-playwright\\chromium-1169\\chrome-win\\chrome.exe> version=136.0.7103.25>\n",
      "get_elements=async_browser=<Browser type=<BrowserType name=chromium executable_path=C:\\Users\\trananhtu\\AppData\\Local\\ms-playwright\\chromium-1169\\chrome-win\\chrome.exe> version=136.0.7103.25>\n",
      "current_webpage=async_browser=<Browser type=<BrowserType name=chromium executable_path=C:\\Users\\trananhtu\\AppData\\Local\\ms-playwright\\chromium-1169\\chrome-win\\chrome.exe> version=136.0.7103.25>\n"
     ]
    }
   ],
   "source": [
    "for tool in tools:\n",
    "    print(f\"{tool.name}={tool}\")"
   ]
  },
  {
   "cell_type": "code",
   "execution_count": 19,
   "metadata": {},
   "outputs": [],
   "source": [
    "tool_dict = {tool.name:tool for tool in tools}\n",
    "\n",
    "navigate_tool = tool_dict.get(\"navigate_browser\")\n",
    "extract_text_tool = tool_dict.get(\"extract_text\")\n",
    "\n",
    "    \n",
    "await navigate_tool.arun({\"url\": \"https://www.cnn.com\"})\n",
    "text = await extract_text_tool.arun({})"
   ]
  },
  {
   "cell_type": "code",
   "execution_count": 20,
   "metadata": {},
   "outputs": [
    {
     "name": "stdout",
     "output_type": "stream",
     "text": [
      "Breaking News, Latest News and Videos | CNN CNN values your feedback\n",
      "1. How relevant is this ad to you? 2. Did you encounter any technical\n",
      "issues? No Video player was slow to load content Video content never\n",
      "loaded Ad froze or did not finish loading Video content did not start\n",
      "after ad Audio on ad was too loud Other issues Ad never loaded Ad\n",
      "prevented/slowed the page from loading Content moved around while ad\n",
      "loaded Ad was repetitive to ads I've seen previously Other issues\n",
      "Cancel Submit Thank You! Your effort and contribution in providing\n",
      "this feedback is much\n",
      "appreciated. Close Ad Feedback Close icon US World Politics Business\n",
      "Health Entertainment Style Travel Sports Science Climate Weather\n",
      "Ukraine-Russia War Israel-Hamas War Games More US World Politics\n",
      "Business Health Entertainment Style Travel Sports Science Climate\n",
      "Weather Ukraine-Russia War Israel-Hamas War Games Watch Listen Live TV\n",
      "Subscribe Sign in My Account Settings Newsletters Topics you follow\n",
      "Sign out Your CNN account Sign in to your CNN account Sign in My\n",
      "Account Settings Newsletters Topics you follow Sign out Your CNN\n",
      "account Sign in to your CNN account Live TV Listen Watch Edition US\n",
      "International Arabic Español Edition US International Arabic Español\n",
      "World Africa Americas Asia Australia China Europe India Middle East\n",
      "United Kingdom US Politics Trump Facts First CNN Polls 2025 Elections\n",
      "Business Tech Media Calculators Videos Markets Pre-markets After-Hours\n",
      "Fear & Greed Investing Markets Now Nightcap Health Life, But Better\n",
      "Fitness Food Sleep Mindfulness Relationships Entertainment Movies\n",
      "Television Celebrity Tech Innovate Foreseeable Future Mission: Ahead\n",
      "Work Transformed Innovative Cities Style Arts Design Fashion\n",
      "Architecture Luxury Beauty Video Travel Destinations Food & Drink Stay\n",
      "News Videos Sports Football Tennis Golf Motorsport US Sports Olympics\n",
      "Climbing Esports Hockey Science Space Life Unearthed Climate Solutions\n",
      "Weather Weather Video Climate Ukraine-Russia War Israel-Hamas War\n",
      "Features As Equals Call to Earth Freedom Project Impact Your World\n",
      "Inside Africa CNN Heroes Watch Live TV CNN Fast Shows A-Z CNN10 CNN\n",
      "Max CNN TV Schedules Listen CNN 5 Things Chasing Life with Dr. Sanjay\n",
      "Gupta The Assignment with Audie Cornish One Thing Tug of War CNN\n",
      "Political Briefing The Axe Files All There Is with Anderson Cooper All\n",
      "CNN Audio podcasts Games Daily Crossword Jumble Crossword Photo\n",
      "Shuffle Sudoblock Sudoku 5 Things Quiz About CNN Photos Investigations\n",
      "CNN Profiles CNN Leadership CNN Newsletters Work for CNN Follow CNN\n",
      "Trump’s tariffs Timeline of human evolution TikTok deal 2026 World Cup\n",
      "mascots Look of the week Grand Canyon’s North Rim The Ryder Cup •\n",
      "Video 5:52 CNN Video ‘Do you accept any responsibility?’: CNN presses\n",
      "Hamas leader on suffering in Gaza 5:52 CNN Exclusive Senior Hamas\n",
      "official defends ‘high price’ of Oct. 7 attack for Palestinians Trump\n",
      "says he won’t allow Israel to annex West Bank Netanyahu took a\n",
      "circuitous route to the US – here’s why Emil Leegunov/Anadolu/Getty\n",
      "Images Russia bans fuel exports over supply disruption by Ukrainian\n",
      "drones Russia is shadowing our satellites, German defense minister\n",
      "says Comey’s indictment is stunning, even by Trump’s standards\n",
      "Show all • Analysis Analysis Andrew Harnik/Getty Images • Analysis\n",
      "Analysis Analysis Charges against the ex-FBI director come as the US\n",
      "president is executing a crackdown on dissent What to know about the\n",
      "James Comey indictment and what happens next Video ‘Let’s have a\n",
      "trial’: See Comey’s video message after indictment 1:04 Comey’s son-\n",
      "in-law, a federal prosecutor, resigns after indictment Read the full\n",
      "indictment Tracking Trump’s retaliation Play Catch up on today's\n",
      "global news • Source: CNN Video Catch up on today’s global news • Look\n",
      "of the Week Look of the Week Saira MacLeod/WWD/Getty Images Look of\n",
      "the Week Gwyneth Paltrow – and Gucci –take a break from quiet luxury\n",
      "Guanghui Zhao A skull unearthed in China challenges the timeline of\n",
      "human evolution, scientists say FIFA FIFA unveils 2026 World Cup\n",
      "mascots Spencer Platt/Getty Images Starbucks announces significant\n",
      "store closures and layoffs Ad Feedback More top stories Daniel\n",
      "Becerril/Reuters/File Hegseth orders hundreds of senior military\n",
      "officers to Virginia for highly unusual meeting Moldova warns Russia\n",
      "unleashing huge interference campaign to sway crucial election Amazon\n",
      "to pay historic $2.5 billion settlement for allegedly tricking\n",
      "customers into signing up for Prime Microsoft terminates services for\n",
      "Israeli military after investigation into mass surveillance of\n",
      "Palestinians Drones disrupt airports in what Danish officials call\n",
      "‘hybrid attack’ Video Christian author on the rapture that didn’t\n",
      "happen: ‘It gives Christianity and the Bible a bad name’ 5:04 Travel &\n",
      "beyond Khalil Hamra/AP I tried to swim from Asia to Europe. Here’s\n",
      "what happened Ross D. Franklin/AP Portions of the Grand Canyon’s North\n",
      "Rim are opening soon after a devastating wildfire Sep 26, 2025\n",
      "Hemis/Alamy Stock Photo ‘World’s coolest’ neighborhoods for 2025 named\n",
      "by Time Out Sep 25, 2025 Ad Feedback Trump's tariffs Frederic J.\n",
      "Brown/AFP/Getty Images A 100% tariff on some imported drugs is coming\n",
      "October 1, Trump says Tim Graham/Getty Images Trump announces a 25%\n",
      "tariff on trucks and a 30% tariff on furniture Ad Feedback CLIMATE &\n",
      "EXTREME WEATHER @chrisfallowsphotography Too late to save great\n",
      "whites, ‘Air Jaws’ photographer is rewilding land CNN Weather Clock\n",
      "ticking for the Southeast as next tropical threat looms, with US\n",
      "impacts likely by Monday Climate TRACE The new map Al Gore hopes will\n",
      "horrify, and then motivate us to address the climate crisis Ad\n",
      "Feedback US politics Kevin Lamarque/REUTERS/REUTERS As Trump seeks\n",
      "death penalty in DC, Bondi says administration also wants it across\n",
      "the country Tasos Katopodis/Reuters Senior DOJ leaders advocate for\n",
      "charging John Bolton this week, sources say Dominic Gwinn/AFP/Getty\n",
      "Images ‘We either win or die’: Trump State Dept. nominee tried to\n",
      "erase thousands of tweets, many inflammatory Jimmy Kimmel Randy\n",
      "Holmes/Disney Jimmy Kimmel’s ratings bonanza continues Randy\n",
      "Holmes/Disney Kimmel nods to big ratings, heckles Trump as an\n",
      "‘80s-movie-style bully’ in second post-suspension show Randy\n",
      "Holmes/Disney Disney is a cultural touchstone – and that’s why it’s a\n",
      "magnet for controversy Ad Feedback Art & style CNN Robert Wun\n",
      "handmakes a $200,000 dress. Then he burns holes in it Dog in\n",
      "Rembrandt’s ‘The Night Watch’ was copied from widely available book,\n",
      "suggests new research Business & Tech • Analysis Analysis Chip\n",
      "Somodevilla/Getty Images Analysis The Argentina bailout is all about\n",
      "propping up a Trump ally US opens tariff investigations into medical\n",
      "equipment, robotics and industrial machinery Crime & Investigations\n",
      "Interpol Woman in 20-year-old cold case identified as Russian citizen\n",
      "Paris court rules former President Sarkozy must go to prison even if\n",
      "he appeals Ad Feedback Health & wellness Nathan Howard/Reuters Severe\n",
      "food insecurity is on the rise in DC area after Trump administration’s\n",
      "federal cuts, new report says Experimental gene therapy found to slow\n",
      "Huntington’s disease progression, company says SPORTS Jared C.\n",
      "Tilton/Getty Images How does the Ryder Cup work? Everything you need\n",
      "to know before tee off The devil is in the details: How the smallest\n",
      "captain decisions can make the biggest difference at the Ryder Cup\n",
      "Science & Discovery NASA Goddard Space Flight Center Conceptual Image\n",
      "Lab The farthest spacecraft from Earth have exited our solar system’s\n",
      "protective bubble. A new mission will map it Video Scientists catch a\n",
      "shark ‘threesome’ on camera 0:47 Inside Africa Show all Federico\n",
      "Veronesi Last remaining ‘super tusker’ elephants photographed Ralph\n",
      "Ziman An artist used 35 million beads to transform a supersonic jet\n",
      "Abi Morocco Photos/Lagos Studio Archives The race to save forgotten\n",
      "photos of Lagos life • Gallery Gallery Regula Tschumi Gallery The\n",
      "secretive, colorful world of Ghanaian funerals Ad Feedback More from\n",
      "CNN Courtesy of Katmai Conservancy Fat Bear Week 2025 is the\n",
      "distraction everybody needs New York became ‘too crazy’ so she moved\n",
      "to an Italian village, met her husband and started a family Two\n",
      "countries signed a peace deal in Washington. On the ground, little has\n",
      "changed First ever recording of leopard sharks mating in the wild\n",
      "reveals ‘threesome’ ‘Keep calm and carry cash’: Keep banknotes at home\n",
      "to prepare for crises, researchers say Two couples bumped into each\n",
      "other in a taxi line, kickstarting a friendship of nearly 40 years\n",
      "Analysis Trump has again changed his mind on Ukraine. But for how\n",
      "long? Italian tourist town imposes a tax on visiting dogs Subscribe\n",
      "Sign in My Account Settings Newsletters Topics you follow Sign out\n",
      "Your CNN account Sign in to your CNN account Live TV Listen Watch\n",
      "World Africa Americas Asia Australia China Europe India Middle East\n",
      "United Kingdom US Politics Trump Facts First CNN Polls 2025 Elections\n",
      "Business Tech Media Calculators Videos Markets Pre-markets After-Hours\n",
      "Fear & Greed Investing Markets Now Nightcap Health Life, But Better\n",
      "Fitness Food Sleep Mindfulness Relationships Entertainment Movies\n",
      "Television Celebrity Tech Innovate Foreseeable Future Mission: Ahead\n",
      "Work Transformed Innovative Cities Style Arts Design Fashion\n",
      "Architecture Luxury Beauty Video Travel Destinations Food & Drink Stay\n",
      "News Videos Sports Football Tennis Golf Motorsport US Sports Olympics\n",
      "Climbing Esports Hockey Science Space Life Unearthed Climate Solutions\n",
      "Weather Weather Video Climate Ukraine-Russia War Israel-Hamas War\n",
      "Features As Equals Call to Earth Freedom Project Impact Your World\n",
      "Inside Africa CNN Heroes Watch Live TV CNN Fast Shows A-Z CNN10 CNN\n",
      "Max CNN TV Schedules Listen CNN 5 Things Chasing Life with Dr. Sanjay\n",
      "Gupta The Assignment with Audie Cornish One Thing Tug of War CNN\n",
      "Political Briefing The Axe Files All There Is with Anderson Cooper All\n",
      "CNN Audio podcasts Games Daily Crossword Jumble Crossword Photo\n",
      "Shuffle Sudoblock Sudoku 5 Things Quiz About CNN Photos Investigations\n",
      "CNN Profiles CNN Leadership CNN Newsletters Work for CNN Watch Listen\n",
      "Live TV Follow CNN Subscribe Sign in My Account Settings Newsletters\n",
      "Topics you follow Sign out Your CNN account Sign in to your CNN\n",
      "account Terms of Use Privacy Policy Manage Cookies Ad Choices\n",
      "Accessibility & CC About Newsletters Transcripts © 2025 Cable News\n",
      "Network. A Warner Bros. Discovery Company. All Rights Reserved. CNN\n",
      "Sans ™ & © 2016 Cable News Network. Privacy Policy For privacy\n",
      "options, please see our privacy policy: https://www.cnn.com/privacy .\n",
      "Back Button Cookie List Search Icon Filter Icon Clear checkbox label\n",
      "label Apply Cancel Consent Leg.Interest checkbox label label checkbox\n",
      "label label checkbox label label Close\n"
     ]
    }
   ],
   "source": [
    "import textwrap\n",
    "print(textwrap.fill(text))"
   ]
  },
  {
   "cell_type": "code",
   "execution_count": 11,
   "metadata": {},
   "outputs": [],
   "source": [
    "all_tools = tools + [tool_push]"
   ]
  },
  {
   "cell_type": "code",
   "execution_count": 21,
   "metadata": {},
   "outputs": [],
   "source": [
    "\n",
    "# llm = ChatOpenAI(model=\"gpt-4o-mini\")\n",
    "llm = AzureChatOpenAI(\n",
    "    api_key=os.getenv(\"AZURE_OPENAI_API_KEY\"),\n",
    "    api_version=os.getenv(\"AZURE_OPENAI_API_VERSION\"),\n",
    "    azure_endpoint=os.getenv(\"AZURE_OPENAI_ENDPOINT\"),\n",
    "    deployment_name=os.getenv(\"AZURE_OPENAI_DEPLOYMENT\")\n",
    ")\n",
    "llm_with_tools = llm.bind_tools(all_tools)\n",
    "\n",
    "\n",
    "def chatbot(state: State):\n",
    "    return {\"messages\": [llm_with_tools.invoke(state[\"messages\"])]}\n"
   ]
  },
  {
   "cell_type": "code",
   "execution_count": 22,
   "metadata": {},
   "outputs": [
    {
     "data": {
      "image/png": "[encoded data removed]",
      "text/plain": [
       "<IPython.core.display.Image object>"
      ]
     },
     "metadata": {},
     "output_type": "display_data"
    }
   ],
   "source": [
    "\n",
    "graph_builder = StateGraph(State)\n",
    "graph_builder.add_node(\"chatbot\", chatbot)\n",
    "graph_builder.add_node(\"tools\", ToolNode(tools=all_tools))\n",
    "graph_builder.add_conditional_edges( \"chatbot\", tools_condition, \"tools\")\n",
    "graph_builder.add_edge(\"tools\", \"chatbot\")\n",
    "graph_builder.add_edge(START, \"chatbot\")\n",
    "\n",
    "memory = MemorySaver()\n",
    "graph = graph_builder.compile(checkpointer=memory)\n",
    "display(Image(graph.get_graph().draw_mermaid_png()))"
   ]
  },
  {
   "cell_type": "code",
   "execution_count": 23,
   "metadata": {},
   "outputs": [
    {
     "name": "stdout",
     "output_type": "stream",
     "text": [
      "* Running on local URL:  http://127.0.0.1:7874\n",
      "* To create a public link, set `share=True` in `launch()`.\n"
     ]
    },
    {
     "data": {
      "text/html": [
       "<div><iframe src=\"http://127.0.0.1:7874/\" width=\"100%\" height=\"500\" allow=\"autoplay; camera; microphone; clipboard-read; clipboard-write;\" frameborder=\"0\" allowfullscreen></iframe></div>"
      ],
      "text/plain": [
       "<IPython.core.display.HTML object>"
      ]
     },
     "metadata": {},
     "output_type": "display_data"
    },
    {
     "data": {
      "text/plain": []
     },
     "execution_count": 23,
     "metadata": {},
     "output_type": "execute_result"
    }
   ],
   "source": [
    "config = {\"configurable\": {\"thread_id\": \"10\"}}\n",
    "\n",
    "async def chat(user_input: str, history):\n",
    "    result = await graph.ainvoke({\"messages\": [{\"role\": \"user\", \"content\": user_input}]}, config=config)\n",
    "    return result[\"messages\"][-1].content\n",
    "\n",
    "\n",
    "gr.ChatInterface(chat, type=\"messages\").launch()"
   ]
  },
  {
   "cell_type": "code",
   "execution_count": null,
   "metadata": {},
   "outputs": [],
   "source": []
  }
 ],
 "metadata": {
  "kernelspec": {
   "display_name": ".venv",
   "language": "python",
   "name": "python3"
  },
  "language_info": {
   "codemirror_mode": {
    "name": "ipython",
    "version": 3
   },
   "file_extension": ".py",
   "mimetype": "text/x-python",
   "name": "python",
   "nbconvert_exporter": "python",
   "pygments_lexer": "ipython3",
   "version": "3.12.11"
  }
 },
 "nbformat": 4,
 "nbformat_minor": 2
}
