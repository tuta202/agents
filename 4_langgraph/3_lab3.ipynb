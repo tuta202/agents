{
 "cells": [
  {
   "cell_type": "markdown",
   "metadata": {},
   "source": [
    "## Welcome to Week 4, Day 4\n",
    "\n",
    "This is the start of an AWESOME project! Really simple and very effective."
   ]
  },
  {
   "cell_type": "code",
   "execution_count": 1,
   "metadata": {},
   "outputs": [],
   "source": [
    "from typing import Annotated\n",
    "from typing_extensions import TypedDict\n",
    "from langgraph.graph import StateGraph, START\n",
    "from langgraph.graph.message import add_messages\n",
    "from dotenv import load_dotenv\n",
    "from IPython.display import Image, display\n",
    "import gradio as gr\n",
    "from langgraph.prebuilt import ToolNode, tools_condition\n",
    "import requests\n",
    "import os\n",
    "from langchain.agents import Tool\n",
    "\n",
    "from langchain_openai import ChatOpenAI, AzureChatOpenAI\n",
    "from langgraph.checkpoint.memory import MemorySaver"
   ]
  },
  {
   "cell_type": "code",
   "execution_count": 2,
   "metadata": {},
   "outputs": [
    {
     "data": {
      "text/plain": [
       "True"
      ]
     },
     "execution_count": 2,
     "metadata": {},
     "output_type": "execute_result"
    }
   ],
   "source": [
    "load_dotenv(override=True)"
   ]
  },
  {
   "cell_type": "markdown",
   "metadata": {},
   "source": [
    "### Asynchronous LangGraph\n",
    "\n",
    "To run a tool:  \n",
    "Sync: `tool.run(inputs)`  \n",
    "Async: `await tool.arun(inputs)`\n",
    "\n",
    "To invoke the graph:  \n",
    "Sync: `graph.invoke(state)`  \n",
    "Async: `await graph.ainvoke(state)`"
   ]
  },
  {
   "cell_type": "code",
   "execution_count": 3,
   "metadata": {},
   "outputs": [],
   "source": [
    "class State(TypedDict):\n",
    "    \n",
    "    messages: Annotated[list, add_messages]\n",
    "\n",
    "\n",
    "graph_builder = StateGraph(State)"
   ]
  },
  {
   "cell_type": "code",
   "execution_count": 4,
   "metadata": {},
   "outputs": [],
   "source": [
    "pushover_token = os.getenv(\"PUSHOVER_TOKEN\")\n",
    "pushover_user = os.getenv(\"PUSHOVER_USER\")\n",
    "pushover_url = \"https://api.pushover.net/1/messages.json\"\n",
    "\n",
    "def push(text: str):\n",
    "    \"\"\"Send a push notification to the user\"\"\"\n",
    "    requests.post(pushover_url, data = {\"token\": pushover_token, \"user\": pushover_user, \"message\": text})\n",
    "\n",
    "tool_push = Tool(\n",
    "        name=\"send_push_notification\",\n",
    "        func=push,\n",
    "        description=\"useful for when you want to send a push notification\"\n",
    "    )"
   ]
  },
  {
   "cell_type": "markdown",
   "metadata": {},
   "source": [
    "## Extra installation step - if you don't have Node and Playwright on your computer\n",
    "\n",
    "Next, you need to install NodeJS and Playwright on your computer if you don't already have them. Please see instructions here:\n",
    "\n",
    "[Node and Playwright setup](../setup/SETUP-node.md)"
   ]
  },
  {
   "cell_type": "markdown",
   "metadata": {},
   "source": [
    "## And now - after Installing Playwright, a heads up for Windows PC Users:\n",
    "\n",
    "While executing the next few cells, you might hit a problem with the Playwright browser raising a NotImplementedError.\n",
    "\n",
    "This should work when we move to python modules, but it can cause problems in Windows in a notebook.\n",
    "\n",
    "If you it this error and would like to run the notebook, you need to make a small change which seems quite hacky! You need to do this AFTER installing Playwright (prior cells)\n",
    "\n",
    "1. Right click in `.venv` in the File Explorer on the left and select \"Find in folder\"\n",
    "2. Search for `asyncio.set_event_loop_policy(WindowsSelectorEventLoopPolicy())`  \n",
    "3. That code should be found in a line of code in a file called `kernelapp.py`\n",
    "4. Comment out the entire else clause that this line is a part of - see the fragment below. Be sure to have the \"pass\" statement after the ImportError line.\n",
    "5. Restart the kernel by pressing the \"Restart\" button above\n",
    "\n",
    "```python\n",
    "        if sys.platform.startswith(\"win\") and sys.version_info >= (3, 8):\n",
    "            import asyncio\n",
    " \n",
    "            try:\n",
    "                from asyncio import WindowsProactorEventLoopPolicy, WindowsSelectorEventLoopPolicy\n",
    "            except ImportError:\n",
    "                pass\n",
    "                # not affected\n",
    "           # else:\n",
    "            #    if type(asyncio.get_event_loop_policy()) is WindowsProactorEventLoopPolicy:\n",
    "                    # WindowsProactorEventLoopPolicy is not compatible with tornado 6\n",
    "                    # fallback to the pre-3.8 default of Selector\n",
    "                    # asyncio.set_event_loop_policy(WindowsSelectorEventLoopPolicy())\n",
    "```\n",
    "\n",
    "Thank you to student Nicolas for finding this, and to Kalyan, Yaki, Zibin and Bhaskar for confirming that this worked for them! And to Vladislav for the extra pointers.\n",
    "\n",
    "As an alternative, you can just move to a Python module (which we do anyway in Day 5)"
   ]
  },
  {
   "cell_type": "code",
   "execution_count": 5,
   "metadata": {},
   "outputs": [],
   "source": [
    "# Introducing nest_asyncio\n",
    "# Python async code only allows for one \"event loop\" processing aynchronous events.\n",
    "# The `nest_asyncio` library patches this, and is used for special situations, if you need to run a nested event loop.\n",
    "\n",
    "import nest_asyncio\n",
    "nest_asyncio.apply()"
   ]
  },
  {
   "cell_type": "markdown",
   "metadata": {},
   "source": [
    "### The LangChain community\n",
    "\n",
    "One of the remarkable things about LangChain is the rich community around it.\n",
    "\n",
    "Check this out:\n"
   ]
  },
  {
   "cell_type": "code",
   "execution_count": 6,
   "metadata": {},
   "outputs": [],
   "source": [
    "from langchain_community.agent_toolkits import PlayWrightBrowserToolkit\n",
    "from langchain_community.tools.playwright.utils import create_async_playwright_browser\n",
    "\n",
    "# If you get a NotImplementedError here or later, see the Heads Up at the top of the notebook\n",
    "\n",
    "async_browser =  create_async_playwright_browser(headless=False)  # headful mode\n",
    "toolkit = PlayWrightBrowserToolkit.from_browser(async_browser=async_browser)\n",
    "tools = toolkit.get_tools()"
   ]
  },
  {
   "cell_type": "code",
   "execution_count": 7,
   "metadata": {},
   "outputs": [
    {
     "name": "stdout",
     "output_type": "stream",
     "text": [
      "click_element=async_browser=<Browser type=<BrowserType name=chromium executable_path=C:\\Users\\trananhtu\\AppData\\Local\\ms-playwright\\chromium-1169\\chrome-win\\chrome.exe> version=136.0.7103.25>\n",
      "navigate_browser=async_browser=<Browser type=<BrowserType name=chromium executable_path=C:\\Users\\trananhtu\\AppData\\Local\\ms-playwright\\chromium-1169\\chrome-win\\chrome.exe> version=136.0.7103.25>\n",
      "previous_webpage=async_browser=<Browser type=<BrowserType name=chromium executable_path=C:\\Users\\trananhtu\\AppData\\Local\\ms-playwright\\chromium-1169\\chrome-win\\chrome.exe> version=136.0.7103.25>\n",
      "extract_text=async_browser=<Browser type=<BrowserType name=chromium executable_path=C:\\Users\\trananhtu\\AppData\\Local\\ms-playwright\\chromium-1169\\chrome-win\\chrome.exe> version=136.0.7103.25>\n",
      "extract_hyperlinks=async_browser=<Browser type=<BrowserType name=chromium executable_path=C:\\Users\\trananhtu\\AppData\\Local\\ms-playwright\\chromium-1169\\chrome-win\\chrome.exe> version=136.0.7103.25>\n",
      "get_elements=async_browser=<Browser type=<BrowserType name=chromium executable_path=C:\\Users\\trananhtu\\AppData\\Local\\ms-playwright\\chromium-1169\\chrome-win\\chrome.exe> version=136.0.7103.25>\n",
      "current_webpage=async_browser=<Browser type=<BrowserType name=chromium executable_path=C:\\Users\\trananhtu\\AppData\\Local\\ms-playwright\\chromium-1169\\chrome-win\\chrome.exe> version=136.0.7103.25>\n"
     ]
    }
   ],
   "source": [
    "for tool in tools:\n",
    "    print(f\"{tool.name}={tool}\")"
   ]
  },
  {
   "cell_type": "code",
   "execution_count": 10,
   "metadata": {},
   "outputs": [],
   "source": [
    "tool_dict = {tool.name:tool for tool in tools}\n",
    "\n",
    "navigate_tool = tool_dict.get(\"navigate_browser\")\n",
    "extract_text_tool = tool_dict.get(\"extract_text\")\n",
    "\n",
    "    \n",
    "await navigate_tool.arun({\"url\": \"https://www.cnn.com\"})\n",
    "text = await extract_text_tool.arun({})"
   ]
  },
  {
   "cell_type": "code",
   "execution_count": 11,
   "metadata": {},
   "outputs": [
    {
     "name": "stdout",
     "output_type": "stream",
     "text": [
      "Breaking News, Latest News and Videos | CNN CNN values your feedback\n",
      "1. How relevant is this ad to you? 2. Did you encounter any technical\n",
      "issues? No Video player was slow to load content Video content never\n",
      "loaded Ad froze or did not finish loading Video content did not start\n",
      "after ad Audio on ad was too loud Other issues Ad never loaded Ad\n",
      "prevented/slowed the page from loading Content moved around while ad\n",
      "loaded Ad was repetitive to ads I've seen previously Other issues\n",
      "Cancel Submit Thank You! Your effort and contribution in providing\n",
      "this feedback is much\n",
      "appreciated. Close Ad Feedback Close icon US World Politics Business\n",
      "Health Entertainment Style Travel Sports Science Climate Weather\n",
      "Ukraine-Russia War Israel-Hamas War Games More US World Politics\n",
      "Business Health Entertainment Style Travel Sports Science Climate\n",
      "Weather Ukraine-Russia War Israel-Hamas War Games Watch Listen Live TV\n",
      "Subscribe Sign in My Account Settings Newsletters Topics you follow\n",
      "Sign out Your CNN account Sign in to your CNN account Sign in My\n",
      "Account Settings Newsletters Topics you follow Sign out Your CNN\n",
      "account Sign in to your CNN account Live TV Listen Watch Edition US\n",
      "International Arabic Español Edition US International Arabic Español\n",
      "World Africa Americas Asia Australia China Europe India Middle East\n",
      "United Kingdom US Politics Trump Facts First CNN Polls 2025 Elections\n",
      "Business Tech Media Calculators Videos Markets Pre-markets After-Hours\n",
      "Fear & Greed Investing Markets Now Nightcap Health Life, But Better\n",
      "Fitness Food Sleep Mindfulness Relationships Entertainment Movies\n",
      "Television Celebrity Tech Innovate Foreseeable Future Mission: Ahead\n",
      "Work Transformed Innovative Cities Style Arts Design Fashion\n",
      "Architecture Luxury Beauty Video Travel Destinations Food & Drink Stay\n",
      "News Videos Sports Football Tennis Golf Motorsport US Sports Olympics\n",
      "Climbing Esports Hockey Science Space Life Unearthed Climate Solutions\n",
      "Weather Weather Video Climate Ukraine-Russia War Israel-Hamas War\n",
      "Features As Equals Call to Earth Freedom Project Impact Your World\n",
      "Inside Africa CNN Heroes Watch Live TV CNN Fast Shows A-Z CNN10 CNN\n",
      "Max CNN TV Schedules Listen CNN 5 Things Chasing Life with Dr. Sanjay\n",
      "Gupta The Assignment with Audie Cornish One Thing Tug of War CNN\n",
      "Political Briefing The Axe Files All There Is with Anderson Cooper All\n",
      "CNN Audio podcasts Games Daily Crossword Jumble Crossword Photo\n",
      "Shuffle Sudoblock Sudoku 5 Things Quiz About CNN Photos Investigations\n",
      "CNN Profiles CNN Leadership CNN Newsletters Work for CNN Follow CNN\n",
      "‘Showgirls’ at 30 Philippines earthquake A new living goddess\n",
      "$22-billion metro system Award-winning bird photos Lola Young\n",
      "Exploring new infertility treatments Trisnadi/AP Frantic rush to reach\n",
      "students missing for days after boarding school collapse in Indonesia\n",
      "• Analysis Analysis Dan Kitwood/Getty Images Keir Starmer is polling\n",
      "as the UK’s most unpopular prime minister on record. Where did it all\n",
      "go wrong? Daniel Ceng/Anadolu/Getty Images 6.9 magnitude earthquake\n",
      "kills more than 60 in central Philippines US government shuts down\n",
      "Show all • Live Updates Live Updates AP/Getty Images/Reuters • Live\n",
      "Updates Live Updates Live Updates Congress fails to agree to a funding\n",
      "extension by the deadline, triggering a shutdown for the first time in\n",
      "more than 6 years Leaders of both parties are privately and publicly\n",
      "adamant that they will not be blamed for the funding lapse Congress\n",
      "fails to agree to a funding extension by the deadline, triggering a\n",
      "shutdown for the first time in more than 6 years Video What will it\n",
      "take to get out of the shutdown? 1:35 What this might mean for flights\n",
      "and other travel in the US Video How a government shutdown may impact\n",
      "you 1:57 Play Catch up on today's global news • Source: CNN Video\n",
      "Catch up on today’s global news T. Carmack/Katmai National Park Fat\n",
      "Bear Week 2025 crowns a winner Subaas Shrestha/Nur Photo/Associated\n",
      "Press 2-year-old girl chosen in Nepal as new living goddess worshipped\n",
      "by both Hindus and Buddhists Ad Feedback More top stories Alex\n",
      "Wong/Getty Images Hegseth pushes to remake the military in his\n",
      "preferred image From ending conflicts to joining wars, Tony Blair vies\n",
      "for Gaza reconstruction job with credentials and controversy Japan is\n",
      "arming a warship with US missiles that can hit targets up to 1,000\n",
      "miles away as Pacific arms race heats up Analysis Greatness in the\n",
      "Middle East? Don’t hold your breath Video CNN fact-checks Trump’s\n",
      "claim about Biden and the military 4:15 Venezuela’s Maduro says he is\n",
      "ready to declare state of emergency if US attacks Video Why Jim Cramer\n",
      "was right about gold bars 3:50 Celebrities & Entertainment David\n",
      "Eulitt/Getty Images Taylor Swift is the most famous of all the WAGs,\n",
      "but will she change because of it? Probably not Marleen Moise/Getty\n",
      "Images Lola Young cancels performances ‘for the foreseeable future’\n",
      "days after collapsing on stage Oct 1, 2025 Gilbert\n",
      "Flores/Variety/Getty Images Michelle Pfeiffer shares she’s now a\n",
      "grandmother Sep 30, 2025 Ad Feedback Travel & beyond Royal Commission\n",
      "for Riyadh City Like no other commute on the planet: Inside Saudi\n",
      "Arabia’s dazzling $22-billion metro system • Video 23:02 Clipped From\n",
      "Video Video Off road and off the grid in Angola’s untouched south\n",
      "23:02 Ad Feedback Art & Style Morris Lum Documenting gentrifying\n",
      "Chinatowns, one photo at a time Murray Close/Mgm/Ua/Kobal/Shutterstock\n",
      "‘Showgirls’ at 30: In a movie about stripping, costumes did more than\n",
      "you realize • Video 2:15 CNN This 3D printed mobile kit for the\n",
      "homeless unfolds into a bed and kitchen 2:15 Ad Feedback More US\n",
      "politics Angelina Katsanis/AP Candid photo of Scott Bessent’s phone\n",
      "reveals administration’s concern about two key Trump policies\n",
      "President Donald Trump/Truth Social White House withdraws Trump’s\n",
      "controversial nominee to lead BLS after ousting predecessor over jobs\n",
      "data Win McNamee/Getty Images Mitt Romney reveals he personally urged\n",
      "Biden administration to preemptively pardon Donald Trump SPORTS Steve\n",
      "Marcus/Getty Images Boxer Terence Crawford held at gunpoint during\n",
      "traffic stop, police say Eric Thayer/AP Kawhi Leonard denies\n",
      "wrongdoing as NBA investigates his endorsement deal Vyacheslav\n",
      "Oseledko/AFP/Getty Images Why one of the world’s biggest soccer teams\n",
      "is traveling 4,000 miles to play a Champions League match in Asia Ad\n",
      "Feedback BUSINESS & TECH From Particle6 Hollywood is fuming over a new\n",
      "‘AI actress’ US agency sues Apple for alleged discrimination against\n",
      "Jewish worker Science Mitalipov Laboratory Scientists use human skin\n",
      "cells to create functional eggs, opening a door to new infertility\n",
      "treatments A blue jay and a green jay mated, researchers say. Their\n",
      "offspring is a scientific marvel Crime & Investigations Dennis Van\n",
      "Tine/dpa/picture alliance/Photoshot/Sipa Colorado investigators to\n",
      "review author Hunter S. Thompson’s death more than two decades after\n",
      "it was ruled a suicide Georgia’s highest court sides with slave\n",
      "descendants fighting to protect threatened island community Ad\n",
      "Feedback As Equals CNN Report reveals hidden reality of child\n",
      "marriage. Three girls share the impact on their lives In a city\n",
      "perilous for female cabbies, a women-only taxi service finds its niche\n",
      "Climate & extreme weather Evelyn Hockstein/Reuters/File Trump is\n",
      "handing out public land and millions of dollars to revive big coal,\n",
      "sending advocates reeling Imelda strengthens as US coast feels\n",
      "impacts. Bermuda prepares for twin storms Health & wellness Oscar\n",
      "Wong/Moment RF/Getty Images Hydration — why it matters, how much you\n",
      "need and when to adjust Trump wants to bring back ‘insane asylums’.\n",
      "His policies make that harder World of Wonder Show all The Asahi\n",
      "Shimbun/Getty Images 24 of the world’s most unusual landscapes\n",
      "Whitworth Images/Moment RF/Getty Images Why only 400 people at a time\n",
      "can visit this paradise island Azhar Al-Rubaie Babylon was once an\n",
      "ancient wonder. Today it’s a very different story Lyle Johnson/Design\n",
      "Pics Editorial/Universal Images Group/Getty Images World’s most\n",
      "beautiful castles Ad Feedback More from CNN • Personal essay Personal\n",
      "essay Austin Steele/CNN • Personal essay Personal essay Personal essay\n",
      "I have been in 8 weddings, then had my own, and here is what I learned\n",
      "Denmark, rattled by mysterious UAV sightings, bans drone flights ahead\n",
      "of European Union summit Namibia sends in army to fight devastating\n",
      "wildfire in game reserve Here’s how to get a refund from the historic\n",
      "Amazon Prime settlement Acetaminophen use during pregnancy not linked\n",
      "to autism, our study of 2.5 million children shows FBI fires agents\n",
      "seen kneeling in iconic photo during George Floyd protests five years\n",
      "ago Prince William says 2024 was the hardest year of his life Analysis\n",
      "10 years ago ‘I am Charlie’ was born. Now it means something very\n",
      "different Tokyo takes the top spot in ‘world’s coolest’ neighborhood\n",
      "rankings (with London and Chicago close behind) Subscribe Sign in My\n",
      "Account Settings Newsletters Topics you follow Sign out Your CNN\n",
      "account Sign in to your CNN account Live TV Listen Watch World Africa\n",
      "Americas Asia Australia China Europe India Middle East United Kingdom\n",
      "US Politics Trump Facts First CNN Polls 2025 Elections Business Tech\n",
      "Media Calculators Videos Markets Pre-markets After-Hours Fear & Greed\n",
      "Investing Markets Now Nightcap Health Life, But Better Fitness Food\n",
      "Sleep Mindfulness Relationships Entertainment Movies Television\n",
      "Celebrity Tech Innovate Foreseeable Future Mission: Ahead Work\n",
      "Transformed Innovative Cities Style Arts Design Fashion Architecture\n",
      "Luxury Beauty Video Travel Destinations Food & Drink Stay News Videos\n",
      "Sports Football Tennis Golf Motorsport US Sports Olympics Climbing\n",
      "Esports Hockey Science Space Life Unearthed Climate Solutions Weather\n",
      "Weather Video Climate Ukraine-Russia War Israel-Hamas War Features As\n",
      "Equals Call to Earth Freedom Project Impact Your World Inside Africa\n",
      "CNN Heroes Watch Live TV CNN Fast Shows A-Z CNN10 CNN Max CNN TV\n",
      "Schedules Listen CNN 5 Things Chasing Life with Dr. Sanjay Gupta The\n",
      "Assignment with Audie Cornish One Thing Tug of War CNN Political\n",
      "Briefing The Axe Files All There Is with Anderson Cooper All CNN Audio\n",
      "podcasts Games Daily Crossword Jumble Crossword Photo Shuffle\n",
      "Sudoblock Sudoku 5 Things Quiz About CNN Photos Investigations CNN\n",
      "Profiles CNN Leadership CNN Newsletters Work for CNN Watch Listen Live\n",
      "TV Follow CNN Subscribe Sign in My Account Settings Newsletters Topics\n",
      "you follow Sign out Your CNN account Sign in to your CNN account Terms\n",
      "of Use Privacy Policy Manage Cookies Ad Choices Accessibility & CC\n",
      "About Newsletters Transcripts © 2025 Cable News Network. A Warner\n",
      "Bros. Discovery Company. All Rights Reserved. CNN Sans ™ & © 2016\n",
      "Cable News Network. Privacy Policy For privacy options, please see our\n",
      "privacy policy: https://www.cnn.com/privacy . Back Button Cookie List\n",
      "Search Icon Filter Icon Clear checkbox label label Apply Cancel\n",
      "Consent Leg.Interest checkbox label label checkbox label label\n",
      "checkbox label label Close\n"
     ]
    }
   ],
   "source": [
    "import textwrap\n",
    "print(textwrap.fill(text))"
   ]
  },
  {
   "cell_type": "code",
   "execution_count": 12,
   "metadata": {},
   "outputs": [],
   "source": [
    "all_tools = tools + [tool_push]"
   ]
  },
  {
   "cell_type": "code",
   "execution_count": 13,
   "metadata": {},
   "outputs": [],
   "source": [
    "\n",
    "# llm = ChatOpenAI(model=\"gpt-4o-mini\")\n",
    "llm = AzureChatOpenAI(\n",
    "    api_key=os.getenv(\"AZURE_OPENAI_API_KEY\"),\n",
    "    api_version=os.getenv(\"AZURE_OPENAI_API_VERSION\"),\n",
    "    azure_endpoint=os.getenv(\"AZURE_OPENAI_ENDPOINT\"),\n",
    "    deployment_name=os.getenv(\"AZURE_OPENAI_DEPLOYMENT\")\n",
    ")\n",
    "llm_with_tools = llm.bind_tools(all_tools)\n",
    "\n",
    "\n",
    "def chatbot(state: State):\n",
    "    return {\"messages\": [llm_with_tools.invoke(state[\"messages\"])]}\n"
   ]
  },
  {
   "cell_type": "code",
   "execution_count": 14,
   "metadata": {},
   "outputs": [
    {
     "data": {
      "image/png": "[encoded data removed]",
      "text/plain": [
       "<IPython.core.display.Image object>"
      ]
     },
     "metadata": {},
     "output_type": "display_data"
    }
   ],
   "source": [
    "\n",
    "graph_builder = StateGraph(State)\n",
    "graph_builder.add_node(\"chatbot\", chatbot)\n",
    "graph_builder.add_node(\"tools\", ToolNode(tools=all_tools))\n",
    "graph_builder.add_conditional_edges( \"chatbot\", tools_condition, \"tools\")\n",
    "graph_builder.add_edge(\"tools\", \"chatbot\")\n",
    "graph_builder.add_edge(START, \"chatbot\")\n",
    "\n",
    "memory = MemorySaver()\n",
    "graph = graph_builder.compile(checkpointer=memory)\n",
    "display(Image(graph.get_graph().draw_mermaid_png()))"
   ]
  },
  {
   "cell_type": "code",
   "execution_count": 15,
   "metadata": {},
   "outputs": [
    {
     "name": "stdout",
     "output_type": "stream",
     "text": [
      "* Running on local URL:  http://127.0.0.1:7861\n",
      "* To create a public link, set `share=True` in `launch()`.\n"
     ]
    },
    {
     "data": {
      "text/html": [
       "<div><iframe src=\"http://127.0.0.1:7861/\" width=\"100%\" height=\"500\" allow=\"autoplay; camera; microphone; clipboard-read; clipboard-write;\" frameborder=\"0\" allowfullscreen></iframe></div>"
      ],
      "text/plain": [
       "<IPython.core.display.HTML object>"
      ]
     },
     "metadata": {},
     "output_type": "display_data"
    },
    {
     "data": {
      "text/plain": []
     },
     "execution_count": 15,
     "metadata": {},
     "output_type": "execute_result"
    }
   ],
   "source": [
    "config = {\"configurable\": {\"thread_id\": \"10\"}}\n",
    "\n",
    "async def chat(user_input: str, history):\n",
    "    result = await graph.ainvoke({\"messages\": [{\"role\": \"user\", \"content\": user_input}]}, config=config)\n",
    "    return result[\"messages\"][-1].content\n",
    "\n",
    "\n",
    "gr.ChatInterface(chat, type=\"messages\").launch()"
   ]
  }
 ],
 "metadata": {
  "kernelspec": {
   "display_name": ".venv",
   "language": "python",
   "name": "python3"
  },
  "language_info": {
   "codemirror_mode": {
    "name": "ipython",
    "version": 3
   },
   "file_extension": ".py",
   "mimetype": "text/x-python",
   "name": "python",
   "nbconvert_exporter": "python",
   "pygments_lexer": "ipython3",
   "version": "3.12.11"
  }
 },
 "nbformat": 4,
 "nbformat_minor": 2
}
