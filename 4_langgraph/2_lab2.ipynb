{
 "cells": [
  {
   "cell_type": "markdown",
   "metadata": {},
   "source": [
    "### And welcome to Week 4, Day 3 - more LangGraph.."
   ]
  },
  {
   "cell_type": "code",
   "execution_count": 92,
   "metadata": {},
   "outputs": [],
   "source": [
    "from typing import Annotated\n",
    "from langgraph.graph import StateGraph, START\n",
    "from langgraph.graph.message import add_messages\n",
    "from dotenv import load_dotenv\n",
    "from IPython.display import Image, display\n",
    "import gradio as gr\n",
    "from langgraph.prebuilt import ToolNode, tools_condition\n",
    "import requests\n",
    "import os\n",
    "from langchain_openai import ChatOpenAI, AzureChatOpenAI\n",
    "from typing import TypedDict\n"
   ]
  },
  {
   "cell_type": "code",
   "execution_count": 93,
   "metadata": {},
   "outputs": [
    {
     "data": {
      "text/plain": [
       "True"
      ]
     },
     "execution_count": 93,
     "metadata": {},
     "output_type": "execute_result"
    }
   ],
   "source": [
    "# Our favorite first step! Crew was doing this for us, by the way.\n",
    "load_dotenv(override=True)\n"
   ]
  },
  {
   "cell_type": "markdown",
   "metadata": {},
   "source": [
    "### First, let's go set up LangSmith!\n",
    "\n",
    "https://langsmith.com"
   ]
  },
  {
   "cell_type": "markdown",
   "metadata": {},
   "source": [
    "### Next, here is a useful function in LangChain community:"
   ]
  },
  {
   "cell_type": "code",
   "execution_count": 94,
   "metadata": {},
   "outputs": [
    {
     "data": {
      "text/plain": [
       "'Paris is the capital and most populous city of France. Situated on the Seine River, in the north of the country, it is in the centre of the Île-de-France ... Paris is the capital and largest city of France, with an estimated city center population of 2,048,472, and a metropolitan population of 13,171,056 as of ... Paris is the capital of France, the largest country of Europe with 550 000 km2 (65 millions inhabitants). Paris has 2.234 million inhabitants end 2011. The capital of France has been Paris since its liberation in 1944. Paris, city and capital of France, located along the Seine River, in the north-central part of the country. Paris is one of the world\\'s most important and ... Paris is the city of romance par excellence, the fashion capital and the best example of French art de vivre. Exploring Paris is an essential rite of passage ... Paris, the capital of France, is often referred to as the \"City of Light\" and is renowned for its art, culture, and history. It is home to ... Paris is the capital city of France and a cultural and culinary hub. In 2024 it played host to its third Olympic Games. Paris, situated on the river Seine ... Paris Capital City Of France In 4K Ultra HD Video | Paris, France Capital And Largest City | Paris Is A Major European City And A Global ... The capital and by far the most important city of France is Paris, one of the world\\'s preeminent cultural and commercial centres.'"
      ]
     },
     "execution_count": 94,
     "metadata": {},
     "output_type": "execute_result"
    }
   ],
   "source": [
    "from langchain_community.utilities import GoogleSerperAPIWrapper\n",
    "\n",
    "serper = GoogleSerperAPIWrapper()\n",
    "serper.run(\"What is the capital of France?\")"
   ]
  },
  {
   "cell_type": "markdown",
   "metadata": {},
   "source": [
    "### Now here is a LangChain wrapper class for converting functions into Tools"
   ]
  },
  {
   "cell_type": "code",
   "execution_count": 95,
   "metadata": {},
   "outputs": [],
   "source": [
    "from langchain.agents import Tool\n",
    "\n",
    "tool_search =Tool(\n",
    "        name=\"search\",\n",
    "        func=serper.run,\n",
    "        description=\"Useful for when you need more information from an online search\"\n",
    "    )\n",
    "\n"
   ]
  },
  {
   "cell_type": "markdown",
   "metadata": {},
   "source": [
    "### Now we can try out the tool the langchain way"
   ]
  },
  {
   "cell_type": "code",
   "execution_count": 96,
   "metadata": {},
   "outputs": [
    {
     "data": {
      "text/plain": [
       "'Paris is the capital and most populous city of France. Situated on the Seine River, in the north of the country, it is in the centre of the Île-de-France ... Paris is the capital and largest city of France, with an estimated city center population of 2,048,472, and a metropolitan population of 13,171,056 as of ... Paris is the capital of France, the largest country of Europe with 550 000 km2 (65 millions inhabitants). Paris has 2.234 million inhabitants end 2011. The capital of France has been Paris since its liberation in 1944. Paris, city and capital of France, located along the Seine River, in the north-central part of the country. Paris is one of the world\\'s most important and ... Paris is the city of romance par excellence, the fashion capital and the best example of French art de vivre. Exploring Paris is an essential rite of passage ... Paris, the capital of France, is often referred to as the \"City of Light\" and is renowned for its art, culture, and history. It is home to ... Paris is the capital city of France and a cultural and culinary hub. In 2024 it played host to its third Olympic Games. Paris, situated on the river Seine ... Paris Capital City Of France In 4K Ultra HD Video | Paris, France Capital And Largest City | Paris Is A Major European City And A Global ... The capital and by far the most important city of France is Paris, one of the world\\'s preeminent cultural and commercial centres.'"
      ]
     },
     "execution_count": 96,
     "metadata": {},
     "output_type": "execute_result"
    }
   ],
   "source": [
    "tool_search.invoke(\"What is the capital of France?\")"
   ]
  },
  {
   "cell_type": "markdown",
   "metadata": {},
   "source": [
    "### And now let's write a tool ourselves\n",
    "\n",
    "We'll pick a familiar one"
   ]
  },
  {
   "cell_type": "code",
   "execution_count": 97,
   "metadata": {},
   "outputs": [],
   "source": [
    "pushover_token = os.getenv(\"PUSHOVER_TOKEN\")\n",
    "pushover_user = os.getenv(\"PUSHOVER_USER\")\n",
    "pushover_url = \"https://api.pushover.net/1/messages.json\"\n",
    "\n",
    "def push(text: str):\n",
    "    \"\"\"Send a push notification to the user\"\"\"\n",
    "    requests.post(pushover_url, data = {\"token\": pushover_token, \"user\": pushover_user, \"message\": text})"
   ]
  },
  {
   "cell_type": "code",
   "execution_count": 98,
   "metadata": {},
   "outputs": [],
   "source": [
    "tool_push = Tool(\n",
    "        name=\"send_push_notification\",\n",
    "        func=push,\n",
    "        description=\"useful for when you want to send a push notification\"\n",
    "    )\n",
    "\n",
    "tool_push.invoke(\"Hello, me\")"
   ]
  },
  {
   "cell_type": "markdown",
   "metadata": {},
   "source": [
    "### Back to the Graph from yesterday\n",
    "\n",
    "One small change - using TypedDict instead of BaseModel for the State object\n",
    "\n",
    "When we implement tools, we always need to make 2 changes to the code:\n",
    "\n",
    "1. Changes to provide the tools to OpenAI in json when we make the call\n",
    "\n",
    "2. Changes to handle the results back: look for the model staying that the finish_reason==\"tool_calls\" and then retrieve the call, run the function, provide the results."
   ]
  },
  {
   "cell_type": "markdown",
   "metadata": {},
   "source": [
    "### Bring them together"
   ]
  },
  {
   "cell_type": "code",
   "execution_count": 99,
   "metadata": {},
   "outputs": [],
   "source": [
    "tools = [tool_search, tool_push]"
   ]
  },
  {
   "cell_type": "code",
   "execution_count": 100,
   "metadata": {},
   "outputs": [],
   "source": [
    "# Step 1: Define the State object\n",
    "class State(TypedDict):\n",
    "    messages: Annotated[list, add_messages]"
   ]
  },
  {
   "cell_type": "code",
   "execution_count": 101,
   "metadata": {},
   "outputs": [],
   "source": [
    "# Step 2: Start the Graph Builder with this State class\n",
    "graph_builder = StateGraph(State)"
   ]
  },
  {
   "cell_type": "code",
   "execution_count": 102,
   "metadata": {},
   "outputs": [],
   "source": [
    "# This is different:\n",
    "\n",
    "# llm = ChatOpenAI(model=\"gpt-4o-mini\")\n",
    "llm = AzureChatOpenAI(\n",
    "    api_key=os.getenv(\"AZURE_OPENAI_API_KEY\"),\n",
    "    api_version=os.getenv(\"AZURE_OPENAI_API_VERSION\"),\n",
    "    azure_endpoint=os.getenv(\"AZURE_OPENAI_ENDPOINT\"),\n",
    "    deployment_name=os.getenv(\"AZURE_OPENAI_DEPLOYMENT\")\n",
    ")\n",
    "llm_with_tools = llm.bind_tools(tools)"
   ]
  },
  {
   "cell_type": "code",
   "execution_count": 103,
   "metadata": {},
   "outputs": [
    {
     "data": {
      "text/plain": [
       "<langgraph.graph.state.StateGraph at 0x21aca7f5be0>"
      ]
     },
     "execution_count": 103,
     "metadata": {},
     "output_type": "execute_result"
    }
   ],
   "source": [
    "# Step 3: Create a Node\n",
    "\n",
    "\n",
    "def chatbot(state: State):\n",
    "    return {\"messages\": [llm_with_tools.invoke(state[\"messages\"])]}\n",
    "\n",
    "graph_builder.add_node(\"chatbot\", chatbot)\n",
    "graph_builder.add_node(\"tools\", ToolNode(tools=tools))"
   ]
  },
  {
   "cell_type": "code",
   "execution_count": 104,
   "metadata": {},
   "outputs": [
    {
     "data": {
      "text/plain": [
       "<langgraph.graph.state.StateGraph at 0x21aca7f5be0>"
      ]
     },
     "execution_count": 104,
     "metadata": {},
     "output_type": "execute_result"
    }
   ],
   "source": [
    "# Step 4: Create Edges\n",
    "\n",
    "\n",
    "graph_builder.add_conditional_edges( \"chatbot\", tools_condition, \"tools\")\n",
    "\n",
    "# Any time a tool is called, we return to the chatbot to decide the next step\n",
    "graph_builder.add_edge(\"tools\", \"chatbot\")\n",
    "graph_builder.add_edge(START, \"chatbot\")"
   ]
  },
  {
   "cell_type": "code",
   "execution_count": 105,
   "metadata": {},
   "outputs": [
    {
     "data": {
      "image/png": "[encoded data removed]",
      "text/plain": [
       "<IPython.core.display.Image object>"
      ]
     },
     "metadata": {},
     "output_type": "display_data"
    }
   ],
   "source": [
    "# Step 5: Compile the Graph\n",
    "graph = graph_builder.compile()\n",
    "display(Image(graph.get_graph().draw_mermaid_png()))"
   ]
  },
  {
   "cell_type": "markdown",
   "metadata": {},
   "source": [
    "### That's it! And, let's do this:"
   ]
  },
  {
   "cell_type": "markdown",
   "metadata": {},
   "source": []
  },
  {
   "cell_type": "code",
   "execution_count": 106,
   "metadata": {},
   "outputs": [
    {
     "name": "stdout",
     "output_type": "stream",
     "text": [
      "* Running on local URL:  http://127.0.0.1:7866\n",
      "* To create a public link, set `share=True` in `launch()`.\n"
     ]
    },
    {
     "data": {
      "text/html": [
       "<div><iframe src=\"http://127.0.0.1:7866/\" width=\"100%\" height=\"500\" allow=\"autoplay; camera; microphone; clipboard-read; clipboard-write;\" frameborder=\"0\" allowfullscreen></iframe></div>"
      ],
      "text/plain": [
       "<IPython.core.display.HTML object>"
      ]
     },
     "metadata": {},
     "output_type": "display_data"
    },
    {
     "data": {
      "text/plain": []
     },
     "execution_count": 106,
     "metadata": {},
     "output_type": "execute_result"
    }
   ],
   "source": [
    "def chat(user_input: str, history):\n",
    "    result = graph.invoke({\"messages\": [{\"role\": \"user\", \"content\": user_input}]})\n",
    "    return result[\"messages\"][-1].content\n",
    "\n",
    "\n",
    "gr.ChatInterface(chat, type=\"messages\").launch()"
   ]
  },
  {
   "cell_type": "markdown",
   "metadata": {},
   "source": [
    "## OK it's time to add Memory!\n",
    "\n",
    "### BUT WAIT!\n",
    "\n",
    "We have this whole Graph maintaining the state and appending to the state.\n",
    "\n",
    "Why isn't this handling memory?\n",
    "\n",
    "### This is a crucial point for understanding LangGraph\n",
    "\n",
    "> A super-step can be considered a single iteration over the graph nodes. Nodes that run in parallel are part of the same super-step, while nodes that run sequentially belong to separate super-steps.\n",
    "\n",
    "\n",
    "One \"Super-Step\" of the graph represents one invocation of passing messages between agents.\n",
    "\n",
    "In idomatic LangGraph, you call invoke to run your graph for each super-step; for each interaction.\n",
    "\n",
    "The reducer handles state updates automatically within one super-step, but not between them.\n",
    "\n",
    "That is what checkpointing achieves."
   ]
  },
  {
   "cell_type": "code",
   "execution_count": 107,
   "metadata": {},
   "outputs": [],
   "source": [
    "from langgraph.checkpoint.memory import MemorySaver\n",
    "\n",
    "memory = MemorySaver()"
   ]
  },
  {
   "cell_type": "code",
   "execution_count": 108,
   "metadata": {},
   "outputs": [
    {
     "data": {
      "image/png": "[encoded data removed]",
      "text/plain": [
       "<IPython.core.display.Image object>"
      ]
     },
     "metadata": {},
     "output_type": "display_data"
    }
   ],
   "source": [
    "# Steps 1 and 2\n",
    "graph_builder = StateGraph(State)\n",
    "\n",
    "\n",
    "# Step 3\n",
    "llm = ChatOpenAI(model=\"gpt-4o-mini\")\n",
    "llm_with_tools = llm.bind_tools(tools)\n",
    "\n",
    "def chatbot(state: State):\n",
    "    print(state)\n",
    "    return {\"messages\": [llm_with_tools.invoke(state[\"messages\"])]}\n",
    "\n",
    "graph_builder.add_node(\"chatbot\", chatbot)\n",
    "graph_builder.add_node(\"tools\", ToolNode(tools=tools))\n",
    "\n",
    "# Step 4\n",
    "graph_builder.add_conditional_edges( \"chatbot\", tools_condition, \"tools\")\n",
    "graph_builder.add_edge(\"tools\", \"chatbot\")\n",
    "graph_builder.add_edge(START, \"chatbot\")\n",
    "\n",
    "# Step 5\n",
    "graph = graph_builder.compile(checkpointer=memory)\n",
    "display(Image(graph.get_graph().draw_mermaid_png()))"
   ]
  },
  {
   "cell_type": "code",
   "execution_count": 109,
   "metadata": {},
   "outputs": [
    {
     "name": "stdout",
     "output_type": "stream",
     "text": [
      "* Running on local URL:  http://127.0.0.1:7867\n",
      "* To create a public link, set `share=True` in `launch()`.\n"
     ]
    },
    {
     "data": {
      "text/html": [
       "<div><iframe src=\"http://127.0.0.1:7867/\" width=\"100%\" height=\"500\" allow=\"autoplay; camera; microphone; clipboard-read; clipboard-write;\" frameborder=\"0\" allowfullscreen></iframe></div>"
      ],
      "text/plain": [
       "<IPython.core.display.HTML object>"
      ]
     },
     "metadata": {},
     "output_type": "display_data"
    },
    {
     "data": {
      "text/plain": []
     },
     "execution_count": 109,
     "metadata": {},
     "output_type": "execute_result"
    }
   ],
   "source": [
    "config = {\"configurable\": {\"thread_id\": \"1\"}}\n",
    "\n",
    "def chat(user_input: str, history):\n",
    "    result = graph.invoke({\"messages\": [{\"role\": \"user\", \"content\": user_input}]}, config=config)\n",
    "    return result[\"messages\"][-1].content\n",
    "\n",
    "\n",
    "gr.ChatInterface(chat, type=\"messages\").launch()"
   ]
  },
  {
   "cell_type": "code",
   "execution_count": 110,
   "metadata": {},
   "outputs": [
    {
     "data": {
      "text/plain": [
       "StateSnapshot(values={}, next=(), config={'configurable': {'thread_id': '1'}}, metadata=None, created_at=None, parent_config=None, tasks=(), interrupts=())"
      ]
     },
     "execution_count": 110,
     "metadata": {},
     "output_type": "execute_result"
    }
   ],
   "source": [
    "graph.get_state(config)"
   ]
  },
  {
   "cell_type": "code",
   "execution_count": 111,
   "metadata": {},
   "outputs": [
    {
     "data": {
      "text/plain": [
       "[]"
      ]
     },
     "execution_count": 111,
     "metadata": {},
     "output_type": "execute_result"
    }
   ],
   "source": [
    "# Most recent first\n",
    "\n",
    "list(graph.get_state_history(config))"
   ]
  },
  {
   "cell_type": "markdown",
   "metadata": {},
   "source": [
    "### LangGraph gives you tools to set the state back to a prior point in time, to branch off:\n",
    "\n",
    "```\n",
    "config = {\"configurable\": {\"thread_id\": \"1\", \"checkpoint_id\": ...}}\n",
    "graph.invoke(None, config=config)\n",
    "```\n",
    "\n",
    "And this allows you to build stable systems that can be recovered and rerun from any prior checkpoint."
   ]
  },
  {
   "cell_type": "markdown",
   "metadata": {},
   "source": [
    "### And now let's store in SQL\n",
    "\n",
    "### And this is the power of LangGraph."
   ]
  },
  {
   "cell_type": "code",
   "execution_count": 112,
   "metadata": {},
   "outputs": [],
   "source": [
    "import sqlite3\n",
    "from langgraph.checkpoint.sqlite import SqliteSaver\n",
    "\n",
    "db_path = \"memory.db\"\n",
    "conn = sqlite3.connect(db_path, check_same_thread=False)\n",
    "sql_memory = SqliteSaver(conn)"
   ]
  },
  {
   "cell_type": "code",
   "execution_count": 113,
   "metadata": {},
   "outputs": [
    {
     "data": {
      "image/png": "[encoded data removed]",
      "text/plain": [
       "<IPython.core.display.Image object>"
      ]
     },
     "metadata": {},
     "output_type": "display_data"
    }
   ],
   "source": [
    "# Steps 1 and 2\n",
    "graph_builder = StateGraph(State)\n",
    "\n",
    "\n",
    "# Step 3\n",
    "llm = ChatOpenAI(model=\"gpt-4o-mini\")\n",
    "llm_with_tools = llm.bind_tools(tools)\n",
    "\n",
    "def chatbot(state: State):\n",
    "    print(state)\n",
    "    return {\"messages\": [llm_with_tools.invoke(state[\"messages\"])]}\n",
    "\n",
    "graph_builder.add_node(\"chatbot\", chatbot)\n",
    "graph_builder.add_node(\"tools\", ToolNode(tools=tools))\n",
    "\n",
    "# Step 4\n",
    "graph_builder.add_conditional_edges( \"chatbot\", tools_condition, \"tools\")\n",
    "graph_builder.add_edge(\"tools\", \"chatbot\")\n",
    "graph_builder.add_edge(START, \"chatbot\")\n",
    "\n",
    "# Step 5\n",
    "graph = graph_builder.compile(checkpointer=sql_memory)\n",
    "display(Image(graph.get_graph().draw_mermaid_png()))\n",
    " "
   ]
  },
  {
   "cell_type": "code",
   "execution_count": 114,
   "metadata": {},
   "outputs": [
    {
     "name": "stdout",
     "output_type": "stream",
     "text": [
      "* Running on local URL:  http://127.0.0.1:7868\n",
      "* To create a public link, set `share=True` in `launch()`.\n"
     ]
    },
    {
     "data": {
      "text/html": [
       "<div><iframe src=\"http://127.0.0.1:7868/\" width=\"100%\" height=\"500\" allow=\"autoplay; camera; microphone; clipboard-read; clipboard-write;\" frameborder=\"0\" allowfullscreen></iframe></div>"
      ],
      "text/plain": [
       "<IPython.core.display.HTML object>"
      ]
     },
     "metadata": {},
     "output_type": "display_data"
    },
    {
     "data": {
      "text/plain": []
     },
     "execution_count": 114,
     "metadata": {},
     "output_type": "execute_result"
    },
    {
     "name": "stdout",
     "output_type": "stream",
     "text": [
      "{'messages': [HumanMessage(content='hi there', additional_kwargs={}, response_metadata={}, id='d6144090-9963-438c-b21b-3fb4f06edbc0'), AIMessage(content='Hello! How can I assist you today?', additional_kwargs={'refusal': None}, response_metadata={'token_usage': {'completion_tokens': 11, 'prompt_tokens': 90, 'total_tokens': 101, 'completion_tokens_details': {'accepted_prediction_tokens': 0, 'audio_tokens': 0, 'reasoning_tokens': 0, 'rejected_prediction_tokens': 0}, 'prompt_tokens_details': {'audio_tokens': 0, 'cached_tokens': 0}}, 'model_name': 'gpt-4o-mini-2024-07-18', 'system_fingerprint': 'fp_b376dfbbd5', 'id': 'chatcmpl-BInN7JUnEYNTQqokCF3eihp5oKP0V', 'finish_reason': 'stop', 'logprobs': None}, id='run-4b488710-73ac-435e-a944-913a0c812d08-0', usage_metadata={'input_tokens': 90, 'output_tokens': 11, 'total_tokens': 101, 'input_token_details': {'audio': 0, 'cache_read': 0}, 'output_token_details': {'audio': 0, 'reasoning': 0}}), HumanMessage(content=\"what's my name\", additional_kwargs={}, response_metadata={}, id='0ee3236f-a0f8-487c-9e18-3a1a83e91d81'), AIMessage(content=\"I don't have access to personal information unless you provide it. What would you like me to call you?\", additional_kwargs={'refusal': None}, response_metadata={'token_usage': {'completion_tokens': 23, 'prompt_tokens': 111, 'total_tokens': 134, 'completion_tokens_details': {'accepted_prediction_tokens': 0, 'audio_tokens': 0, 'reasoning_tokens': 0, 'rejected_prediction_tokens': 0}, 'prompt_tokens_details': {'audio_tokens': 0, 'cached_tokens': 0}}, 'model_name': 'gpt-4o-mini-2024-07-18', 'system_fingerprint': 'fp_b376dfbbd5', 'id': 'chatcmpl-BInNEm0T32rf7Lx23sOvrcePfgL8d', 'finish_reason': 'stop', 'logprobs': None}, id='run-c12bd46c-0c94-475c-b281-89773b1947a2-0', usage_metadata={'input_tokens': 111, 'output_tokens': 23, 'total_tokens': 134, 'input_token_details': {'audio': 0, 'cache_read': 0}, 'output_token_details': {'audio': 0, 'reasoning': 0}}), HumanMessage(content=\"My name's Ed\", additional_kwargs={}, response_metadata={}, id='65e59191-b993-4faf-9699-197f70b79fcd'), AIMessage(content='Nice to meet you, Ed! How can I assist you today?', additional_kwargs={'refusal': None}, response_metadata={'token_usage': {'completion_tokens': 16, 'prompt_tokens': 144, 'total_tokens': 160, 'completion_tokens_details': {'accepted_prediction_tokens': 0, 'audio_tokens': 0, 'reasoning_tokens': 0, 'rejected_prediction_tokens': 0}, 'prompt_tokens_details': {'audio_tokens': 0, 'cached_tokens': 0}}, 'model_name': 'gpt-4o-mini-2024-07-18', 'system_fingerprint': 'fp_b376dfbbd5', 'id': 'chatcmpl-BInNLLW9Z5vrmr2MUfk6CLJBnCMOg', 'finish_reason': 'stop', 'logprobs': None}, id='run-68e08e4e-bc27-4802-b800-8fb359a5d976-0', usage_metadata={'input_tokens': 144, 'output_tokens': 16, 'total_tokens': 160, 'input_token_details': {'audio': 0, 'cache_read': 0}, 'output_token_details': {'audio': 0, 'reasoning': 0}}), HumanMessage(content='hi there', additional_kwargs={}, response_metadata={}, id='dfeeb914-53d6-404f-9a5c-0531f1fe43fe'), AIMessage(content='Hello again, Ed! How can I help you today?', additional_kwargs={'refusal': None}, response_metadata={'token_usage': {'completion_tokens': 14, 'prompt_tokens': 168, 'total_tokens': 182, 'completion_tokens_details': {'accepted_prediction_tokens': 0, 'audio_tokens': 0, 'reasoning_tokens': 0, 'rejected_prediction_tokens': 0}, 'prompt_tokens_details': {'audio_tokens': 0, 'cached_tokens': 0}}, 'model_name': 'gpt-4o-mini-2024-07-18', 'system_fingerprint': 'fp_b376dfbbd5', 'id': 'chatcmpl-BInOS7TKECQA9Trbcv3mBsxkVJ8c3', 'finish_reason': 'stop', 'logprobs': None}, id='run-8b9e7d2c-d34d-4d84-99d2-dcb6b26b84bf-0', usage_metadata={'input_tokens': 168, 'output_tokens': 14, 'total_tokens': 182, 'input_token_details': {'audio': 0, 'cache_read': 0}, 'output_token_details': {'audio': 0, 'reasoning': 0}}), HumanMessage(content='please send me a push notification with the current usd/gbp exchange rate', additional_kwargs={}, response_metadata={}, id='6e096518-8d44-40e9-8aba-bf5027dac79c'), AIMessage(content='', additional_kwargs={'tool_calls': [{'id': 'call_mFP2QpmSUYlvqjz3HBvRv0Cv', 'function': {'arguments': '{\"__arg1\":\"current USD to GBP exchange rate\"}', 'name': 'search'}, 'type': 'function'}], 'refusal': None}, response_metadata={'token_usage': {'completion_tokens': 21, 'prompt_tokens': 203, 'total_tokens': 224, 'completion_tokens_details': {'accepted_prediction_tokens': 0, 'audio_tokens': 0, 'reasoning_tokens': 0, 'rejected_prediction_tokens': 0}, 'prompt_tokens_details': {'audio_tokens': 0, 'cached_tokens': 0}}, 'model_name': 'gpt-4o-mini-2024-07-18', 'system_fingerprint': 'fp_b376dfbbd5', 'id': 'chatcmpl-BInShCTgCsggydsrv3MmpIXLyvzGF', 'finish_reason': 'tool_calls', 'logprobs': None}, id='run-1bc3e47d-30c5-40f4-a9da-42dd24e74732-0', tool_calls=[{'name': 'search', 'args': {'__arg1': 'current USD to GBP exchange rate'}, 'id': 'call_mFP2QpmSUYlvqjz3HBvRv0Cv', 'type': 'tool_call'}], usage_metadata={'input_tokens': 203, 'output_tokens': 21, 'total_tokens': 224, 'input_token_details': {'audio': 0, 'cache_read': 0}, 'output_token_details': {'audio': 0, 'reasoning': 0}}), ToolMessage(content='0.78 Pound sterling', name='search', id='04044643-e40a-4bda-a03c-bc80949d039c', tool_call_id='call_mFP2QpmSUYlvqjz3HBvRv0Cv'), AIMessage(content='', additional_kwargs={'tool_calls': [{'id': 'call_2RByu6cFdwow5BWX8eblN402', 'function': {'arguments': '{\"__arg1\":\"The current USD/GBP exchange rate is 0.78.\"}', 'name': 'send_push_notification'}, 'type': 'function'}], 'refusal': None}, response_metadata={'token_usage': {'completion_tokens': 30, 'prompt_tokens': 235, 'total_tokens': 265, 'completion_tokens_details': {'accepted_prediction_tokens': 0, 'audio_tokens': 0, 'reasoning_tokens': 0, 'rejected_prediction_tokens': 0}, 'prompt_tokens_details': {'audio_tokens': 0, 'cached_tokens': 0}}, 'model_name': 'gpt-4o-mini-2024-07-18', 'system_fingerprint': 'fp_b376dfbbd5', 'id': 'chatcmpl-BInSjgdmKJqByJ2VIxpCZE5vEQpep', 'finish_reason': 'tool_calls', 'logprobs': None}, id='run-030db0cd-4acc-4354-aa65-ae772d33be07-0', tool_calls=[{'name': 'send_push_notification', 'args': {'__arg1': 'The current USD/GBP exchange rate is 0.78.'}, 'id': 'call_2RByu6cFdwow5BWX8eblN402', 'type': 'tool_call'}], usage_metadata={'input_tokens': 235, 'output_tokens': 30, 'total_tokens': 265, 'input_token_details': {'audio': 0, 'cache_read': 0}, 'output_token_details': {'audio': 0, 'reasoning': 0}}), ToolMessage(content='null', name='send_push_notification', id='f16f6e9d-2d0e-4aca-991f-0d9fe7064574', tool_call_id='call_2RByu6cFdwow5BWX8eblN402'), AIMessage(content=\"I've sent you a push notification with the current USD/GBP exchange rate: 0.78. If you need anything else, just let me know!\", additional_kwargs={'refusal': None}, response_metadata={'token_usage': {'completion_tokens': 33, 'prompt_tokens': 274, 'total_tokens': 307, 'completion_tokens_details': {'accepted_prediction_tokens': 0, 'audio_tokens': 0, 'reasoning_tokens': 0, 'rejected_prediction_tokens': 0}, 'prompt_tokens_details': {'audio_tokens': 0, 'cached_tokens': 0}}, 'model_name': 'gpt-4o-mini-2024-07-18', 'system_fingerprint': 'fp_b376dfbbd5', 'id': 'chatcmpl-BInSk4W7o3wDEZhzLtixtWOVgEw4Y', 'finish_reason': 'stop', 'logprobs': None}, id='run-bc27a847-b5bf-4565-85af-8e3163f2c271-0', usage_metadata={'input_tokens': 274, 'output_tokens': 33, 'total_tokens': 307, 'input_token_details': {'audio': 0, 'cache_read': 0}, 'output_token_details': {'audio': 0, 'reasoning': 0}}), HumanMessage(content='can you send that push notification again please', additional_kwargs={}, response_metadata={}, id='328adc3d-8c39-4312-952c-3d3b87d5f736'), AIMessage(content='', additional_kwargs={'tool_calls': [{'id': 'call_9xFtRNwSPl00BBRdY3VGdZ9Y', 'function': {'arguments': '{\"__arg1\":\"The current USD/GBP exchange rate is 0.78.\"}', 'name': 'send_push_notification'}, 'type': 'function'}], 'refusal': None}, response_metadata={'token_usage': {'completion_tokens': 30, 'prompt_tokens': 321, 'total_tokens': 351, 'completion_tokens_details': {'accepted_prediction_tokens': 0, 'audio_tokens': 0, 'reasoning_tokens': 0, 'rejected_prediction_tokens': 0}, 'prompt_tokens_details': {'audio_tokens': 0, 'cached_tokens': 0}}, 'model_name': 'gpt-4o-mini-2024-07-18', 'system_fingerprint': 'fp_b376dfbbd5', 'id': 'chatcmpl-BInTHUIOvZ0DAwfqnVlb1SRlaKHmH', 'finish_reason': 'tool_calls', 'logprobs': None}, id='run-a2225381-34da-44b4-9e8d-45a0b8c29693-0', tool_calls=[{'name': 'send_push_notification', 'args': {'__arg1': 'The current USD/GBP exchange rate is 0.78.'}, 'id': 'call_9xFtRNwSPl00BBRdY3VGdZ9Y', 'type': 'tool_call'}], usage_metadata={'input_tokens': 321, 'output_tokens': 30, 'total_tokens': 351, 'input_token_details': {'audio': 0, 'cache_read': 0}, 'output_token_details': {'audio': 0, 'reasoning': 0}}), ToolMessage(content='null', name='send_push_notification', id='433985ee-9eeb-4b4b-866e-23cfc0f8e9fb', tool_call_id='call_9xFtRNwSPl00BBRdY3VGdZ9Y'), AIMessage(content=\"I've sent the push notification again with the current USD/GBP exchange rate: 0.78. If there's anything else you need, feel free to ask!\", additional_kwargs={'refusal': None}, response_metadata={'token_usage': {'completion_tokens': 34, 'prompt_tokens': 360, 'total_tokens': 394, 'completion_tokens_details': {'accepted_prediction_tokens': 0, 'audio_tokens': 0, 'reasoning_tokens': 0, 'rejected_prediction_tokens': 0}, 'prompt_tokens_details': {'audio_tokens': 0, 'cached_tokens': 0}}, 'model_name': 'gpt-4o-mini-2024-07-18', 'system_fingerprint': 'fp_b376dfbbd5', 'id': 'chatcmpl-BInTJ24F3iaC2JFCLGFb715HxeWU9', 'finish_reason': 'stop', 'logprobs': None}, id='run-eda57a8e-26a4-4aed-a3c6-ce404e2d5cfa-0', usage_metadata={'input_tokens': 360, 'output_tokens': 34, 'total_tokens': 394, 'input_token_details': {'audio': 0, 'cache_read': 0}, 'output_token_details': {'audio': 0, 'reasoning': 0}}), HumanMessage(content='hi there , my name is Tu', additional_kwargs={}, response_metadata={}, id='0d0010c6-14ff-410b-8985-fbdb66c77115'), AIMessage(content='Hello, Tu! Nice to meet you! How can I assist you today?', additional_kwargs={'refusal': None}, response_metadata={'token_usage': {'completion_tokens': 17, 'prompt_tokens': 407, 'total_tokens': 424, 'completion_tokens_details': {'accepted_prediction_tokens': 0, 'audio_tokens': 0, 'reasoning_tokens': 0, 'rejected_prediction_tokens': 0}, 'prompt_tokens_details': {'audio_tokens': 0, 'cached_tokens': 0}}, 'model_name': 'gpt-4o-mini-2024-07-18', 'system_fingerprint': 'fp_560af6e559', 'id': 'chatcmpl-CJwwDNJXKYniDAbu0E9jUWtlHHVZJ', 'service_tier': 'default', 'finish_reason': 'stop', 'logprobs': None}, id='run--a79821cb-cd44-4ea0-994d-790718378078-0', usage_metadata={'input_tokens': 407, 'output_tokens': 17, 'total_tokens': 424, 'input_token_details': {'audio': 0, 'cache_read': 0}, 'output_token_details': {'audio': 0, 'reasoning': 0}}), HumanMessage(content='what is my name?', additional_kwargs={}, response_metadata={}, id='98801c89-ff0f-4792-a8f7-a61ed9f4c3df'), AIMessage(content='Your name is Tu. How can I assist you today?', additional_kwargs={'refusal': None}, response_metadata={'token_usage': {'completion_tokens': 13, 'prompt_tokens': 436, 'total_tokens': 449, 'completion_tokens_details': {'accepted_prediction_tokens': 0, 'audio_tokens': 0, 'reasoning_tokens': 0, 'rejected_prediction_tokens': 0}, 'prompt_tokens_details': {'audio_tokens': 0, 'cached_tokens': 0}}, 'model_name': 'gpt-4o-mini-2024-07-18', 'system_fingerprint': 'fp_560af6e559', 'id': 'chatcmpl-CJwwNAPWfDGpWn15t3hnrfgUDv7f6', 'service_tier': 'default', 'finish_reason': 'stop', 'logprobs': None}, id='run--a6c7025d-985f-48c3-8ed9-5d1e24b34ec1-0', usage_metadata={'input_tokens': 436, 'output_tokens': 13, 'total_tokens': 449, 'input_token_details': {'audio': 0, 'cache_read': 0}, 'output_token_details': {'audio': 0, 'reasoning': 0}}), HumanMessage(content='please send me a push notification with the current JPY/VND exchange rate. if you need anything else, just let me know!', additional_kwargs={}, response_metadata={}, id='6035b978-b046-4ee0-a05b-4a234c8fa676'), AIMessage(content='', additional_kwargs={'tool_calls': [{'id': 'call_lV7juRyPrzGPcjZwPiiFdw77', 'function': {'arguments': '{\"__arg1\":\"current JPY to VND exchange rate\"}', 'name': 'search'}, 'type': 'function'}], 'refusal': None}, response_metadata={'token_usage': {'completion_tokens': 22, 'prompt_tokens': 483, 'total_tokens': 505, 'completion_tokens_details': {'accepted_prediction_tokens': 0, 'audio_tokens': 0, 'reasoning_tokens': 0, 'rejected_prediction_tokens': 0}, 'prompt_tokens_details': {'audio_tokens': 0, 'cached_tokens': 0}}, 'model_name': 'gpt-4o-mini-2024-07-18', 'system_fingerprint': 'fp_560af6e559', 'id': 'chatcmpl-CJwyYbFInjWoeJ6j66VurPN61osNX', 'service_tier': 'default', 'finish_reason': 'tool_calls', 'logprobs': None}, id='run--f970645b-9728-4c65-8f8a-f59ac6109740-0', tool_calls=[{'name': 'search', 'args': {'__arg1': 'current JPY to VND exchange rate'}, 'id': 'call_lV7juRyPrzGPcjZwPiiFdw77', 'type': 'tool_call'}], usage_metadata={'input_tokens': 483, 'output_tokens': 22, 'total_tokens': 505, 'input_token_details': {'audio': 0, 'cache_read': 0}, 'output_token_details': {'audio': 0, 'reasoning': 0}}), ToolMessage(content=\"The change for JPY to VND was -1.59. The performance of JPY to VND in the last 90 days saw a 90 day high of 182.3380 and a 90 day low of 173.7330. This means ... Get the latest 1 Japanese Yen to Vietnamese Dong rate for FREE with the original Universal Currency Converter. Set rate alerts for JPY to VND and learn more ... Check today's JPY to VND exchange rate with Western Union's currency converter. Send JPY and your receiver will get VND in minutes. Check out our live JPY to VND exchange rates, then easily send Japanese Yen to Vietnamese Dong or spend with your card in Japan. JPYVND Japanese Yen Vietnamese DongCurrency Exchange Rate Live Price Chart ; Exchange Rate. 176.291 ; Monthly. -1.39% ; Yearly. 3.91% ; Q3 Forecast. 178.123 ... JPY to VND currency chart. XE's free live currency conversion chart for Japanese Yen to Vietnamese Dong allows you to pair exchange rate history for up to ... The lowest Japanese yen to Vietnamese dongs rate was on March 28, 2025 when 1 Japanese yen was worth 169.5620 Vietnamese dong. JPY to VND : exchange rates today · 1 JPY 180.55 VND · 5 JPY 902.76 VND · 10 JPY 1,805.52 VND · 25 JPY 4,513.79 VND · 50 JPY 9,027.58 VND · 100 JPY 18,055.16 VND · 500 ... Provides real-time latest exchange rates for 1500 Japanese yen to Vietnamese dong today, offers free online currency converter tools, enabling you to ... How much is 500 JPY worth in VND? 500 JPY to VND live exchange rates. 1 JPY = 178.3435 VND. ₫7.06 ...\", name='search', id='a949494e-87d3-4641-ba3f-2bdaeb3b9fab', tool_call_id='call_lV7juRyPrzGPcjZwPiiFdw77'), AIMessage(content='', additional_kwargs={'tool_calls': [{'id': 'call_AYM6axwNwS3iEb2lZl8GClIl', 'function': {'arguments': '{\"__arg1\":\"The current JPY/VND exchange rate is 176.291.\"}', 'name': 'send_push_notification'}, 'type': 'function'}], 'refusal': None}, response_metadata={'token_usage': {'completion_tokens': 30, 'prompt_tokens': 929, 'total_tokens': 959, 'completion_tokens_details': {'accepted_prediction_tokens': 0, 'audio_tokens': 0, 'reasoning_tokens': 0, 'rejected_prediction_tokens': 0}, 'prompt_tokens_details': {'audio_tokens': 0, 'cached_tokens': 0}}, 'model_name': 'gpt-4o-mini-2024-07-18', 'system_fingerprint': 'fp_560af6e559', 'id': 'chatcmpl-CJwycBU6Ak8rcfeaz7S5RrGnPgPvj', 'service_tier': 'default', 'finish_reason': 'tool_calls', 'logprobs': None}, id='run--bddddb8f-1f49-4363-b169-13a1973a1a64-0', tool_calls=[{'name': 'send_push_notification', 'args': {'__arg1': 'The current JPY/VND exchange rate is 176.291.'}, 'id': 'call_AYM6axwNwS3iEb2lZl8GClIl', 'type': 'tool_call'}], usage_metadata={'input_tokens': 929, 'output_tokens': 30, 'total_tokens': 959, 'input_token_details': {'audio': 0, 'cache_read': 0}, 'output_token_details': {'audio': 0, 'reasoning': 0}}), ToolMessage(content='null', name='send_push_notification', id='ac6787fc-66bc-4529-a3e2-fe93df188c94', tool_call_id='call_AYM6axwNwS3iEb2lZl8GClIl'), HumanMessage(content='please send me a push notification with the current USD/VND exchange rate. if you need anything else, just let me know!', additional_kwargs={}, response_metadata={}, id='cbb63a47-4fe2-44be-bad8-bd7f1ce2c288'), AIMessage(content='', additional_kwargs={'tool_calls': [{'id': 'call_GnOecCFcUul3UuwThl3M1unh', 'function': {'arguments': '{\"__arg1\":\"current USD to VND exchange rate\"}', 'name': 'search'}, 'type': 'function'}], 'refusal': None}, response_metadata={'token_usage': {'completion_tokens': 21, 'prompt_tokens': 999, 'total_tokens': 1020, 'completion_tokens_details': {'accepted_prediction_tokens': 0, 'audio_tokens': 0, 'reasoning_tokens': 0, 'rejected_prediction_tokens': 0}, 'prompt_tokens_details': {'audio_tokens': 0, 'cached_tokens': 0}}, 'model_name': 'gpt-4o-mini-2024-07-18', 'system_fingerprint': 'fp_560af6e559', 'id': 'chatcmpl-CJx0Nyvu3OeehskXXe9pXUS7HHqy4', 'service_tier': 'default', 'finish_reason': 'tool_calls', 'logprobs': None}, id='run--4e15d815-22ee-42f8-9e00-0084a8b921e7-0', tool_calls=[{'name': 'search', 'args': {'__arg1': 'current USD to VND exchange rate'}, 'id': 'call_GnOecCFcUul3UuwThl3M1unh', 'type': 'tool_call'}], usage_metadata={'input_tokens': 999, 'output_tokens': 21, 'total_tokens': 1020, 'input_token_details': {'audio': 0, 'cache_read': 0}, 'output_token_details': {'audio': 0, 'reasoning': 0}}), ToolMessage(content=\"US dollars to Vietnamese dongs today. Convert USD to VND at the mid-market exchange rate. ... USD to VND exchange rates today. USD, VND. 1 USD, 26,403 VND. 5 USD ... Convert US Dollar to Vietnamese Dong ; 1 USD, 26,429.2 VND ; 5 USD, 132,146 VND ; 10 USD, 264,292 VND ; 25 USD, 660,730 VND. To convert USD to VND, enter the amount, choose currencies, and see the latest rate. The current rate is 1 USD to 26584.6368 VND. Rates are estimates and may ... ... VND. Exchange rate updated at 08:26 on 26/09/2025. The list of currency rates. Updated on. Download the Excel file. Currency Code Currency Code, Currency Name ... OPEN. 26,401.3000 ; PREV. CLOSE. 26,400.4000 ; YTD RETURN. 3.59% ; DAY RANGE. 26,399.0000–26,407.5000 ; 52 WEEK RANGE. 24,548.0000–26,437.0000. US Dollars to Vietnamese Dong: exchange rates today ; 1 USD, 26,258 VND ; 10 USD, 262,581 VND ; 20 USD, 525,163 VND ; 50 USD, 1,312,908 VND. The current USD/VND exchange rate is 26,398.5, with a previous close of 26,380.00. What Is the Daily Range for USD/VND? Today's ... Remitly offers dependable exchange rates for USD to VND with no hidden fees. Join today and get a promotional rate of 26430.24 VND to 1 USD on your first money ... Check live exchange rates for 1 USD to VND with our USD to VND chart. Exchange US dollars to Vietnamese đồng at a great exchange rate with OFX. USD to VND ... US Dollars to Vietnamese Dong: exchange rates today ; 1 USD, 26,259 VND ; 10 USD, 262,592 VND ; 20 USD, 525,184 VND ; 50 USD, 1,312,962 VND.\", name='search', id='12151fb3-100b-4496-8db6-df4bd3c80db0', tool_call_id='call_GnOecCFcUul3UuwThl3M1unh'), HumanMessage(content='please send me a push notification with the current JPY/VND exchange rate. if you need anything else, just let me know!', additional_kwargs={}, response_metadata={}, id='c1d364ff-9465-49a8-8b5a-a58ebeddf818'), AIMessage(content='', additional_kwargs={'tool_calls': [{'id': 'call_wvxBMkTdY0YpNGMQDVNK7ANE', 'function': {'arguments': '{\"__arg1\": \"current JPY to VND exchange rate\"}', 'name': 'search'}, 'type': 'function'}, {'id': 'call_q086BcxuO9QJET55qp33SbOD', 'function': {'arguments': '{\"__arg1\": \"current USD to VND exchange rate\"}', 'name': 'search'}, 'type': 'function'}], 'refusal': None}, response_metadata={'token_usage': {'completion_tokens': 59, 'prompt_tokens': 1548, 'total_tokens': 1607, 'completion_tokens_details': {'accepted_prediction_tokens': 0, 'audio_tokens': 0, 'reasoning_tokens': 0, 'rejected_prediction_tokens': 0}, 'prompt_tokens_details': {'audio_tokens': 0, 'cached_tokens': 0}}, 'model_name': 'gpt-4o-mini-2024-07-18', 'system_fingerprint': 'fp_560af6e559', 'id': 'chatcmpl-CJx0wDaqOGc4MzuBuGXeIskwwYbg0', 'service_tier': 'default', 'finish_reason': 'tool_calls', 'logprobs': None}, id='run--c2cfd64a-e558-431a-9970-be035b130fff-0', tool_calls=[{'name': 'search', 'args': {'__arg1': 'current JPY to VND exchange rate'}, 'id': 'call_wvxBMkTdY0YpNGMQDVNK7ANE', 'type': 'tool_call'}, {'name': 'search', 'args': {'__arg1': 'current USD to VND exchange rate'}, 'id': 'call_q086BcxuO9QJET55qp33SbOD', 'type': 'tool_call'}], usage_metadata={'input_tokens': 1548, 'output_tokens': 59, 'total_tokens': 1607, 'input_token_details': {'audio': 0, 'cache_read': 0}, 'output_token_details': {'audio': 0, 'reasoning': 0}}), ToolMessage(content=\"The change for JPY to VND was -1.59. The performance of JPY to VND in the last 90 days saw a 90 day high of 182.3380 and a 90 day low of 173.7330. This means ... Convert Japanese Yen to Vietnamese Dong ; 100 JPY, 17,873.4 VND ; 500 JPY, 89,366.9 VND ; 1,000 JPY, 178,734 VND ; 5,000 JPY, 893,669 VND. 1 JPY = 178.9138 VND · 1. Start your money transfer · 2. Check out our rates and fees · 3. Send your money. JPYVND Japanese Yen Vietnamese DongCurrency Exchange Rate Live Price Chart ; Exchange Rate. 176.291 ; Monthly. -1.39% ; Yearly. 3.91% ; Q3 Forecast. 178.123 ... Check today's JPY to VND exchange rate with Western Union's currency converter. Send JPY and your receiver will get VND in minutes. The exchange rate for Japanese yen to Vietnamese dongs is currently 176.25 today, reflecting a -0.779% change since yesterday. Over the past week, the value of ... JPY to VND currency chart. XE's free live currency conversion chart for Japanese Yen to Vietnamese Dong allows you to pair exchange rate history for up to ... 500 JPY to VND live exchange rates · 1 JPY = 178.3435 VND · 1. Start your money transfer · 2. Check out our rates and fees · 3. Send your money · 500 JPY to VND ... Japanese yen Exchange Rate Conversion Table ; 1 JPY, 0.0066627 · 0.047696 ; 10 JPY, 0.066627 · 0.47696 ; 25 JPY, 0.1665675 · 1.1924 ; 50 JPY, 0.333135 · 2.3848 ... 1 JPY = 176.129937 VND Sep 25, 2025 23:34 UTC · 176.129937 Vietnamese Dong.\", name='search', id='0e845533-f8d4-4f9e-b3c5-829c20909a7c', tool_call_id='call_wvxBMkTdY0YpNGMQDVNK7ANE'), ToolMessage(content=\"USD to VND exchange rates today ; 1 USD, 26,403 VND ; 5 USD, 132,017 VND ; 10 USD, 264,033 VND ; 20 USD, 528,066 VND. Check today's USD to VND exchange rate with Western Union's currency converter. Send USD and your receiver will get VND in minutes. Convert US Dollar to Vietnamese Dong ; 1 USD, 26,429.2 VND ; 5 USD, 132,146 VND ; 10 USD, 264,292 VND ; 25 USD, 660,730 VND. ... VND. Exchange rate updated at 08:26 on 26/09/2025. The list of currency rates. Updated on. Download the Excel file. Currency Code Currency Code, Currency Name ... OPEN. 26,401.3000 ; PREV. CLOSE. 26,400.4000 ; YTD RETURN. 3.59% ; DAY RANGE. 26,399.0000–26,407.5000 ; 52 WEEK RANGE. 24,548.0000–26,437.0000. US Dollars to Vietnamese Dong: exchange rates today. USD. VND. 1 USD, 26,258 ... The current USD/VND exchange rate is 26,398.5, with a previous close of 26,380.00. What Is the Daily Range for USD/VND? Today's ... Remitly offers dependable exchange rates for USD to VND with no hidden fees. Join today and get a promotional rate of 26430.24 VND to 1 USD on your first money ... USD to VND currency chart. XE's free live currency conversion chart for US Dollar to Vietnamese Dong allows you to pair exchange rate history for up to 10 ... Check live exchange rates for 1 USD to VND with our USD to VND chart. Exchange US dollars to Vietnamese đồng at a great exchange rate with OFX. USD to VND ...\", name='search', id='c08f70cc-a298-491c-8ca2-dfee0cec0783', tool_call_id='call_q086BcxuO9QJET55qp33SbOD'), HumanMessage(content='please send me a push notification with the current JPY/VND exchange rate. if you need anything else, just let me know!', additional_kwargs={}, response_metadata={}, id='75d941d7-0e91-4fe6-bc48-1c12aad16036')]}\n",
      "{'messages': [HumanMessage(content='hi there', additional_kwargs={}, response_metadata={}, id='d6144090-9963-438c-b21b-3fb4f06edbc0'), AIMessage(content='Hello! How can I assist you today?', additional_kwargs={'refusal': None}, response_metadata={'token_usage': {'completion_tokens': 11, 'prompt_tokens': 90, 'total_tokens': 101, 'completion_tokens_details': {'accepted_prediction_tokens': 0, 'audio_tokens': 0, 'reasoning_tokens': 0, 'rejected_prediction_tokens': 0}, 'prompt_tokens_details': {'audio_tokens': 0, 'cached_tokens': 0}}, 'model_name': 'gpt-4o-mini-2024-07-18', 'system_fingerprint': 'fp_b376dfbbd5', 'id': 'chatcmpl-BInN7JUnEYNTQqokCF3eihp5oKP0V', 'finish_reason': 'stop', 'logprobs': None}, id='run-4b488710-73ac-435e-a944-913a0c812d08-0', usage_metadata={'input_tokens': 90, 'output_tokens': 11, 'total_tokens': 101, 'input_token_details': {'audio': 0, 'cache_read': 0}, 'output_token_details': {'audio': 0, 'reasoning': 0}}), HumanMessage(content=\"what's my name\", additional_kwargs={}, response_metadata={}, id='0ee3236f-a0f8-487c-9e18-3a1a83e91d81'), AIMessage(content=\"I don't have access to personal information unless you provide it. What would you like me to call you?\", additional_kwargs={'refusal': None}, response_metadata={'token_usage': {'completion_tokens': 23, 'prompt_tokens': 111, 'total_tokens': 134, 'completion_tokens_details': {'accepted_prediction_tokens': 0, 'audio_tokens': 0, 'reasoning_tokens': 0, 'rejected_prediction_tokens': 0}, 'prompt_tokens_details': {'audio_tokens': 0, 'cached_tokens': 0}}, 'model_name': 'gpt-4o-mini-2024-07-18', 'system_fingerprint': 'fp_b376dfbbd5', 'id': 'chatcmpl-BInNEm0T32rf7Lx23sOvrcePfgL8d', 'finish_reason': 'stop', 'logprobs': None}, id='run-c12bd46c-0c94-475c-b281-89773b1947a2-0', usage_metadata={'input_tokens': 111, 'output_tokens': 23, 'total_tokens': 134, 'input_token_details': {'audio': 0, 'cache_read': 0}, 'output_token_details': {'audio': 0, 'reasoning': 0}}), HumanMessage(content=\"My name's Ed\", additional_kwargs={}, response_metadata={}, id='65e59191-b993-4faf-9699-197f70b79fcd'), AIMessage(content='Nice to meet you, Ed! How can I assist you today?', additional_kwargs={'refusal': None}, response_metadata={'token_usage': {'completion_tokens': 16, 'prompt_tokens': 144, 'total_tokens': 160, 'completion_tokens_details': {'accepted_prediction_tokens': 0, 'audio_tokens': 0, 'reasoning_tokens': 0, 'rejected_prediction_tokens': 0}, 'prompt_tokens_details': {'audio_tokens': 0, 'cached_tokens': 0}}, 'model_name': 'gpt-4o-mini-2024-07-18', 'system_fingerprint': 'fp_b376dfbbd5', 'id': 'chatcmpl-BInNLLW9Z5vrmr2MUfk6CLJBnCMOg', 'finish_reason': 'stop', 'logprobs': None}, id='run-68e08e4e-bc27-4802-b800-8fb359a5d976-0', usage_metadata={'input_tokens': 144, 'output_tokens': 16, 'total_tokens': 160, 'input_token_details': {'audio': 0, 'cache_read': 0}, 'output_token_details': {'audio': 0, 'reasoning': 0}}), HumanMessage(content='hi there', additional_kwargs={}, response_metadata={}, id='dfeeb914-53d6-404f-9a5c-0531f1fe43fe'), AIMessage(content='Hello again, Ed! How can I help you today?', additional_kwargs={'refusal': None}, response_metadata={'token_usage': {'completion_tokens': 14, 'prompt_tokens': 168, 'total_tokens': 182, 'completion_tokens_details': {'accepted_prediction_tokens': 0, 'audio_tokens': 0, 'reasoning_tokens': 0, 'rejected_prediction_tokens': 0}, 'prompt_tokens_details': {'audio_tokens': 0, 'cached_tokens': 0}}, 'model_name': 'gpt-4o-mini-2024-07-18', 'system_fingerprint': 'fp_b376dfbbd5', 'id': 'chatcmpl-BInOS7TKECQA9Trbcv3mBsxkVJ8c3', 'finish_reason': 'stop', 'logprobs': None}, id='run-8b9e7d2c-d34d-4d84-99d2-dcb6b26b84bf-0', usage_metadata={'input_tokens': 168, 'output_tokens': 14, 'total_tokens': 182, 'input_token_details': {'audio': 0, 'cache_read': 0}, 'output_token_details': {'audio': 0, 'reasoning': 0}}), HumanMessage(content='please send me a push notification with the current usd/gbp exchange rate', additional_kwargs={}, response_metadata={}, id='6e096518-8d44-40e9-8aba-bf5027dac79c'), AIMessage(content='', additional_kwargs={'tool_calls': [{'id': 'call_mFP2QpmSUYlvqjz3HBvRv0Cv', 'function': {'arguments': '{\"__arg1\":\"current USD to GBP exchange rate\"}', 'name': 'search'}, 'type': 'function'}], 'refusal': None}, response_metadata={'token_usage': {'completion_tokens': 21, 'prompt_tokens': 203, 'total_tokens': 224, 'completion_tokens_details': {'accepted_prediction_tokens': 0, 'audio_tokens': 0, 'reasoning_tokens': 0, 'rejected_prediction_tokens': 0}, 'prompt_tokens_details': {'audio_tokens': 0, 'cached_tokens': 0}}, 'model_name': 'gpt-4o-mini-2024-07-18', 'system_fingerprint': 'fp_b376dfbbd5', 'id': 'chatcmpl-BInShCTgCsggydsrv3MmpIXLyvzGF', 'finish_reason': 'tool_calls', 'logprobs': None}, id='run-1bc3e47d-30c5-40f4-a9da-42dd24e74732-0', tool_calls=[{'name': 'search', 'args': {'__arg1': 'current USD to GBP exchange rate'}, 'id': 'call_mFP2QpmSUYlvqjz3HBvRv0Cv', 'type': 'tool_call'}], usage_metadata={'input_tokens': 203, 'output_tokens': 21, 'total_tokens': 224, 'input_token_details': {'audio': 0, 'cache_read': 0}, 'output_token_details': {'audio': 0, 'reasoning': 0}}), ToolMessage(content='0.78 Pound sterling', name='search', id='04044643-e40a-4bda-a03c-bc80949d039c', tool_call_id='call_mFP2QpmSUYlvqjz3HBvRv0Cv'), AIMessage(content='', additional_kwargs={'tool_calls': [{'id': 'call_2RByu6cFdwow5BWX8eblN402', 'function': {'arguments': '{\"__arg1\":\"The current USD/GBP exchange rate is 0.78.\"}', 'name': 'send_push_notification'}, 'type': 'function'}], 'refusal': None}, response_metadata={'token_usage': {'completion_tokens': 30, 'prompt_tokens': 235, 'total_tokens': 265, 'completion_tokens_details': {'accepted_prediction_tokens': 0, 'audio_tokens': 0, 'reasoning_tokens': 0, 'rejected_prediction_tokens': 0}, 'prompt_tokens_details': {'audio_tokens': 0, 'cached_tokens': 0}}, 'model_name': 'gpt-4o-mini-2024-07-18', 'system_fingerprint': 'fp_b376dfbbd5', 'id': 'chatcmpl-BInSjgdmKJqByJ2VIxpCZE5vEQpep', 'finish_reason': 'tool_calls', 'logprobs': None}, id='run-030db0cd-4acc-4354-aa65-ae772d33be07-0', tool_calls=[{'name': 'send_push_notification', 'args': {'__arg1': 'The current USD/GBP exchange rate is 0.78.'}, 'id': 'call_2RByu6cFdwow5BWX8eblN402', 'type': 'tool_call'}], usage_metadata={'input_tokens': 235, 'output_tokens': 30, 'total_tokens': 265, 'input_token_details': {'audio': 0, 'cache_read': 0}, 'output_token_details': {'audio': 0, 'reasoning': 0}}), ToolMessage(content='null', name='send_push_notification', id='f16f6e9d-2d0e-4aca-991f-0d9fe7064574', tool_call_id='call_2RByu6cFdwow5BWX8eblN402'), AIMessage(content=\"I've sent you a push notification with the current USD/GBP exchange rate: 0.78. If you need anything else, just let me know!\", additional_kwargs={'refusal': None}, response_metadata={'token_usage': {'completion_tokens': 33, 'prompt_tokens': 274, 'total_tokens': 307, 'completion_tokens_details': {'accepted_prediction_tokens': 0, 'audio_tokens': 0, 'reasoning_tokens': 0, 'rejected_prediction_tokens': 0}, 'prompt_tokens_details': {'audio_tokens': 0, 'cached_tokens': 0}}, 'model_name': 'gpt-4o-mini-2024-07-18', 'system_fingerprint': 'fp_b376dfbbd5', 'id': 'chatcmpl-BInSk4W7o3wDEZhzLtixtWOVgEw4Y', 'finish_reason': 'stop', 'logprobs': None}, id='run-bc27a847-b5bf-4565-85af-8e3163f2c271-0', usage_metadata={'input_tokens': 274, 'output_tokens': 33, 'total_tokens': 307, 'input_token_details': {'audio': 0, 'cache_read': 0}, 'output_token_details': {'audio': 0, 'reasoning': 0}}), HumanMessage(content='can you send that push notification again please', additional_kwargs={}, response_metadata={}, id='328adc3d-8c39-4312-952c-3d3b87d5f736'), AIMessage(content='', additional_kwargs={'tool_calls': [{'id': 'call_9xFtRNwSPl00BBRdY3VGdZ9Y', 'function': {'arguments': '{\"__arg1\":\"The current USD/GBP exchange rate is 0.78.\"}', 'name': 'send_push_notification'}, 'type': 'function'}], 'refusal': None}, response_metadata={'token_usage': {'completion_tokens': 30, 'prompt_tokens': 321, 'total_tokens': 351, 'completion_tokens_details': {'accepted_prediction_tokens': 0, 'audio_tokens': 0, 'reasoning_tokens': 0, 'rejected_prediction_tokens': 0}, 'prompt_tokens_details': {'audio_tokens': 0, 'cached_tokens': 0}}, 'model_name': 'gpt-4o-mini-2024-07-18', 'system_fingerprint': 'fp_b376dfbbd5', 'id': 'chatcmpl-BInTHUIOvZ0DAwfqnVlb1SRlaKHmH', 'finish_reason': 'tool_calls', 'logprobs': None}, id='run-a2225381-34da-44b4-9e8d-45a0b8c29693-0', tool_calls=[{'name': 'send_push_notification', 'args': {'__arg1': 'The current USD/GBP exchange rate is 0.78.'}, 'id': 'call_9xFtRNwSPl00BBRdY3VGdZ9Y', 'type': 'tool_call'}], usage_metadata={'input_tokens': 321, 'output_tokens': 30, 'total_tokens': 351, 'input_token_details': {'audio': 0, 'cache_read': 0}, 'output_token_details': {'audio': 0, 'reasoning': 0}}), ToolMessage(content='null', name='send_push_notification', id='433985ee-9eeb-4b4b-866e-23cfc0f8e9fb', tool_call_id='call_9xFtRNwSPl00BBRdY3VGdZ9Y'), AIMessage(content=\"I've sent the push notification again with the current USD/GBP exchange rate: 0.78. If there's anything else you need, feel free to ask!\", additional_kwargs={'refusal': None}, response_metadata={'token_usage': {'completion_tokens': 34, 'prompt_tokens': 360, 'total_tokens': 394, 'completion_tokens_details': {'accepted_prediction_tokens': 0, 'audio_tokens': 0, 'reasoning_tokens': 0, 'rejected_prediction_tokens': 0}, 'prompt_tokens_details': {'audio_tokens': 0, 'cached_tokens': 0}}, 'model_name': 'gpt-4o-mini-2024-07-18', 'system_fingerprint': 'fp_b376dfbbd5', 'id': 'chatcmpl-BInTJ24F3iaC2JFCLGFb715HxeWU9', 'finish_reason': 'stop', 'logprobs': None}, id='run-eda57a8e-26a4-4aed-a3c6-ce404e2d5cfa-0', usage_metadata={'input_tokens': 360, 'output_tokens': 34, 'total_tokens': 394, 'input_token_details': {'audio': 0, 'cache_read': 0}, 'output_token_details': {'audio': 0, 'reasoning': 0}}), HumanMessage(content='hi there , my name is Tu', additional_kwargs={}, response_metadata={}, id='0d0010c6-14ff-410b-8985-fbdb66c77115'), AIMessage(content='Hello, Tu! Nice to meet you! How can I assist you today?', additional_kwargs={'refusal': None}, response_metadata={'token_usage': {'completion_tokens': 17, 'prompt_tokens': 407, 'total_tokens': 424, 'completion_tokens_details': {'accepted_prediction_tokens': 0, 'audio_tokens': 0, 'reasoning_tokens': 0, 'rejected_prediction_tokens': 0}, 'prompt_tokens_details': {'audio_tokens': 0, 'cached_tokens': 0}}, 'model_name': 'gpt-4o-mini-2024-07-18', 'system_fingerprint': 'fp_560af6e559', 'id': 'chatcmpl-CJwwDNJXKYniDAbu0E9jUWtlHHVZJ', 'service_tier': 'default', 'finish_reason': 'stop', 'logprobs': None}, id='run--a79821cb-cd44-4ea0-994d-790718378078-0', usage_metadata={'input_tokens': 407, 'output_tokens': 17, 'total_tokens': 424, 'input_token_details': {'audio': 0, 'cache_read': 0}, 'output_token_details': {'audio': 0, 'reasoning': 0}}), HumanMessage(content='what is my name?', additional_kwargs={}, response_metadata={}, id='98801c89-ff0f-4792-a8f7-a61ed9f4c3df'), AIMessage(content='Your name is Tu. How can I assist you today?', additional_kwargs={'refusal': None}, response_metadata={'token_usage': {'completion_tokens': 13, 'prompt_tokens': 436, 'total_tokens': 449, 'completion_tokens_details': {'accepted_prediction_tokens': 0, 'audio_tokens': 0, 'reasoning_tokens': 0, 'rejected_prediction_tokens': 0}, 'prompt_tokens_details': {'audio_tokens': 0, 'cached_tokens': 0}}, 'model_name': 'gpt-4o-mini-2024-07-18', 'system_fingerprint': 'fp_560af6e559', 'id': 'chatcmpl-CJwwNAPWfDGpWn15t3hnrfgUDv7f6', 'service_tier': 'default', 'finish_reason': 'stop', 'logprobs': None}, id='run--a6c7025d-985f-48c3-8ed9-5d1e24b34ec1-0', usage_metadata={'input_tokens': 436, 'output_tokens': 13, 'total_tokens': 449, 'input_token_details': {'audio': 0, 'cache_read': 0}, 'output_token_details': {'audio': 0, 'reasoning': 0}}), HumanMessage(content='please send me a push notification with the current JPY/VND exchange rate. if you need anything else, just let me know!', additional_kwargs={}, response_metadata={}, id='6035b978-b046-4ee0-a05b-4a234c8fa676'), AIMessage(content='', additional_kwargs={'tool_calls': [{'id': 'call_lV7juRyPrzGPcjZwPiiFdw77', 'function': {'arguments': '{\"__arg1\":\"current JPY to VND exchange rate\"}', 'name': 'search'}, 'type': 'function'}], 'refusal': None}, response_metadata={'token_usage': {'completion_tokens': 22, 'prompt_tokens': 483, 'total_tokens': 505, 'completion_tokens_details': {'accepted_prediction_tokens': 0, 'audio_tokens': 0, 'reasoning_tokens': 0, 'rejected_prediction_tokens': 0}, 'prompt_tokens_details': {'audio_tokens': 0, 'cached_tokens': 0}}, 'model_name': 'gpt-4o-mini-2024-07-18', 'system_fingerprint': 'fp_560af6e559', 'id': 'chatcmpl-CJwyYbFInjWoeJ6j66VurPN61osNX', 'service_tier': 'default', 'finish_reason': 'tool_calls', 'logprobs': None}, id='run--f970645b-9728-4c65-8f8a-f59ac6109740-0', tool_calls=[{'name': 'search', 'args': {'__arg1': 'current JPY to VND exchange rate'}, 'id': 'call_lV7juRyPrzGPcjZwPiiFdw77', 'type': 'tool_call'}], usage_metadata={'input_tokens': 483, 'output_tokens': 22, 'total_tokens': 505, 'input_token_details': {'audio': 0, 'cache_read': 0}, 'output_token_details': {'audio': 0, 'reasoning': 0}}), ToolMessage(content=\"The change for JPY to VND was -1.59. The performance of JPY to VND in the last 90 days saw a 90 day high of 182.3380 and a 90 day low of 173.7330. This means ... Get the latest 1 Japanese Yen to Vietnamese Dong rate for FREE with the original Universal Currency Converter. Set rate alerts for JPY to VND and learn more ... Check today's JPY to VND exchange rate with Western Union's currency converter. Send JPY and your receiver will get VND in minutes. Check out our live JPY to VND exchange rates, then easily send Japanese Yen to Vietnamese Dong or spend with your card in Japan. JPYVND Japanese Yen Vietnamese DongCurrency Exchange Rate Live Price Chart ; Exchange Rate. 176.291 ; Monthly. -1.39% ; Yearly. 3.91% ; Q3 Forecast. 178.123 ... JPY to VND currency chart. XE's free live currency conversion chart for Japanese Yen to Vietnamese Dong allows you to pair exchange rate history for up to ... The lowest Japanese yen to Vietnamese dongs rate was on March 28, 2025 when 1 Japanese yen was worth 169.5620 Vietnamese dong. JPY to VND : exchange rates today · 1 JPY 180.55 VND · 5 JPY 902.76 VND · 10 JPY 1,805.52 VND · 25 JPY 4,513.79 VND · 50 JPY 9,027.58 VND · 100 JPY 18,055.16 VND · 500 ... Provides real-time latest exchange rates for 1500 Japanese yen to Vietnamese dong today, offers free online currency converter tools, enabling you to ... How much is 500 JPY worth in VND? 500 JPY to VND live exchange rates. 1 JPY = 178.3435 VND. ₫7.06 ...\", name='search', id='a949494e-87d3-4641-ba3f-2bdaeb3b9fab', tool_call_id='call_lV7juRyPrzGPcjZwPiiFdw77'), AIMessage(content='', additional_kwargs={'tool_calls': [{'id': 'call_AYM6axwNwS3iEb2lZl8GClIl', 'function': {'arguments': '{\"__arg1\":\"The current JPY/VND exchange rate is 176.291.\"}', 'name': 'send_push_notification'}, 'type': 'function'}], 'refusal': None}, response_metadata={'token_usage': {'completion_tokens': 30, 'prompt_tokens': 929, 'total_tokens': 959, 'completion_tokens_details': {'accepted_prediction_tokens': 0, 'audio_tokens': 0, 'reasoning_tokens': 0, 'rejected_prediction_tokens': 0}, 'prompt_tokens_details': {'audio_tokens': 0, 'cached_tokens': 0}}, 'model_name': 'gpt-4o-mini-2024-07-18', 'system_fingerprint': 'fp_560af6e559', 'id': 'chatcmpl-CJwycBU6Ak8rcfeaz7S5RrGnPgPvj', 'service_tier': 'default', 'finish_reason': 'tool_calls', 'logprobs': None}, id='run--bddddb8f-1f49-4363-b169-13a1973a1a64-0', tool_calls=[{'name': 'send_push_notification', 'args': {'__arg1': 'The current JPY/VND exchange rate is 176.291.'}, 'id': 'call_AYM6axwNwS3iEb2lZl8GClIl', 'type': 'tool_call'}], usage_metadata={'input_tokens': 929, 'output_tokens': 30, 'total_tokens': 959, 'input_token_details': {'audio': 0, 'cache_read': 0}, 'output_token_details': {'audio': 0, 'reasoning': 0}}), ToolMessage(content='null', name='send_push_notification', id='ac6787fc-66bc-4529-a3e2-fe93df188c94', tool_call_id='call_AYM6axwNwS3iEb2lZl8GClIl'), HumanMessage(content='please send me a push notification with the current USD/VND exchange rate. if you need anything else, just let me know!', additional_kwargs={}, response_metadata={}, id='cbb63a47-4fe2-44be-bad8-bd7f1ce2c288'), AIMessage(content='', additional_kwargs={'tool_calls': [{'id': 'call_GnOecCFcUul3UuwThl3M1unh', 'function': {'arguments': '{\"__arg1\":\"current USD to VND exchange rate\"}', 'name': 'search'}, 'type': 'function'}], 'refusal': None}, response_metadata={'token_usage': {'completion_tokens': 21, 'prompt_tokens': 999, 'total_tokens': 1020, 'completion_tokens_details': {'accepted_prediction_tokens': 0, 'audio_tokens': 0, 'reasoning_tokens': 0, 'rejected_prediction_tokens': 0}, 'prompt_tokens_details': {'audio_tokens': 0, 'cached_tokens': 0}}, 'model_name': 'gpt-4o-mini-2024-07-18', 'system_fingerprint': 'fp_560af6e559', 'id': 'chatcmpl-CJx0Nyvu3OeehskXXe9pXUS7HHqy4', 'service_tier': 'default', 'finish_reason': 'tool_calls', 'logprobs': None}, id='run--4e15d815-22ee-42f8-9e00-0084a8b921e7-0', tool_calls=[{'name': 'search', 'args': {'__arg1': 'current USD to VND exchange rate'}, 'id': 'call_GnOecCFcUul3UuwThl3M1unh', 'type': 'tool_call'}], usage_metadata={'input_tokens': 999, 'output_tokens': 21, 'total_tokens': 1020, 'input_token_details': {'audio': 0, 'cache_read': 0}, 'output_token_details': {'audio': 0, 'reasoning': 0}}), ToolMessage(content=\"US dollars to Vietnamese dongs today. Convert USD to VND at the mid-market exchange rate. ... USD to VND exchange rates today. USD, VND. 1 USD, 26,403 VND. 5 USD ... Convert US Dollar to Vietnamese Dong ; 1 USD, 26,429.2 VND ; 5 USD, 132,146 VND ; 10 USD, 264,292 VND ; 25 USD, 660,730 VND. To convert USD to VND, enter the amount, choose currencies, and see the latest rate. The current rate is 1 USD to 26584.6368 VND. Rates are estimates and may ... ... VND. Exchange rate updated at 08:26 on 26/09/2025. The list of currency rates. Updated on. Download the Excel file. Currency Code Currency Code, Currency Name ... OPEN. 26,401.3000 ; PREV. CLOSE. 26,400.4000 ; YTD RETURN. 3.59% ; DAY RANGE. 26,399.0000–26,407.5000 ; 52 WEEK RANGE. 24,548.0000–26,437.0000. US Dollars to Vietnamese Dong: exchange rates today ; 1 USD, 26,258 VND ; 10 USD, 262,581 VND ; 20 USD, 525,163 VND ; 50 USD, 1,312,908 VND. The current USD/VND exchange rate is 26,398.5, with a previous close of 26,380.00. What Is the Daily Range for USD/VND? Today's ... Remitly offers dependable exchange rates for USD to VND with no hidden fees. Join today and get a promotional rate of 26430.24 VND to 1 USD on your first money ... Check live exchange rates for 1 USD to VND with our USD to VND chart. Exchange US dollars to Vietnamese đồng at a great exchange rate with OFX. USD to VND ... US Dollars to Vietnamese Dong: exchange rates today ; 1 USD, 26,259 VND ; 10 USD, 262,592 VND ; 20 USD, 525,184 VND ; 50 USD, 1,312,962 VND.\", name='search', id='12151fb3-100b-4496-8db6-df4bd3c80db0', tool_call_id='call_GnOecCFcUul3UuwThl3M1unh'), HumanMessage(content='please send me a push notification with the current JPY/VND exchange rate. if you need anything else, just let me know!', additional_kwargs={}, response_metadata={}, id='c1d364ff-9465-49a8-8b5a-a58ebeddf818'), AIMessage(content='', additional_kwargs={'tool_calls': [{'id': 'call_wvxBMkTdY0YpNGMQDVNK7ANE', 'function': {'arguments': '{\"__arg1\": \"current JPY to VND exchange rate\"}', 'name': 'search'}, 'type': 'function'}, {'id': 'call_q086BcxuO9QJET55qp33SbOD', 'function': {'arguments': '{\"__arg1\": \"current USD to VND exchange rate\"}', 'name': 'search'}, 'type': 'function'}], 'refusal': None}, response_metadata={'token_usage': {'completion_tokens': 59, 'prompt_tokens': 1548, 'total_tokens': 1607, 'completion_tokens_details': {'accepted_prediction_tokens': 0, 'audio_tokens': 0, 'reasoning_tokens': 0, 'rejected_prediction_tokens': 0}, 'prompt_tokens_details': {'audio_tokens': 0, 'cached_tokens': 0}}, 'model_name': 'gpt-4o-mini-2024-07-18', 'system_fingerprint': 'fp_560af6e559', 'id': 'chatcmpl-CJx0wDaqOGc4MzuBuGXeIskwwYbg0', 'service_tier': 'default', 'finish_reason': 'tool_calls', 'logprobs': None}, id='run--c2cfd64a-e558-431a-9970-be035b130fff-0', tool_calls=[{'name': 'search', 'args': {'__arg1': 'current JPY to VND exchange rate'}, 'id': 'call_wvxBMkTdY0YpNGMQDVNK7ANE', 'type': 'tool_call'}, {'name': 'search', 'args': {'__arg1': 'current USD to VND exchange rate'}, 'id': 'call_q086BcxuO9QJET55qp33SbOD', 'type': 'tool_call'}], usage_metadata={'input_tokens': 1548, 'output_tokens': 59, 'total_tokens': 1607, 'input_token_details': {'audio': 0, 'cache_read': 0}, 'output_token_details': {'audio': 0, 'reasoning': 0}}), ToolMessage(content=\"The change for JPY to VND was -1.59. The performance of JPY to VND in the last 90 days saw a 90 day high of 182.3380 and a 90 day low of 173.7330. This means ... Convert Japanese Yen to Vietnamese Dong ; 100 JPY, 17,873.4 VND ; 500 JPY, 89,366.9 VND ; 1,000 JPY, 178,734 VND ; 5,000 JPY, 893,669 VND. 1 JPY = 178.9138 VND · 1. Start your money transfer · 2. Check out our rates and fees · 3. Send your money. JPYVND Japanese Yen Vietnamese DongCurrency Exchange Rate Live Price Chart ; Exchange Rate. 176.291 ; Monthly. -1.39% ; Yearly. 3.91% ; Q3 Forecast. 178.123 ... Check today's JPY to VND exchange rate with Western Union's currency converter. Send JPY and your receiver will get VND in minutes. The exchange rate for Japanese yen to Vietnamese dongs is currently 176.25 today, reflecting a -0.779% change since yesterday. Over the past week, the value of ... JPY to VND currency chart. XE's free live currency conversion chart for Japanese Yen to Vietnamese Dong allows you to pair exchange rate history for up to ... 500 JPY to VND live exchange rates · 1 JPY = 178.3435 VND · 1. Start your money transfer · 2. Check out our rates and fees · 3. Send your money · 500 JPY to VND ... Japanese yen Exchange Rate Conversion Table ; 1 JPY, 0.0066627 · 0.047696 ; 10 JPY, 0.066627 · 0.47696 ; 25 JPY, 0.1665675 · 1.1924 ; 50 JPY, 0.333135 · 2.3848 ... 1 JPY = 176.129937 VND Sep 25, 2025 23:34 UTC · 176.129937 Vietnamese Dong.\", name='search', id='0e845533-f8d4-4f9e-b3c5-829c20909a7c', tool_call_id='call_wvxBMkTdY0YpNGMQDVNK7ANE'), ToolMessage(content=\"USD to VND exchange rates today ; 1 USD, 26,403 VND ; 5 USD, 132,017 VND ; 10 USD, 264,033 VND ; 20 USD, 528,066 VND. Check today's USD to VND exchange rate with Western Union's currency converter. Send USD and your receiver will get VND in minutes. Convert US Dollar to Vietnamese Dong ; 1 USD, 26,429.2 VND ; 5 USD, 132,146 VND ; 10 USD, 264,292 VND ; 25 USD, 660,730 VND. ... VND. Exchange rate updated at 08:26 on 26/09/2025. The list of currency rates. Updated on. Download the Excel file. Currency Code Currency Code, Currency Name ... OPEN. 26,401.3000 ; PREV. CLOSE. 26,400.4000 ; YTD RETURN. 3.59% ; DAY RANGE. 26,399.0000–26,407.5000 ; 52 WEEK RANGE. 24,548.0000–26,437.0000. US Dollars to Vietnamese Dong: exchange rates today. USD. VND. 1 USD, 26,258 ... The current USD/VND exchange rate is 26,398.5, with a previous close of 26,380.00. What Is the Daily Range for USD/VND? Today's ... Remitly offers dependable exchange rates for USD to VND with no hidden fees. Join today and get a promotional rate of 26430.24 VND to 1 USD on your first money ... USD to VND currency chart. XE's free live currency conversion chart for US Dollar to Vietnamese Dong allows you to pair exchange rate history for up to 10 ... Check live exchange rates for 1 USD to VND with our USD to VND chart. Exchange US dollars to Vietnamese đồng at a great exchange rate with OFX. USD to VND ...\", name='search', id='c08f70cc-a298-491c-8ca2-dfee0cec0783', tool_call_id='call_q086BcxuO9QJET55qp33SbOD'), HumanMessage(content='please send me a push notification with the current JPY/VND exchange rate. if you need anything else, just let me know!', additional_kwargs={}, response_metadata={}, id='75d941d7-0e91-4fe6-bc48-1c12aad16036'), AIMessage(content='', additional_kwargs={'tool_calls': [{'id': 'call_R3PAaGZKHQ2tNzZaIvZVBaOy', 'function': {'arguments': '{\"__arg1\":\"The current JPY/VND exchange rate is 178.91.\"}', 'name': 'send_push_notification'}, 'type': 'function'}], 'refusal': None}, response_metadata={'token_usage': {'completion_tokens': 30, 'prompt_tokens': 2607, 'total_tokens': 2637, 'completion_tokens_details': {'accepted_prediction_tokens': 0, 'audio_tokens': 0, 'reasoning_tokens': 0, 'rejected_prediction_tokens': 0}, 'prompt_tokens_details': {'audio_tokens': 0, 'cached_tokens': 0}}, 'model_name': 'gpt-4o-mini-2024-07-18', 'system_fingerprint': 'fp_560af6e559', 'id': 'chatcmpl-CJxCiaiPYXjOlBwUWIlnKDvrVTMwE', 'service_tier': 'default', 'finish_reason': 'tool_calls', 'logprobs': None}, id='run--954f76ee-e50c-4035-963c-ec7008f73fe0-0', tool_calls=[{'name': 'send_push_notification', 'args': {'__arg1': 'The current JPY/VND exchange rate is 178.91.'}, 'id': 'call_R3PAaGZKHQ2tNzZaIvZVBaOy', 'type': 'tool_call'}], usage_metadata={'input_tokens': 2607, 'output_tokens': 30, 'total_tokens': 2637, 'input_token_details': {'audio': 0, 'cache_read': 0}, 'output_token_details': {'audio': 0, 'reasoning': 0}}), ToolMessage(content='null', name='send_push_notification', id='8fa1c06d-a79f-4f13-a823-e93e27fe4144', tool_call_id='call_R3PAaGZKHQ2tNzZaIvZVBaOy')]}\n"
     ]
    },
    {
     "name": "stderr",
     "output_type": "stream",
     "text": [
      "Traceback (most recent call last):\n",
      "  File \"c:\\Users\\trananhtu\\Desktop\\agents\\.venv\\Lib\\site-packages\\gradio\\queueing.py\", line 625, in process_events\n",
      "    response = await route_utils.call_process_api(\n",
      "               ^^^^^^^^^^^^^^^^^^^^^^^^^^^^^^^^^^^\n",
      "  File \"c:\\Users\\trananhtu\\Desktop\\agents\\.venv\\Lib\\site-packages\\gradio\\route_utils.py\", line 322, in call_process_api\n",
      "    output = await app.get_blocks().process_api(\n",
      "             ^^^^^^^^^^^^^^^^^^^^^^^^^^^^^^^^^^^\n",
      "  File \"c:\\Users\\trananhtu\\Desktop\\agents\\.venv\\Lib\\site-packages\\gradio\\blocks.py\", line 2220, in process_api\n",
      "    result = await self.call_function(\n",
      "             ^^^^^^^^^^^^^^^^^^^^^^^^^\n",
      "  File \"c:\\Users\\trananhtu\\Desktop\\agents\\.venv\\Lib\\site-packages\\gradio\\blocks.py\", line 1729, in call_function\n",
      "    prediction = await fn(*processed_input)\n",
      "                 ^^^^^^^^^^^^^^^^^^^^^^^^^^\n",
      "  File \"c:\\Users\\trananhtu\\Desktop\\agents\\.venv\\Lib\\site-packages\\gradio\\utils.py\", line 871, in async_wrapper\n",
      "    response = await f(*args, **kwargs)\n",
      "               ^^^^^^^^^^^^^^^^^^^^^^^^\n",
      "  File \"c:\\Users\\trananhtu\\Desktop\\agents\\.venv\\Lib\\site-packages\\gradio\\chat_interface.py\", line 545, in __wrapper\n",
      "    return await submit_fn(*args, **kwargs)\n",
      "           ^^^^^^^^^^^^^^^^^^^^^^^^^^^^^^^^\n",
      "  File \"c:\\Users\\trananhtu\\Desktop\\agents\\.venv\\Lib\\site-packages\\gradio\\chat_interface.py\", line 917, in _submit_fn\n",
      "    response = await anyio.to_thread.run_sync(\n",
      "               ^^^^^^^^^^^^^^^^^^^^^^^^^^^^^^^\n",
      "  File \"c:\\Users\\trananhtu\\Desktop\\agents\\.venv\\Lib\\site-packages\\anyio\\to_thread.py\", line 56, in run_sync\n",
      "    return await get_async_backend().run_sync_in_worker_thread(\n",
      "           ^^^^^^^^^^^^^^^^^^^^^^^^^^^^^^^^^^^^^^^^^^^^^^^^^^^^\n",
      "  File \"c:\\Users\\trananhtu\\Desktop\\agents\\.venv\\Lib\\site-packages\\anyio\\_backends\\_asyncio.py\", line 2470, in run_sync_in_worker_thread\n",
      "    return await future\n",
      "           ^^^^^^^^^^^^\n",
      "  File \"c:\\Users\\trananhtu\\Desktop\\agents\\.venv\\Lib\\site-packages\\anyio\\_backends\\_asyncio.py\", line 967, in run\n",
      "    result = context.run(func, *args)\n",
      "             ^^^^^^^^^^^^^^^^^^^^^^^^\n",
      "  File \"C:\\Users\\trananhtu\\AppData\\Local\\Temp\\ipykernel_24324\\2466124301.py\", line 4, in chat\n",
      "    result = graph.invoke({\"messages\": [{\"role\": \"user\", \"content\": user_input}]}, config=config)\n",
      "             ^^^^^^^^^^^^^^^^^^^^^^^^^^^^^^^^^^^^^^^^^^^^^^^^^^^^^^^^^^^^^^^^^^^^^^^^^^^^^^^^^^^^\n",
      "  File \"c:\\Users\\trananhtu\\Desktop\\agents\\.venv\\Lib\\site-packages\\langgraph\\pregel\\__init__.py\", line 2719, in invoke\n",
      "    for chunk in self.stream(\n",
      "                 ^^^^^^^^^^^^\n",
      "  File \"c:\\Users\\trananhtu\\Desktop\\agents\\.venv\\Lib\\site-packages\\langgraph\\pregel\\__init__.py\", line 2436, in stream\n",
      "    for _ in runner.tick(\n",
      "             ^^^^^^^^^^^^\n",
      "  File \"c:\\Users\\trananhtu\\Desktop\\agents\\.venv\\Lib\\site-packages\\langgraph\\pregel\\runner.py\", line 162, in tick\n",
      "    run_with_retry(\n",
      "  File \"c:\\Users\\trananhtu\\Desktop\\agents\\.venv\\Lib\\site-packages\\langgraph\\pregel\\retry.py\", line 40, in run_with_retry\n",
      "    return task.proc.invoke(task.input, config)\n",
      "           ^^^^^^^^^^^^^^^^^^^^^^^^^^^^^^^^^^^^\n",
      "  File \"c:\\Users\\trananhtu\\Desktop\\agents\\.venv\\Lib\\site-packages\\langgraph\\utils\\runnable.py\", line 623, in invoke\n",
      "    input = context.run(step.invoke, input, config, **kwargs)\n",
      "            ^^^^^^^^^^^^^^^^^^^^^^^^^^^^^^^^^^^^^^^^^^^^^^^^^\n",
      "  File \"c:\\Users\\trananhtu\\Desktop\\agents\\.venv\\Lib\\site-packages\\langgraph\\utils\\runnable.py\", line 377, in invoke\n",
      "    ret = self.func(*args, **kwargs)\n",
      "          ^^^^^^^^^^^^^^^^^^^^^^^^^^\n",
      "  File \"C:\\Users\\trananhtu\\AppData\\Local\\Temp\\ipykernel_24324\\1785292979.py\", line 11, in chatbot\n",
      "    return {\"messages\": [llm_with_tools.invoke(state[\"messages\"])]}\n",
      "                         ^^^^^^^^^^^^^^^^^^^^^^^^^^^^^^^^^^^^^^^^\n",
      "  File \"c:\\Users\\trananhtu\\Desktop\\agents\\.venv\\Lib\\site-packages\\langchain_core\\runnables\\base.py\", line 5431, in invoke\n",
      "    return self.bound.invoke(\n",
      "           ^^^^^^^^^^^^^^^^^^\n",
      "  File \"c:\\Users\\trananhtu\\Desktop\\agents\\.venv\\Lib\\site-packages\\langchain_core\\language_models\\chat_models.py\", line 372, in invoke\n",
      "    self.generate_prompt(\n",
      "  File \"c:\\Users\\trananhtu\\Desktop\\agents\\.venv\\Lib\\site-packages\\langchain_core\\language_models\\chat_models.py\", line 957, in generate_prompt\n",
      "    return self.generate(prompt_messages, stop=stop, callbacks=callbacks, **kwargs)\n",
      "           ^^^^^^^^^^^^^^^^^^^^^^^^^^^^^^^^^^^^^^^^^^^^^^^^^^^^^^^^^^^^^^^^^^^^^^^^\n",
      "  File \"c:\\Users\\trananhtu\\Desktop\\agents\\.venv\\Lib\\site-packages\\langchain_core\\language_models\\chat_models.py\", line 776, in generate\n",
      "    self._generate_with_cache(\n",
      "  File \"c:\\Users\\trananhtu\\Desktop\\agents\\.venv\\Lib\\site-packages\\langchain_core\\language_models\\chat_models.py\", line 1022, in _generate_with_cache\n",
      "    result = self._generate(\n",
      "             ^^^^^^^^^^^^^^^\n",
      "  File \"c:\\Users\\trananhtu\\Desktop\\agents\\.venv\\Lib\\site-packages\\langchain_openai\\chat_models\\base.py\", line 1071, in _generate\n",
      "    response = self.client.create(**payload)\n",
      "               ^^^^^^^^^^^^^^^^^^^^^^^^^^^^^\n",
      "  File \"c:\\Users\\trananhtu\\Desktop\\agents\\.venv\\Lib\\site-packages\\openai\\_utils\\_utils.py\", line 287, in wrapper\n",
      "    return func(*args, **kwargs)\n",
      "           ^^^^^^^^^^^^^^^^^^^^^\n",
      "  File \"c:\\Users\\trananhtu\\Desktop\\agents\\.venv\\Lib\\site-packages\\openai\\resources\\chat\\completions\\completions.py\", line 925, in create\n",
      "    return self._post(\n",
      "           ^^^^^^^^^^^\n",
      "  File \"c:\\Users\\trananhtu\\Desktop\\agents\\.venv\\Lib\\site-packages\\openai\\_base_client.py\", line 1249, in post\n",
      "    return cast(ResponseT, self.request(cast_to, opts, stream=stream, stream_cls=stream_cls))\n",
      "                           ^^^^^^^^^^^^^^^^^^^^^^^^^^^^^^^^^^^^^^^^^^^^^^^^^^^^^^^^^^^^^^^^^\n",
      "  File \"c:\\Users\\trananhtu\\Desktop\\agents\\.venv\\Lib\\site-packages\\openai\\_base_client.py\", line 1037, in request\n",
      "    raise self._make_status_error_from_response(err.response) from None\n",
      "openai.RateLimitError: Error code: 429 - {'error': {'message': 'Rate limit reached for gpt-4o-mini in organization org-9kQvgXqbItaqxThrqAdZHOCK on requests per min (RPM): Limit 3, Used 3, Requested 1. Please try again in 20s. Visit https://platform.openai.com/account/rate-limits to learn more. You can increase your rate limit by adding a payment method to your account at https://platform.openai.com/account/billing.', 'type': 'requests', 'param': None, 'code': 'rate_limit_exceeded'}}\n",
      "During task with name 'chatbot' and id 'dd421f3d-fb97-2f78-d113-215037fa787f'\n"
     ]
    },
    {
     "name": "stdout",
     "output_type": "stream",
     "text": [
      "{'messages': [HumanMessage(content='hi there', additional_kwargs={}, response_metadata={}, id='d6144090-9963-438c-b21b-3fb4f06edbc0'), AIMessage(content='Hello! How can I assist you today?', additional_kwargs={'refusal': None}, response_metadata={'token_usage': {'completion_tokens': 11, 'prompt_tokens': 90, 'total_tokens': 101, 'completion_tokens_details': {'accepted_prediction_tokens': 0, 'audio_tokens': 0, 'reasoning_tokens': 0, 'rejected_prediction_tokens': 0}, 'prompt_tokens_details': {'audio_tokens': 0, 'cached_tokens': 0}}, 'model_name': 'gpt-4o-mini-2024-07-18', 'system_fingerprint': 'fp_b376dfbbd5', 'id': 'chatcmpl-BInN7JUnEYNTQqokCF3eihp5oKP0V', 'finish_reason': 'stop', 'logprobs': None}, id='run-4b488710-73ac-435e-a944-913a0c812d08-0', usage_metadata={'input_tokens': 90, 'output_tokens': 11, 'total_tokens': 101, 'input_token_details': {'audio': 0, 'cache_read': 0}, 'output_token_details': {'audio': 0, 'reasoning': 0}}), HumanMessage(content=\"what's my name\", additional_kwargs={}, response_metadata={}, id='0ee3236f-a0f8-487c-9e18-3a1a83e91d81'), AIMessage(content=\"I don't have access to personal information unless you provide it. What would you like me to call you?\", additional_kwargs={'refusal': None}, response_metadata={'token_usage': {'completion_tokens': 23, 'prompt_tokens': 111, 'total_tokens': 134, 'completion_tokens_details': {'accepted_prediction_tokens': 0, 'audio_tokens': 0, 'reasoning_tokens': 0, 'rejected_prediction_tokens': 0}, 'prompt_tokens_details': {'audio_tokens': 0, 'cached_tokens': 0}}, 'model_name': 'gpt-4o-mini-2024-07-18', 'system_fingerprint': 'fp_b376dfbbd5', 'id': 'chatcmpl-BInNEm0T32rf7Lx23sOvrcePfgL8d', 'finish_reason': 'stop', 'logprobs': None}, id='run-c12bd46c-0c94-475c-b281-89773b1947a2-0', usage_metadata={'input_tokens': 111, 'output_tokens': 23, 'total_tokens': 134, 'input_token_details': {'audio': 0, 'cache_read': 0}, 'output_token_details': {'audio': 0, 'reasoning': 0}}), HumanMessage(content=\"My name's Ed\", additional_kwargs={}, response_metadata={}, id='65e59191-b993-4faf-9699-197f70b79fcd'), AIMessage(content='Nice to meet you, Ed! How can I assist you today?', additional_kwargs={'refusal': None}, response_metadata={'token_usage': {'completion_tokens': 16, 'prompt_tokens': 144, 'total_tokens': 160, 'completion_tokens_details': {'accepted_prediction_tokens': 0, 'audio_tokens': 0, 'reasoning_tokens': 0, 'rejected_prediction_tokens': 0}, 'prompt_tokens_details': {'audio_tokens': 0, 'cached_tokens': 0}}, 'model_name': 'gpt-4o-mini-2024-07-18', 'system_fingerprint': 'fp_b376dfbbd5', 'id': 'chatcmpl-BInNLLW9Z5vrmr2MUfk6CLJBnCMOg', 'finish_reason': 'stop', 'logprobs': None}, id='run-68e08e4e-bc27-4802-b800-8fb359a5d976-0', usage_metadata={'input_tokens': 144, 'output_tokens': 16, 'total_tokens': 160, 'input_token_details': {'audio': 0, 'cache_read': 0}, 'output_token_details': {'audio': 0, 'reasoning': 0}}), HumanMessage(content='hi there', additional_kwargs={}, response_metadata={}, id='dfeeb914-53d6-404f-9a5c-0531f1fe43fe'), AIMessage(content='Hello again, Ed! How can I help you today?', additional_kwargs={'refusal': None}, response_metadata={'token_usage': {'completion_tokens': 14, 'prompt_tokens': 168, 'total_tokens': 182, 'completion_tokens_details': {'accepted_prediction_tokens': 0, 'audio_tokens': 0, 'reasoning_tokens': 0, 'rejected_prediction_tokens': 0}, 'prompt_tokens_details': {'audio_tokens': 0, 'cached_tokens': 0}}, 'model_name': 'gpt-4o-mini-2024-07-18', 'system_fingerprint': 'fp_b376dfbbd5', 'id': 'chatcmpl-BInOS7TKECQA9Trbcv3mBsxkVJ8c3', 'finish_reason': 'stop', 'logprobs': None}, id='run-8b9e7d2c-d34d-4d84-99d2-dcb6b26b84bf-0', usage_metadata={'input_tokens': 168, 'output_tokens': 14, 'total_tokens': 182, 'input_token_details': {'audio': 0, 'cache_read': 0}, 'output_token_details': {'audio': 0, 'reasoning': 0}}), HumanMessage(content='please send me a push notification with the current usd/gbp exchange rate', additional_kwargs={}, response_metadata={}, id='6e096518-8d44-40e9-8aba-bf5027dac79c'), AIMessage(content='', additional_kwargs={'tool_calls': [{'id': 'call_mFP2QpmSUYlvqjz3HBvRv0Cv', 'function': {'arguments': '{\"__arg1\":\"current USD to GBP exchange rate\"}', 'name': 'search'}, 'type': 'function'}], 'refusal': None}, response_metadata={'token_usage': {'completion_tokens': 21, 'prompt_tokens': 203, 'total_tokens': 224, 'completion_tokens_details': {'accepted_prediction_tokens': 0, 'audio_tokens': 0, 'reasoning_tokens': 0, 'rejected_prediction_tokens': 0}, 'prompt_tokens_details': {'audio_tokens': 0, 'cached_tokens': 0}}, 'model_name': 'gpt-4o-mini-2024-07-18', 'system_fingerprint': 'fp_b376dfbbd5', 'id': 'chatcmpl-BInShCTgCsggydsrv3MmpIXLyvzGF', 'finish_reason': 'tool_calls', 'logprobs': None}, id='run-1bc3e47d-30c5-40f4-a9da-42dd24e74732-0', tool_calls=[{'name': 'search', 'args': {'__arg1': 'current USD to GBP exchange rate'}, 'id': 'call_mFP2QpmSUYlvqjz3HBvRv0Cv', 'type': 'tool_call'}], usage_metadata={'input_tokens': 203, 'output_tokens': 21, 'total_tokens': 224, 'input_token_details': {'audio': 0, 'cache_read': 0}, 'output_token_details': {'audio': 0, 'reasoning': 0}}), ToolMessage(content='0.78 Pound sterling', name='search', id='04044643-e40a-4bda-a03c-bc80949d039c', tool_call_id='call_mFP2QpmSUYlvqjz3HBvRv0Cv'), AIMessage(content='', additional_kwargs={'tool_calls': [{'id': 'call_2RByu6cFdwow5BWX8eblN402', 'function': {'arguments': '{\"__arg1\":\"The current USD/GBP exchange rate is 0.78.\"}', 'name': 'send_push_notification'}, 'type': 'function'}], 'refusal': None}, response_metadata={'token_usage': {'completion_tokens': 30, 'prompt_tokens': 235, 'total_tokens': 265, 'completion_tokens_details': {'accepted_prediction_tokens': 0, 'audio_tokens': 0, 'reasoning_tokens': 0, 'rejected_prediction_tokens': 0}, 'prompt_tokens_details': {'audio_tokens': 0, 'cached_tokens': 0}}, 'model_name': 'gpt-4o-mini-2024-07-18', 'system_fingerprint': 'fp_b376dfbbd5', 'id': 'chatcmpl-BInSjgdmKJqByJ2VIxpCZE5vEQpep', 'finish_reason': 'tool_calls', 'logprobs': None}, id='run-030db0cd-4acc-4354-aa65-ae772d33be07-0', tool_calls=[{'name': 'send_push_notification', 'args': {'__arg1': 'The current USD/GBP exchange rate is 0.78.'}, 'id': 'call_2RByu6cFdwow5BWX8eblN402', 'type': 'tool_call'}], usage_metadata={'input_tokens': 235, 'output_tokens': 30, 'total_tokens': 265, 'input_token_details': {'audio': 0, 'cache_read': 0}, 'output_token_details': {'audio': 0, 'reasoning': 0}}), ToolMessage(content='null', name='send_push_notification', id='f16f6e9d-2d0e-4aca-991f-0d9fe7064574', tool_call_id='call_2RByu6cFdwow5BWX8eblN402'), AIMessage(content=\"I've sent you a push notification with the current USD/GBP exchange rate: 0.78. If you need anything else, just let me know!\", additional_kwargs={'refusal': None}, response_metadata={'token_usage': {'completion_tokens': 33, 'prompt_tokens': 274, 'total_tokens': 307, 'completion_tokens_details': {'accepted_prediction_tokens': 0, 'audio_tokens': 0, 'reasoning_tokens': 0, 'rejected_prediction_tokens': 0}, 'prompt_tokens_details': {'audio_tokens': 0, 'cached_tokens': 0}}, 'model_name': 'gpt-4o-mini-2024-07-18', 'system_fingerprint': 'fp_b376dfbbd5', 'id': 'chatcmpl-BInSk4W7o3wDEZhzLtixtWOVgEw4Y', 'finish_reason': 'stop', 'logprobs': None}, id='run-bc27a847-b5bf-4565-85af-8e3163f2c271-0', usage_metadata={'input_tokens': 274, 'output_tokens': 33, 'total_tokens': 307, 'input_token_details': {'audio': 0, 'cache_read': 0}, 'output_token_details': {'audio': 0, 'reasoning': 0}}), HumanMessage(content='can you send that push notification again please', additional_kwargs={}, response_metadata={}, id='328adc3d-8c39-4312-952c-3d3b87d5f736'), AIMessage(content='', additional_kwargs={'tool_calls': [{'id': 'call_9xFtRNwSPl00BBRdY3VGdZ9Y', 'function': {'arguments': '{\"__arg1\":\"The current USD/GBP exchange rate is 0.78.\"}', 'name': 'send_push_notification'}, 'type': 'function'}], 'refusal': None}, response_metadata={'token_usage': {'completion_tokens': 30, 'prompt_tokens': 321, 'total_tokens': 351, 'completion_tokens_details': {'accepted_prediction_tokens': 0, 'audio_tokens': 0, 'reasoning_tokens': 0, 'rejected_prediction_tokens': 0}, 'prompt_tokens_details': {'audio_tokens': 0, 'cached_tokens': 0}}, 'model_name': 'gpt-4o-mini-2024-07-18', 'system_fingerprint': 'fp_b376dfbbd5', 'id': 'chatcmpl-BInTHUIOvZ0DAwfqnVlb1SRlaKHmH', 'finish_reason': 'tool_calls', 'logprobs': None}, id='run-a2225381-34da-44b4-9e8d-45a0b8c29693-0', tool_calls=[{'name': 'send_push_notification', 'args': {'__arg1': 'The current USD/GBP exchange rate is 0.78.'}, 'id': 'call_9xFtRNwSPl00BBRdY3VGdZ9Y', 'type': 'tool_call'}], usage_metadata={'input_tokens': 321, 'output_tokens': 30, 'total_tokens': 351, 'input_token_details': {'audio': 0, 'cache_read': 0}, 'output_token_details': {'audio': 0, 'reasoning': 0}}), ToolMessage(content='null', name='send_push_notification', id='433985ee-9eeb-4b4b-866e-23cfc0f8e9fb', tool_call_id='call_9xFtRNwSPl00BBRdY3VGdZ9Y'), AIMessage(content=\"I've sent the push notification again with the current USD/GBP exchange rate: 0.78. If there's anything else you need, feel free to ask!\", additional_kwargs={'refusal': None}, response_metadata={'token_usage': {'completion_tokens': 34, 'prompt_tokens': 360, 'total_tokens': 394, 'completion_tokens_details': {'accepted_prediction_tokens': 0, 'audio_tokens': 0, 'reasoning_tokens': 0, 'rejected_prediction_tokens': 0}, 'prompt_tokens_details': {'audio_tokens': 0, 'cached_tokens': 0}}, 'model_name': 'gpt-4o-mini-2024-07-18', 'system_fingerprint': 'fp_b376dfbbd5', 'id': 'chatcmpl-BInTJ24F3iaC2JFCLGFb715HxeWU9', 'finish_reason': 'stop', 'logprobs': None}, id='run-eda57a8e-26a4-4aed-a3c6-ce404e2d5cfa-0', usage_metadata={'input_tokens': 360, 'output_tokens': 34, 'total_tokens': 394, 'input_token_details': {'audio': 0, 'cache_read': 0}, 'output_token_details': {'audio': 0, 'reasoning': 0}}), HumanMessage(content='hi there , my name is Tu', additional_kwargs={}, response_metadata={}, id='0d0010c6-14ff-410b-8985-fbdb66c77115'), AIMessage(content='Hello, Tu! Nice to meet you! How can I assist you today?', additional_kwargs={'refusal': None}, response_metadata={'token_usage': {'completion_tokens': 17, 'prompt_tokens': 407, 'total_tokens': 424, 'completion_tokens_details': {'accepted_prediction_tokens': 0, 'audio_tokens': 0, 'reasoning_tokens': 0, 'rejected_prediction_tokens': 0}, 'prompt_tokens_details': {'audio_tokens': 0, 'cached_tokens': 0}}, 'model_name': 'gpt-4o-mini-2024-07-18', 'system_fingerprint': 'fp_560af6e559', 'id': 'chatcmpl-CJwwDNJXKYniDAbu0E9jUWtlHHVZJ', 'service_tier': 'default', 'finish_reason': 'stop', 'logprobs': None}, id='run--a79821cb-cd44-4ea0-994d-790718378078-0', usage_metadata={'input_tokens': 407, 'output_tokens': 17, 'total_tokens': 424, 'input_token_details': {'audio': 0, 'cache_read': 0}, 'output_token_details': {'audio': 0, 'reasoning': 0}}), HumanMessage(content='what is my name?', additional_kwargs={}, response_metadata={}, id='98801c89-ff0f-4792-a8f7-a61ed9f4c3df'), AIMessage(content='Your name is Tu. How can I assist you today?', additional_kwargs={'refusal': None}, response_metadata={'token_usage': {'completion_tokens': 13, 'prompt_tokens': 436, 'total_tokens': 449, 'completion_tokens_details': {'accepted_prediction_tokens': 0, 'audio_tokens': 0, 'reasoning_tokens': 0, 'rejected_prediction_tokens': 0}, 'prompt_tokens_details': {'audio_tokens': 0, 'cached_tokens': 0}}, 'model_name': 'gpt-4o-mini-2024-07-18', 'system_fingerprint': 'fp_560af6e559', 'id': 'chatcmpl-CJwwNAPWfDGpWn15t3hnrfgUDv7f6', 'service_tier': 'default', 'finish_reason': 'stop', 'logprobs': None}, id='run--a6c7025d-985f-48c3-8ed9-5d1e24b34ec1-0', usage_metadata={'input_tokens': 436, 'output_tokens': 13, 'total_tokens': 449, 'input_token_details': {'audio': 0, 'cache_read': 0}, 'output_token_details': {'audio': 0, 'reasoning': 0}}), HumanMessage(content='please send me a push notification with the current JPY/VND exchange rate. if you need anything else, just let me know!', additional_kwargs={}, response_metadata={}, id='6035b978-b046-4ee0-a05b-4a234c8fa676'), AIMessage(content='', additional_kwargs={'tool_calls': [{'id': 'call_lV7juRyPrzGPcjZwPiiFdw77', 'function': {'arguments': '{\"__arg1\":\"current JPY to VND exchange rate\"}', 'name': 'search'}, 'type': 'function'}], 'refusal': None}, response_metadata={'token_usage': {'completion_tokens': 22, 'prompt_tokens': 483, 'total_tokens': 505, 'completion_tokens_details': {'accepted_prediction_tokens': 0, 'audio_tokens': 0, 'reasoning_tokens': 0, 'rejected_prediction_tokens': 0}, 'prompt_tokens_details': {'audio_tokens': 0, 'cached_tokens': 0}}, 'model_name': 'gpt-4o-mini-2024-07-18', 'system_fingerprint': 'fp_560af6e559', 'id': 'chatcmpl-CJwyYbFInjWoeJ6j66VurPN61osNX', 'service_tier': 'default', 'finish_reason': 'tool_calls', 'logprobs': None}, id='run--f970645b-9728-4c65-8f8a-f59ac6109740-0', tool_calls=[{'name': 'search', 'args': {'__arg1': 'current JPY to VND exchange rate'}, 'id': 'call_lV7juRyPrzGPcjZwPiiFdw77', 'type': 'tool_call'}], usage_metadata={'input_tokens': 483, 'output_tokens': 22, 'total_tokens': 505, 'input_token_details': {'audio': 0, 'cache_read': 0}, 'output_token_details': {'audio': 0, 'reasoning': 0}}), ToolMessage(content=\"The change for JPY to VND was -1.59. The performance of JPY to VND in the last 90 days saw a 90 day high of 182.3380 and a 90 day low of 173.7330. This means ... Get the latest 1 Japanese Yen to Vietnamese Dong rate for FREE with the original Universal Currency Converter. Set rate alerts for JPY to VND and learn more ... Check today's JPY to VND exchange rate with Western Union's currency converter. Send JPY and your receiver will get VND in minutes. Check out our live JPY to VND exchange rates, then easily send Japanese Yen to Vietnamese Dong or spend with your card in Japan. JPYVND Japanese Yen Vietnamese DongCurrency Exchange Rate Live Price Chart ; Exchange Rate. 176.291 ; Monthly. -1.39% ; Yearly. 3.91% ; Q3 Forecast. 178.123 ... JPY to VND currency chart. XE's free live currency conversion chart for Japanese Yen to Vietnamese Dong allows you to pair exchange rate history for up to ... The lowest Japanese yen to Vietnamese dongs rate was on March 28, 2025 when 1 Japanese yen was worth 169.5620 Vietnamese dong. JPY to VND : exchange rates today · 1 JPY 180.55 VND · 5 JPY 902.76 VND · 10 JPY 1,805.52 VND · 25 JPY 4,513.79 VND · 50 JPY 9,027.58 VND · 100 JPY 18,055.16 VND · 500 ... Provides real-time latest exchange rates for 1500 Japanese yen to Vietnamese dong today, offers free online currency converter tools, enabling you to ... How much is 500 JPY worth in VND? 500 JPY to VND live exchange rates. 1 JPY = 178.3435 VND. ₫7.06 ...\", name='search', id='a949494e-87d3-4641-ba3f-2bdaeb3b9fab', tool_call_id='call_lV7juRyPrzGPcjZwPiiFdw77'), AIMessage(content='', additional_kwargs={'tool_calls': [{'id': 'call_AYM6axwNwS3iEb2lZl8GClIl', 'function': {'arguments': '{\"__arg1\":\"The current JPY/VND exchange rate is 176.291.\"}', 'name': 'send_push_notification'}, 'type': 'function'}], 'refusal': None}, response_metadata={'token_usage': {'completion_tokens': 30, 'prompt_tokens': 929, 'total_tokens': 959, 'completion_tokens_details': {'accepted_prediction_tokens': 0, 'audio_tokens': 0, 'reasoning_tokens': 0, 'rejected_prediction_tokens': 0}, 'prompt_tokens_details': {'audio_tokens': 0, 'cached_tokens': 0}}, 'model_name': 'gpt-4o-mini-2024-07-18', 'system_fingerprint': 'fp_560af6e559', 'id': 'chatcmpl-CJwycBU6Ak8rcfeaz7S5RrGnPgPvj', 'service_tier': 'default', 'finish_reason': 'tool_calls', 'logprobs': None}, id='run--bddddb8f-1f49-4363-b169-13a1973a1a64-0', tool_calls=[{'name': 'send_push_notification', 'args': {'__arg1': 'The current JPY/VND exchange rate is 176.291.'}, 'id': 'call_AYM6axwNwS3iEb2lZl8GClIl', 'type': 'tool_call'}], usage_metadata={'input_tokens': 929, 'output_tokens': 30, 'total_tokens': 959, 'input_token_details': {'audio': 0, 'cache_read': 0}, 'output_token_details': {'audio': 0, 'reasoning': 0}}), ToolMessage(content='null', name='send_push_notification', id='ac6787fc-66bc-4529-a3e2-fe93df188c94', tool_call_id='call_AYM6axwNwS3iEb2lZl8GClIl'), HumanMessage(content='please send me a push notification with the current USD/VND exchange rate. if you need anything else, just let me know!', additional_kwargs={}, response_metadata={}, id='cbb63a47-4fe2-44be-bad8-bd7f1ce2c288'), AIMessage(content='', additional_kwargs={'tool_calls': [{'id': 'call_GnOecCFcUul3UuwThl3M1unh', 'function': {'arguments': '{\"__arg1\":\"current USD to VND exchange rate\"}', 'name': 'search'}, 'type': 'function'}], 'refusal': None}, response_metadata={'token_usage': {'completion_tokens': 21, 'prompt_tokens': 999, 'total_tokens': 1020, 'completion_tokens_details': {'accepted_prediction_tokens': 0, 'audio_tokens': 0, 'reasoning_tokens': 0, 'rejected_prediction_tokens': 0}, 'prompt_tokens_details': {'audio_tokens': 0, 'cached_tokens': 0}}, 'model_name': 'gpt-4o-mini-2024-07-18', 'system_fingerprint': 'fp_560af6e559', 'id': 'chatcmpl-CJx0Nyvu3OeehskXXe9pXUS7HHqy4', 'service_tier': 'default', 'finish_reason': 'tool_calls', 'logprobs': None}, id='run--4e15d815-22ee-42f8-9e00-0084a8b921e7-0', tool_calls=[{'name': 'search', 'args': {'__arg1': 'current USD to VND exchange rate'}, 'id': 'call_GnOecCFcUul3UuwThl3M1unh', 'type': 'tool_call'}], usage_metadata={'input_tokens': 999, 'output_tokens': 21, 'total_tokens': 1020, 'input_token_details': {'audio': 0, 'cache_read': 0}, 'output_token_details': {'audio': 0, 'reasoning': 0}}), ToolMessage(content=\"US dollars to Vietnamese dongs today. Convert USD to VND at the mid-market exchange rate. ... USD to VND exchange rates today. USD, VND. 1 USD, 26,403 VND. 5 USD ... Convert US Dollar to Vietnamese Dong ; 1 USD, 26,429.2 VND ; 5 USD, 132,146 VND ; 10 USD, 264,292 VND ; 25 USD, 660,730 VND. To convert USD to VND, enter the amount, choose currencies, and see the latest rate. The current rate is 1 USD to 26584.6368 VND. Rates are estimates and may ... ... VND. Exchange rate updated at 08:26 on 26/09/2025. The list of currency rates. Updated on. Download the Excel file. Currency Code Currency Code, Currency Name ... OPEN. 26,401.3000 ; PREV. CLOSE. 26,400.4000 ; YTD RETURN. 3.59% ; DAY RANGE. 26,399.0000–26,407.5000 ; 52 WEEK RANGE. 24,548.0000–26,437.0000. US Dollars to Vietnamese Dong: exchange rates today ; 1 USD, 26,258 VND ; 10 USD, 262,581 VND ; 20 USD, 525,163 VND ; 50 USD, 1,312,908 VND. The current USD/VND exchange rate is 26,398.5, with a previous close of 26,380.00. What Is the Daily Range for USD/VND? Today's ... Remitly offers dependable exchange rates for USD to VND with no hidden fees. Join today and get a promotional rate of 26430.24 VND to 1 USD on your first money ... Check live exchange rates for 1 USD to VND with our USD to VND chart. Exchange US dollars to Vietnamese đồng at a great exchange rate with OFX. USD to VND ... US Dollars to Vietnamese Dong: exchange rates today ; 1 USD, 26,259 VND ; 10 USD, 262,592 VND ; 20 USD, 525,184 VND ; 50 USD, 1,312,962 VND.\", name='search', id='12151fb3-100b-4496-8db6-df4bd3c80db0', tool_call_id='call_GnOecCFcUul3UuwThl3M1unh'), HumanMessage(content='please send me a push notification with the current JPY/VND exchange rate. if you need anything else, just let me know!', additional_kwargs={}, response_metadata={}, id='c1d364ff-9465-49a8-8b5a-a58ebeddf818'), AIMessage(content='', additional_kwargs={'tool_calls': [{'id': 'call_wvxBMkTdY0YpNGMQDVNK7ANE', 'function': {'arguments': '{\"__arg1\": \"current JPY to VND exchange rate\"}', 'name': 'search'}, 'type': 'function'}, {'id': 'call_q086BcxuO9QJET55qp33SbOD', 'function': {'arguments': '{\"__arg1\": \"current USD to VND exchange rate\"}', 'name': 'search'}, 'type': 'function'}], 'refusal': None}, response_metadata={'token_usage': {'completion_tokens': 59, 'prompt_tokens': 1548, 'total_tokens': 1607, 'completion_tokens_details': {'accepted_prediction_tokens': 0, 'audio_tokens': 0, 'reasoning_tokens': 0, 'rejected_prediction_tokens': 0}, 'prompt_tokens_details': {'audio_tokens': 0, 'cached_tokens': 0}}, 'model_name': 'gpt-4o-mini-2024-07-18', 'system_fingerprint': 'fp_560af6e559', 'id': 'chatcmpl-CJx0wDaqOGc4MzuBuGXeIskwwYbg0', 'service_tier': 'default', 'finish_reason': 'tool_calls', 'logprobs': None}, id='run--c2cfd64a-e558-431a-9970-be035b130fff-0', tool_calls=[{'name': 'search', 'args': {'__arg1': 'current JPY to VND exchange rate'}, 'id': 'call_wvxBMkTdY0YpNGMQDVNK7ANE', 'type': 'tool_call'}, {'name': 'search', 'args': {'__arg1': 'current USD to VND exchange rate'}, 'id': 'call_q086BcxuO9QJET55qp33SbOD', 'type': 'tool_call'}], usage_metadata={'input_tokens': 1548, 'output_tokens': 59, 'total_tokens': 1607, 'input_token_details': {'audio': 0, 'cache_read': 0}, 'output_token_details': {'audio': 0, 'reasoning': 0}}), ToolMessage(content=\"The change for JPY to VND was -1.59. The performance of JPY to VND in the last 90 days saw a 90 day high of 182.3380 and a 90 day low of 173.7330. This means ... Convert Japanese Yen to Vietnamese Dong ; 100 JPY, 17,873.4 VND ; 500 JPY, 89,366.9 VND ; 1,000 JPY, 178,734 VND ; 5,000 JPY, 893,669 VND. 1 JPY = 178.9138 VND · 1. Start your money transfer · 2. Check out our rates and fees · 3. Send your money. JPYVND Japanese Yen Vietnamese DongCurrency Exchange Rate Live Price Chart ; Exchange Rate. 176.291 ; Monthly. -1.39% ; Yearly. 3.91% ; Q3 Forecast. 178.123 ... Check today's JPY to VND exchange rate with Western Union's currency converter. Send JPY and your receiver will get VND in minutes. The exchange rate for Japanese yen to Vietnamese dongs is currently 176.25 today, reflecting a -0.779% change since yesterday. Over the past week, the value of ... JPY to VND currency chart. XE's free live currency conversion chart for Japanese Yen to Vietnamese Dong allows you to pair exchange rate history for up to ... 500 JPY to VND live exchange rates · 1 JPY = 178.3435 VND · 1. Start your money transfer · 2. Check out our rates and fees · 3. Send your money · 500 JPY to VND ... Japanese yen Exchange Rate Conversion Table ; 1 JPY, 0.0066627 · 0.047696 ; 10 JPY, 0.066627 · 0.47696 ; 25 JPY, 0.1665675 · 1.1924 ; 50 JPY, 0.333135 · 2.3848 ... 1 JPY = 176.129937 VND Sep 25, 2025 23:34 UTC · 176.129937 Vietnamese Dong.\", name='search', id='0e845533-f8d4-4f9e-b3c5-829c20909a7c', tool_call_id='call_wvxBMkTdY0YpNGMQDVNK7ANE'), ToolMessage(content=\"USD to VND exchange rates today ; 1 USD, 26,403 VND ; 5 USD, 132,017 VND ; 10 USD, 264,033 VND ; 20 USD, 528,066 VND. Check today's USD to VND exchange rate with Western Union's currency converter. Send USD and your receiver will get VND in minutes. Convert US Dollar to Vietnamese Dong ; 1 USD, 26,429.2 VND ; 5 USD, 132,146 VND ; 10 USD, 264,292 VND ; 25 USD, 660,730 VND. ... VND. Exchange rate updated at 08:26 on 26/09/2025. The list of currency rates. Updated on. Download the Excel file. Currency Code Currency Code, Currency Name ... OPEN. 26,401.3000 ; PREV. CLOSE. 26,400.4000 ; YTD RETURN. 3.59% ; DAY RANGE. 26,399.0000–26,407.5000 ; 52 WEEK RANGE. 24,548.0000–26,437.0000. US Dollars to Vietnamese Dong: exchange rates today. USD. VND. 1 USD, 26,258 ... The current USD/VND exchange rate is 26,398.5, with a previous close of 26,380.00. What Is the Daily Range for USD/VND? Today's ... Remitly offers dependable exchange rates for USD to VND with no hidden fees. Join today and get a promotional rate of 26430.24 VND to 1 USD on your first money ... USD to VND currency chart. XE's free live currency conversion chart for US Dollar to Vietnamese Dong allows you to pair exchange rate history for up to 10 ... Check live exchange rates for 1 USD to VND with our USD to VND chart. Exchange US dollars to Vietnamese đồng at a great exchange rate with OFX. USD to VND ...\", name='search', id='c08f70cc-a298-491c-8ca2-dfee0cec0783', tool_call_id='call_q086BcxuO9QJET55qp33SbOD'), HumanMessage(content='please send me a push notification with the current JPY/VND exchange rate. if you need anything else, just let me know!', additional_kwargs={}, response_metadata={}, id='75d941d7-0e91-4fe6-bc48-1c12aad16036'), AIMessage(content='', additional_kwargs={'tool_calls': [{'id': 'call_R3PAaGZKHQ2tNzZaIvZVBaOy', 'function': {'arguments': '{\"__arg1\":\"The current JPY/VND exchange rate is 178.91.\"}', 'name': 'send_push_notification'}, 'type': 'function'}], 'refusal': None}, response_metadata={'token_usage': {'completion_tokens': 30, 'prompt_tokens': 2607, 'total_tokens': 2637, 'completion_tokens_details': {'accepted_prediction_tokens': 0, 'audio_tokens': 0, 'reasoning_tokens': 0, 'rejected_prediction_tokens': 0}, 'prompt_tokens_details': {'audio_tokens': 0, 'cached_tokens': 0}}, 'model_name': 'gpt-4o-mini-2024-07-18', 'system_fingerprint': 'fp_560af6e559', 'id': 'chatcmpl-CJxCiaiPYXjOlBwUWIlnKDvrVTMwE', 'service_tier': 'default', 'finish_reason': 'tool_calls', 'logprobs': None}, id='run--954f76ee-e50c-4035-963c-ec7008f73fe0-0', tool_calls=[{'name': 'send_push_notification', 'args': {'__arg1': 'The current JPY/VND exchange rate is 178.91.'}, 'id': 'call_R3PAaGZKHQ2tNzZaIvZVBaOy', 'type': 'tool_call'}], usage_metadata={'input_tokens': 2607, 'output_tokens': 30, 'total_tokens': 2637, 'input_token_details': {'audio': 0, 'cache_read': 0}, 'output_token_details': {'audio': 0, 'reasoning': 0}}), ToolMessage(content='null', name='send_push_notification', id='8fa1c06d-a79f-4f13-a823-e93e27fe4144', tool_call_id='call_R3PAaGZKHQ2tNzZaIvZVBaOy'), HumanMessage(content='please send me a push notification with the current JPY/VND exchange rate.', additional_kwargs={}, response_metadata={}, id='ed61ca74-18b2-411b-a970-ddc1a3bbe5a4')]}\n"
     ]
    },
    {
     "name": "stderr",
     "output_type": "stream",
     "text": [
      "Traceback (most recent call last):\n",
      "  File \"c:\\Users\\trananhtu\\Desktop\\agents\\.venv\\Lib\\site-packages\\gradio\\queueing.py\", line 625, in process_events\n",
      "    response = await route_utils.call_process_api(\n",
      "               ^^^^^^^^^^^^^^^^^^^^^^^^^^^^^^^^^^^\n",
      "  File \"c:\\Users\\trananhtu\\Desktop\\agents\\.venv\\Lib\\site-packages\\gradio\\route_utils.py\", line 322, in call_process_api\n",
      "    output = await app.get_blocks().process_api(\n",
      "             ^^^^^^^^^^^^^^^^^^^^^^^^^^^^^^^^^^^\n",
      "  File \"c:\\Users\\trananhtu\\Desktop\\agents\\.venv\\Lib\\site-packages\\gradio\\blocks.py\", line 2220, in process_api\n",
      "    result = await self.call_function(\n",
      "             ^^^^^^^^^^^^^^^^^^^^^^^^^\n",
      "  File \"c:\\Users\\trananhtu\\Desktop\\agents\\.venv\\Lib\\site-packages\\gradio\\blocks.py\", line 1729, in call_function\n",
      "    prediction = await fn(*processed_input)\n",
      "                 ^^^^^^^^^^^^^^^^^^^^^^^^^^\n",
      "  File \"c:\\Users\\trananhtu\\Desktop\\agents\\.venv\\Lib\\site-packages\\gradio\\utils.py\", line 871, in async_wrapper\n",
      "    response = await f(*args, **kwargs)\n",
      "               ^^^^^^^^^^^^^^^^^^^^^^^^\n",
      "  File \"c:\\Users\\trananhtu\\Desktop\\agents\\.venv\\Lib\\site-packages\\gradio\\chat_interface.py\", line 545, in __wrapper\n",
      "    return await submit_fn(*args, **kwargs)\n",
      "           ^^^^^^^^^^^^^^^^^^^^^^^^^^^^^^^^\n",
      "  File \"c:\\Users\\trananhtu\\Desktop\\agents\\.venv\\Lib\\site-packages\\gradio\\chat_interface.py\", line 917, in _submit_fn\n",
      "    response = await anyio.to_thread.run_sync(\n",
      "               ^^^^^^^^^^^^^^^^^^^^^^^^^^^^^^^\n",
      "  File \"c:\\Users\\trananhtu\\Desktop\\agents\\.venv\\Lib\\site-packages\\anyio\\to_thread.py\", line 56, in run_sync\n",
      "    return await get_async_backend().run_sync_in_worker_thread(\n",
      "           ^^^^^^^^^^^^^^^^^^^^^^^^^^^^^^^^^^^^^^^^^^^^^^^^^^^^\n",
      "  File \"c:\\Users\\trananhtu\\Desktop\\agents\\.venv\\Lib\\site-packages\\anyio\\_backends\\_asyncio.py\", line 2470, in run_sync_in_worker_thread\n",
      "    return await future\n",
      "           ^^^^^^^^^^^^\n",
      "  File \"c:\\Users\\trananhtu\\Desktop\\agents\\.venv\\Lib\\site-packages\\anyio\\_backends\\_asyncio.py\", line 967, in run\n",
      "    result = context.run(func, *args)\n",
      "             ^^^^^^^^^^^^^^^^^^^^^^^^\n",
      "  File \"C:\\Users\\trananhtu\\AppData\\Local\\Temp\\ipykernel_24324\\2466124301.py\", line 4, in chat\n",
      "    result = graph.invoke({\"messages\": [{\"role\": \"user\", \"content\": user_input}]}, config=config)\n",
      "             ^^^^^^^^^^^^^^^^^^^^^^^^^^^^^^^^^^^^^^^^^^^^^^^^^^^^^^^^^^^^^^^^^^^^^^^^^^^^^^^^^^^^\n",
      "  File \"c:\\Users\\trananhtu\\Desktop\\agents\\.venv\\Lib\\site-packages\\langgraph\\pregel\\__init__.py\", line 2719, in invoke\n",
      "    for chunk in self.stream(\n",
      "                 ^^^^^^^^^^^^\n",
      "  File \"c:\\Users\\trananhtu\\Desktop\\agents\\.venv\\Lib\\site-packages\\langgraph\\pregel\\__init__.py\", line 2436, in stream\n",
      "    for _ in runner.tick(\n",
      "             ^^^^^^^^^^^^\n",
      "  File \"c:\\Users\\trananhtu\\Desktop\\agents\\.venv\\Lib\\site-packages\\langgraph\\pregel\\runner.py\", line 162, in tick\n",
      "    run_with_retry(\n",
      "  File \"c:\\Users\\trananhtu\\Desktop\\agents\\.venv\\Lib\\site-packages\\langgraph\\pregel\\retry.py\", line 40, in run_with_retry\n",
      "    return task.proc.invoke(task.input, config)\n",
      "           ^^^^^^^^^^^^^^^^^^^^^^^^^^^^^^^^^^^^\n",
      "  File \"c:\\Users\\trananhtu\\Desktop\\agents\\.venv\\Lib\\site-packages\\langgraph\\utils\\runnable.py\", line 623, in invoke\n",
      "    input = context.run(step.invoke, input, config, **kwargs)\n",
      "            ^^^^^^^^^^^^^^^^^^^^^^^^^^^^^^^^^^^^^^^^^^^^^^^^^\n",
      "  File \"c:\\Users\\trananhtu\\Desktop\\agents\\.venv\\Lib\\site-packages\\langgraph\\utils\\runnable.py\", line 377, in invoke\n",
      "    ret = self.func(*args, **kwargs)\n",
      "          ^^^^^^^^^^^^^^^^^^^^^^^^^^\n",
      "  File \"C:\\Users\\trananhtu\\AppData\\Local\\Temp\\ipykernel_24324\\1785292979.py\", line 11, in chatbot\n",
      "    return {\"messages\": [llm_with_tools.invoke(state[\"messages\"])]}\n",
      "                         ^^^^^^^^^^^^^^^^^^^^^^^^^^^^^^^^^^^^^^^^\n",
      "  File \"c:\\Users\\trananhtu\\Desktop\\agents\\.venv\\Lib\\site-packages\\langchain_core\\runnables\\base.py\", line 5431, in invoke\n",
      "    return self.bound.invoke(\n",
      "           ^^^^^^^^^^^^^^^^^^\n",
      "  File \"c:\\Users\\trananhtu\\Desktop\\agents\\.venv\\Lib\\site-packages\\langchain_core\\language_models\\chat_models.py\", line 372, in invoke\n",
      "    self.generate_prompt(\n",
      "  File \"c:\\Users\\trananhtu\\Desktop\\agents\\.venv\\Lib\\site-packages\\langchain_core\\language_models\\chat_models.py\", line 957, in generate_prompt\n",
      "    return self.generate(prompt_messages, stop=stop, callbacks=callbacks, **kwargs)\n",
      "           ^^^^^^^^^^^^^^^^^^^^^^^^^^^^^^^^^^^^^^^^^^^^^^^^^^^^^^^^^^^^^^^^^^^^^^^^\n",
      "  File \"c:\\Users\\trananhtu\\Desktop\\agents\\.venv\\Lib\\site-packages\\langchain_core\\language_models\\chat_models.py\", line 776, in generate\n",
      "    self._generate_with_cache(\n",
      "  File \"c:\\Users\\trananhtu\\Desktop\\agents\\.venv\\Lib\\site-packages\\langchain_core\\language_models\\chat_models.py\", line 1022, in _generate_with_cache\n",
      "    result = self._generate(\n",
      "             ^^^^^^^^^^^^^^^\n",
      "  File \"c:\\Users\\trananhtu\\Desktop\\agents\\.venv\\Lib\\site-packages\\langchain_openai\\chat_models\\base.py\", line 1071, in _generate\n",
      "    response = self.client.create(**payload)\n",
      "               ^^^^^^^^^^^^^^^^^^^^^^^^^^^^^\n",
      "  File \"c:\\Users\\trananhtu\\Desktop\\agents\\.venv\\Lib\\site-packages\\openai\\_utils\\_utils.py\", line 287, in wrapper\n",
      "    return func(*args, **kwargs)\n",
      "           ^^^^^^^^^^^^^^^^^^^^^\n",
      "  File \"c:\\Users\\trananhtu\\Desktop\\agents\\.venv\\Lib\\site-packages\\openai\\resources\\chat\\completions\\completions.py\", line 925, in create\n",
      "    return self._post(\n",
      "           ^^^^^^^^^^^\n",
      "  File \"c:\\Users\\trananhtu\\Desktop\\agents\\.venv\\Lib\\site-packages\\openai\\_base_client.py\", line 1249, in post\n",
      "    return cast(ResponseT, self.request(cast_to, opts, stream=stream, stream_cls=stream_cls))\n",
      "                           ^^^^^^^^^^^^^^^^^^^^^^^^^^^^^^^^^^^^^^^^^^^^^^^^^^^^^^^^^^^^^^^^^\n",
      "  File \"c:\\Users\\trananhtu\\Desktop\\agents\\.venv\\Lib\\site-packages\\openai\\_base_client.py\", line 1037, in request\n",
      "    raise self._make_status_error_from_response(err.response) from None\n",
      "openai.RateLimitError: Error code: 429 - {'error': {'message': 'Rate limit reached for gpt-4o-mini in organization org-9kQvgXqbItaqxThrqAdZHOCK on requests per min (RPM): Limit 3, Used 3, Requested 1. Please try again in 20s. Visit https://platform.openai.com/account/rate-limits to learn more. You can increase your rate limit by adding a payment method to your account at https://platform.openai.com/account/billing.', 'type': 'requests', 'param': None, 'code': 'rate_limit_exceeded'}}\n",
      "During task with name 'chatbot' and id '42635bfa-7eeb-1ecb-d170-a97e8ba20239'\n"
     ]
    }
   ],
   "source": [
    "config = {\"configurable\": {\"thread_id\": \"3\"}}\n",
    "\n",
    "def chat(user_input: str, history):\n",
    "    result = graph.invoke({\"messages\": [{\"role\": \"user\", \"content\": user_input}]}, config=config)\n",
    "    return result[\"messages\"][-1].content\n",
    "\n",
    "\n",
    "gr.ChatInterface(chat, type=\"messages\").launch()"
   ]
  },
  {
   "cell_type": "code",
   "execution_count": null,
   "metadata": {},
   "outputs": [],
   "source": []
  }
 ],
 "metadata": {
  "kernelspec": {
   "display_name": ".venv",
   "language": "python",
   "name": "python3"
  },
  "language_info": {
   "codemirror_mode": {
    "name": "ipython",
    "version": 3
   },
   "file_extension": ".py",
   "mimetype": "text/x-python",
   "name": "python",
   "nbconvert_exporter": "python",
   "pygments_lexer": "ipython3",
   "version": "3.12.11"
  }
 },
 "nbformat": 4,
 "nbformat_minor": 2
}
