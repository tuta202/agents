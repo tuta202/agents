{
 "cells": [
  {
   "cell_type": "markdown",
   "id": "3cf25c26",
   "metadata": {},
   "source": [
    "# Build a Retrieval Augmented Generation (RAG) App"
   ]
  },
  {
   "cell_type": "markdown",
   "id": "21132aa8",
   "metadata": {},
   "source": [
    "The most common full sequence from raw data to answer looks like:\n",
    "\n",
    "### Indexing\n",
    "1. Load: First we need to load our data. This is done with Document Loaders.\n",
    "2. Split: Text splitters break large Documents into smaller chunks. This is useful both for indexing data and passing it into a model, as large chunks are harder to search over and won't fit in a model's finite context window.\n",
    "3. Store: We need somewhere to store and index our splits, so that they can be searched over later. This is often done using a VectorStore and Embeddings model.\n",
    "\n",
    "### Retrieval and generation\n",
    "4. Retrieve: Given a user input, relevant splits are retrieved from storage using a Retriever.\n",
    "5. Generate: A ChatModel / LLM produces an answer using a prompt that includes both the question with the retrieved data\n"
   ]
  },
  {
   "cell_type": "code",
   "execution_count": 68,
   "id": "11b9b746",
   "metadata": {},
   "outputs": [],
   "source": [
    "\n",
    "\n",
    "from langchain_openai import AzureChatOpenAI\n",
    "import bs4\n",
    "from langchain import hub\n",
    "from langchain_community.document_loaders import WebBaseLoader\n",
    "from langchain_community.document_loaders import PyPDFLoader, DirectoryLoader\n",
    "from langchain_core.documents import Document\n",
    "from langchain_text_splitters import RecursiveCharacterTextSplitter\n",
    "from langchain_core.vectorstores import InMemoryVectorStore\n",
    "from langgraph.graph import START, StateGraph\n",
    "from typing_extensions import List, TypedDict\n",
    "from langchain_community.embeddings import HuggingFaceEmbeddings\n",
    "from langchain.prompts import ChatPromptTemplate\n",
    "from IPython.display import Image, display\n",
    "from dotenv import load_dotenv\n",
    "import os"
   ]
  },
  {
   "cell_type": "code",
   "execution_count": 69,
   "id": "22c4dd33",
   "metadata": {},
   "outputs": [
    {
     "data": {
      "text/plain": [
       "True"
      ]
     },
     "execution_count": 69,
     "metadata": {},
     "output_type": "execute_result"
    }
   ],
   "source": [
    "load_dotenv(override=True)"
   ]
  },
  {
   "cell_type": "code",
   "execution_count": 70,
   "id": "e7ced031",
   "metadata": {},
   "outputs": [],
   "source": [
    "llm = AzureChatOpenAI(\n",
    "    api_key=os.getenv(\"AZURE_OPENAI_API_KEY\"),\n",
    "    api_version=os.getenv(\"AZURE_OPENAI_API_VERSION\"),\n",
    "    azure_endpoint=os.getenv(\"AZURE_OPENAI_ENDPOINT\"),\n",
    "    deployment_name=os.getenv(\"AZURE_OPENAI_DEPLOYMENT\")\n",
    ")"
   ]
  },
  {
   "cell_type": "code",
   "execution_count": 71,
   "id": "9f3db668",
   "metadata": {},
   "outputs": [
    {
     "data": {
      "text/plain": [
       "27"
      ]
     },
     "execution_count": 71,
     "metadata": {},
     "output_type": "execute_result"
    }
   ],
   "source": [
    "# Load and chunk contents of the blog\n",
    "pdf_data_path = \"example_data\"\n",
    "loader = DirectoryLoader(pdf_data_path, glob=\"*.pdf\", loader_cls=PyPDFLoader)\n",
    "docs = loader.load()\n",
    "\n",
    "text_splitter = RecursiveCharacterTextSplitter(\n",
    "    chunk_size=1000, chunk_overlap=200, add_start_index=True\n",
    ")\n",
    "all_splits = text_splitter.split_documents(docs)\n",
    "len(all_splits)\n"
   ]
  },
  {
   "cell_type": "code",
   "execution_count": 72,
   "id": "33865f5e",
   "metadata": {},
   "outputs": [],
   "source": [
    "# embeddings = OpenAIEmbeddings(model=\"text-embedding-3-small\")\n",
    "embedding_model = HuggingFaceEmbeddings(model_name=\"sentence-transformers/all-MiniLM-L6-v2\")\n",
    "vector_store = InMemoryVectorStore(embedding_model)"
   ]
  },
  {
   "cell_type": "code",
   "execution_count": 73,
   "id": "41933882",
   "metadata": {},
   "outputs": [
    {
     "name": "stdout",
     "output_type": "stream",
     "text": [
      "['1395915a-bf93-472b-8c89-98793d57f1e4', '2c10afbc-3695-4374-8aca-c7fde5787a59', '4dfc183e-ac1b-4959-8950-6cf0256ebc28', '06a6d243-cdcf-4b77-a119-fcfea1a94760', 'f1e3eeb9-91e3-4366-8da2-d3010a9272a1', 'ef807b1a-8444-4ca1-af19-a49a87880c2f', '46206e62-276c-46f3-9cea-0271ceea5393', 'b0e1bee1-55c8-468c-b7c2-ab853e9d4a53', '0a9a85a9-4afc-4678-b8e1-35d349fca146', 'ebee1307-dcf9-4f61-ac7a-18c9d5ae2089', '77a76547-c354-4c33-ac78-4a32edbd988c', 'a0ad8765-e11f-4699-9de2-638c4af79068', '57ccbb5c-5666-4639-a849-c68ace80cd6f', '637e6e3c-6cfd-422b-a666-147c953100f2', '3a5ddcab-cf0f-4344-8258-c9ac6c34f6d1', '90a73f36-ce66-407e-9d20-1f894606f1b7', 'a3bfe27e-6e60-4c6b-a82b-d7271db12e96', '3a0624a6-298c-430e-8088-c4ce5a456e80', '57f3156b-7361-4b05-8c36-e56e89c1c873', 'bfd28164-7898-4535-b4e1-1d194cd0c2b8', '55202a92-c98f-4956-b378-b9fe1c88f677', '86fa1984-a86e-42c9-9d12-74159ecf8ce5', '858b423e-833f-4bdd-aa6f-5e081f237482', '14bc292b-4cb3-49d0-abab-92b88080775d', '50f46582-2862-48fe-9959-1e5fe6c357d7', '28bfb675-b0fe-45a0-96ab-ad203cdf4a4f', '59f16a3a-825b-4f01-a03e-efc9835da53e']\n"
     ]
    }
   ],
   "source": [
    "# Index chunks\n",
    "document_ids = vector_store.add_documents(documents=all_splits)\n",
    "print(document_ids)"
   ]
  },
  {
   "cell_type": "code",
   "execution_count": 74,
   "id": "06a1bb1d",
   "metadata": {},
   "outputs": [],
   "source": [
    "prompt_template = ChatPromptTemplate.from_messages([\n",
    "    (\"system\", \n",
    "    \"You are a helpful AI assistant that answers questions based on the provided context.\"\n",
    "    \"If you don't know the answer, say 'I don’t know'. Don't try to make up an answer\"\n",
    "    \"Always answer in clear, concise.\"\n",
    "    \"Always say 'thanks for asking!' at the end of the answer.\"),\n",
    "    (\"user\", \n",
    "    \"Context:\\n{context}\\n\\nQuestion:\\n{question}\\n\\nAnswer based only on the context above.\")\n",
    "])"
   ]
  },
  {
   "cell_type": "code",
   "execution_count": 75,
   "id": "0cea3c86",
   "metadata": {},
   "outputs": [],
   "source": [
    "class State(TypedDict):\n",
    "    question: str\n",
    "    context: List[Document]\n",
    "    answer: str"
   ]
  },
  {
   "cell_type": "code",
   "execution_count": 76,
   "id": "67b594ce",
   "metadata": {},
   "outputs": [],
   "source": [
    "def retrieve(state: State):\n",
    "    retrieved_docs = vector_store.similarity_search(state[\"question\"])\n",
    "    return {\"context\": retrieved_docs}\n",
    "\n",
    "def generate(state: State):\n",
    "    docs_content = \"\\n\\n\".join(doc.page_content for doc in state[\"context\"])\n",
    "    messages = prompt_template.invoke({\"question\": state[\"question\"], \"context\": docs_content})\n",
    "    response = llm.invoke(messages)\n",
    "    return {\"answer\": response.content}"
   ]
  },
  {
   "cell_type": "code",
   "execution_count": 77,
   "id": "02cf34fa",
   "metadata": {},
   "outputs": [
    {
     "data": {
      "image/png": "[encoded data removed]",
      "text/plain": [
       "<IPython.core.display.Image object>"
      ]
     },
     "metadata": {},
     "output_type": "display_data"
    }
   ],
   "source": [
    "# Set up Graph Builder with State\n",
    "# Add nodes\n",
    "graph_builder = StateGraph(State).add_sequence([retrieve, generate])\n",
    "\n",
    "# Add edges\n",
    "graph_builder.add_edge(START, \"retrieve\")\n",
    "\n",
    "# Compile the graph\n",
    "graph = graph_builder.compile()\n",
    "\n",
    "display(Image(graph.get_graph().draw_mermaid_png()))"
   ]
  },
  {
   "cell_type": "code",
   "execution_count": 79,
   "id": "7708d694",
   "metadata": {},
   "outputs": [
    {
     "name": "stdout",
     "output_type": "stream",
     "text": [
      "The frontend job market in 2025 is thriving, driven by digital transformation and AI integration. React skills are the most widely demanded, appearing in 52% of job postings and offering a salary range between $110k–$150k across industries like tech and e-commerce. Next.js skills are also surging, appearing in 18% of roles and offering salaries in the $120k–$160k range, especially in SaaS and content platforms.\n",
      "\n",
      "Angular continues to hold steady in regulated industries such as enterprise and finance, appearing in 23% of postings and offering salaries between $115k–$155k. Vue.js (18%) and Nuxt.js (8%) cater to agile teams, startups, and the Asia-Pacific region with growing demand, while Astro (5%) is emerging in niches like marketing sites and blogs.\n",
      "\n",
      "Overall, React ecosystem skills yield the highest employability, covering 70% of jobs. Frameworks should be chosen based on project requirements and industry focus, with React/Angular suitable for scale, Vue/Nuxt for prototyping, and Astro for performance-optimized builds.\n",
      "\n",
      "Thanks for asking!\n"
     ]
    }
   ],
   "source": [
    "response = graph.invoke({\"question\": \"Could you tell me about Job Opportunities and Market Demand of Frontend Framework?\"})\n",
    "print(response[\"answer\"])"
   ]
  }
 ],
 "metadata": {
  "kernelspec": {
   "display_name": ".venv",
   "language": "python",
   "name": "python3"
  },
  "language_info": {
   "codemirror_mode": {
    "name": "ipython",
    "version": 3
   },
   "file_extension": ".py",
   "mimetype": "text/x-python",
   "name": "python",
   "nbconvert_exporter": "python",
   "pygments_lexer": "ipython3",
   "version": "3.12.11"
  }
 },
 "nbformat": 4,
 "nbformat_minor": 5
}
