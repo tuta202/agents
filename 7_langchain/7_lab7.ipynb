{
 "cells": [
  {
   "cell_type": "markdown",
   "id": "7e4d0105",
   "metadata": {},
   "source": [
    "## Summarize Text\n",
    "\n",
    "Suppose you have a set of documents (PDFs, Notion pages, customer questions, etc.) and you want to summarize the content.\n",
    "\n",
    "LLMs are a great tool for this given their proficiency in understanding and synthesizing text.\n",
    "\n",
    "In the context of retrieval-augmented generation, summarizing text can help distill the information in a large number of retrieved documents to provide context for a LLM.\n",
    "\n",
    "In this walkthrough we'll go over how to summarize content from multiple documents using LLMs.\n",
    "\n",
    "## Concepts\n",
    "- Concepts we will cover are:\n",
    "\n",
    "- Using language models.\n",
    "\n",
    "- Using document loaders, specifically the WebBaseLoader to load content from an HTML webpage.\n",
    "\n",
    "Two ways to summarize or otherwise combine documents.\n",
    "\n",
    "1. Stuff, which simply concatenates documents into a prompt;\n",
    "2. Map-reduce, for larger sets of documents. This splits documents into batches, summarizes those, and then summarizes the summaries."
   ]
  }
 ],
 "metadata": {
  "language_info": {
   "name": "python"
  }
 },
 "nbformat": 4,
 "nbformat_minor": 5
}
