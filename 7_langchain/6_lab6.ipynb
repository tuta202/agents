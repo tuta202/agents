{
 "cells": [
  {
   "cell_type": "code",
   "execution_count": 3,
   "id": "cd53cb30",
   "metadata": {},
   "outputs": [
    {
     "name": "stderr",
     "output_type": "stream",
     "text": [
      "USER_AGENT environment variable not set, consider setting it to identify your requests.\n"
     ]
    }
   ],
   "source": [
    "\n",
    "\n",
    "from langchain_openai import AzureChatOpenAI, ChatOpenAI\n",
    "from langchain_community.document_loaders import WebBaseLoader\n",
    "from langchain_community.document_loaders import PyPDFLoader, DirectoryLoader\n",
    "from langchain_core.documents import Document\n",
    "from langchain_text_splitters import RecursiveCharacterTextSplitter\n",
    "from langchain_core.vectorstores import InMemoryVectorStore\n",
    "from langgraph.graph import START, StateGraph, MessagesState, END\n",
    "from typing_extensions import List, TypedDict\n",
    "from langchain_community.embeddings import HuggingFaceEmbeddings\n",
    "from langchain_core.tools import tool\n",
    "from langchain.prompts import ChatPromptTemplate\n",
    "from langchain_core.messages import SystemMessage\n",
    "from langgraph.prebuilt import ToolNode, tools_condition\n",
    "from IPython.display import Image, display\n",
    "from dotenv import load_dotenv\n",
    "import os"
   ]
  },
  {
   "cell_type": "code",
   "execution_count": 4,
   "id": "083384ae",
   "metadata": {},
   "outputs": [
    {
     "data": {
      "text/plain": [
       "True"
      ]
     },
     "execution_count": 4,
     "metadata": {},
     "output_type": "execute_result"
    }
   ],
   "source": [
    "load_dotenv(override=True)"
   ]
  },
  {
   "cell_type": "code",
   "execution_count": 5,
   "id": "3000d74b",
   "metadata": {},
   "outputs": [],
   "source": [
    "llm = ChatOpenAI(model=\"gpt-4o-mini\")"
   ]
  },
  {
   "cell_type": "code",
   "execution_count": 6,
   "id": "9fa6ff63",
   "metadata": {},
   "outputs": [
    {
     "data": {
      "text/plain": [
       "27"
      ]
     },
     "execution_count": 6,
     "metadata": {},
     "output_type": "execute_result"
    }
   ],
   "source": [
    "# Load and chunk contents of the blog\n",
    "pdf_data_path = \"example_data\"\n",
    "loader = DirectoryLoader(pdf_data_path, glob=\"*.pdf\", loader_cls=PyPDFLoader)\n",
    "docs = loader.load()\n",
    "\n",
    "text_splitter = RecursiveCharacterTextSplitter(\n",
    "    chunk_size=1000, chunk_overlap=200, add_start_index=True\n",
    ")\n",
    "all_splits = text_splitter.split_documents(docs)\n",
    "len(all_splits)\n"
   ]
  },
  {
   "cell_type": "code",
   "execution_count": 7,
   "id": "3e8808f5",
   "metadata": {},
   "outputs": [
    {
     "name": "stderr",
     "output_type": "stream",
     "text": [
      "C:\\Users\\HLC\\AppData\\Local\\Temp\\ipykernel_7236\\964325612.py:2: LangChainDeprecationWarning: The class `HuggingFaceEmbeddings` was deprecated in LangChain 0.2.2 and will be removed in 1.0. An updated version of the class exists in the :class:`~langchain-huggingface package and should be used instead. To use it run `pip install -U :class:`~langchain-huggingface` and import as `from :class:`~langchain_huggingface import HuggingFaceEmbeddings``.\n",
      "  embedding_model = HuggingFaceEmbeddings(model_name=\"sentence-transformers/all-MiniLM-L6-v2\")\n"
     ]
    }
   ],
   "source": [
    "# embeddings = OpenAIEmbeddings(model=\"text-embedding-3-small\")\n",
    "embedding_model = HuggingFaceEmbeddings(model_name=\"sentence-transformers/all-MiniLM-L6-v2\")\n",
    "vector_store = InMemoryVectorStore(embedding_model)"
   ]
  },
  {
   "cell_type": "code",
   "execution_count": 8,
   "id": "a651e0ab",
   "metadata": {},
   "outputs": [
    {
     "name": "stdout",
     "output_type": "stream",
     "text": [
      "['10798ca9-edc0-49f4-a7a4-f18bfcb6f58a', '60db70e8-13a1-4fb6-b08c-6a96980d0072', '94c8b127-4874-476c-b5b7-bc6dc5fa7237', 'dc71803e-7aab-48e8-8662-236d9a889551', '484acb37-8ecd-473c-a5ed-9d5c52c8fc78', 'c378040f-56bf-4d3a-b11a-5ad1691e84d5', '37aaa3be-fc03-485a-902e-ea96efeb9cad', '8e8f2a69-19c5-4ad1-8d1b-12b573de297c', '9819d30f-289a-41ff-882f-8927ed723ce2', 'ba86c11b-d0e4-452f-9e26-391ba1a6e076', '23849570-79d7-44c5-bd1f-dc54847cd602', '44446671-94f7-4929-a0ca-d31a228b219a', 'fbba10bd-b34d-4d0d-b5d6-e5a12f29e287', 'b706d221-f44b-4952-b4fc-85b2975e0829', 'a9bffff0-e593-49e9-a973-8b2e0f212ff6', '1c832034-1224-4118-b1b6-bc03b6be80f4', '94f9fdbf-a4fe-4589-b8fa-a48f5a7473a6', '2a28fd23-0009-4341-b07c-39432125b66f', 'ce7e9aa1-b120-46d8-aa08-2dfb5f9dbd04', '72efd128-28b5-4008-9d69-67e5e55a4932', 'ab87ebff-273c-4876-9337-d4bd109100e3', '90e1143a-da26-4163-87ed-5df0a22ae816', 'a9607ac4-ef29-40b3-bf2b-80e8464274e4', 'aeb8247b-0478-40c4-8437-243262408f8a', 'd7903fb6-bad5-45f8-8809-2b4f78bfc1bd', '1393f570-b8a0-4cfa-8214-2be4197f20e6', 'b07f2da1-9906-42f1-94e8-6b4e64484335']\n"
     ]
    }
   ],
   "source": [
    "# Index chunks\n",
    "document_ids = vector_store.add_documents(documents=all_splits)\n",
    "print(document_ids)"
   ]
  },
  {
   "cell_type": "code",
   "execution_count": 9,
   "id": "0de0b31e",
   "metadata": {},
   "outputs": [],
   "source": [
    "graph_builder = StateGraph(MessagesState)"
   ]
  },
  {
   "cell_type": "code",
   "execution_count": 10,
   "id": "c6bed823",
   "metadata": {},
   "outputs": [],
   "source": [
    "@tool(response_format=\"content_and_artifact\")\n",
    "def retrieve(query: str):\n",
    "    \"\"\"Retrieve information related to a query.\"\"\"\n",
    "    retrieved_docs = vector_store.similarity_search(query, k=2)\n",
    "    serialized = \"\\n\\n\".join(\n",
    "        (f\"Source: {doc.metadata}\\nContent: {doc.page_content}\")\n",
    "        for doc in retrieved_docs\n",
    "    )\n",
    "    return serialized, retrieved_docs"
   ]
  },
  {
   "cell_type": "code",
   "execution_count": 11,
   "id": "a7f7fcae",
   "metadata": {},
   "outputs": [],
   "source": [
    "# Step 1: Generate an AIMessage that may include a tool-call to be sent.\n",
    "def query_or_respond(state: MessagesState):\n",
    "    \"\"\"Generate tool call for retrieval or respond.\"\"\"\n",
    "    llm_with_tools = llm.bind_tools([retrieve])\n",
    "    response = llm_with_tools.invoke(state[\"messages\"])\n",
    "    # MessagesState appends messages to state instead of overwriting\n",
    "    return {\"messages\": [response]}\n"
   ]
  },
  {
   "cell_type": "code",
   "execution_count": 12,
   "id": "0bc41048",
   "metadata": {},
   "outputs": [],
   "source": [
    "# Step 2: Execute the retrieval.\n",
    "tools = ToolNode([retrieve])"
   ]
  },
  {
   "cell_type": "code",
   "execution_count": 13,
   "id": "db169e2f",
   "metadata": {},
   "outputs": [],
   "source": [
    "# Step 3: Generate a response using the retrieved content.\n",
    "def generate(state: MessagesState):\n",
    "    \"\"\"Generate answer.\"\"\"\n",
    "    # Get generated ToolMessages\n",
    "    recent_tool_messages = []\n",
    "    for message in reversed(state[\"messages\"]):\n",
    "        if message.type == \"tool\":\n",
    "            recent_tool_messages.append(message)\n",
    "        else:\n",
    "            break\n",
    "    tool_messages = recent_tool_messages[::-1]\n",
    "\n",
    "    # Format into prompt\n",
    "    docs_content = \"\\n\\n\".join(doc.content for doc in tool_messages)\n",
    "    system_message_content = (\n",
    "        \"You are an assistant for question-answering tasks. \"\n",
    "        \"Use the following pieces of retrieved context to answer \"\n",
    "        \"the question. If you don't know the answer, say that you \"\n",
    "        \"don't know. Use three sentences maximum and keep the \"\n",
    "        \"answer concise.\"\n",
    "        \"\\n\\n\"\n",
    "        f\"{docs_content}\"\n",
    "    )\n",
    "    conversation_messages = [\n",
    "        message\n",
    "        for message in state[\"messages\"]\n",
    "        if message.type in (\"human\", \"system\")\n",
    "        or (message.type == \"ai\" and not message.tool_calls)\n",
    "    ]\n",
    "    prompt = [SystemMessage(system_message_content)] + conversation_messages\n",
    "\n",
    "    # Run\n",
    "    response = llm.invoke(prompt)\n",
    "    return {\"messages\": [response]}\n"
   ]
  },
  {
   "cell_type": "code",
   "execution_count": 14,
   "id": "8f93c64b",
   "metadata": {},
   "outputs": [],
   "source": [
    "graph_builder.add_node(query_or_respond)\n",
    "graph_builder.add_node(tools)\n",
    "graph_builder.add_node(generate)\n",
    "\n",
    "graph_builder.set_entry_point(\"query_or_respond\")\n",
    "graph_builder.add_conditional_edges(\n",
    "    \"query_or_respond\",\n",
    "    tools_condition,\n",
    "    {END: END, \"tools\": \"tools\"},\n",
    ")\n",
    "graph_builder.add_edge(\"tools\", \"generate\")\n",
    "graph_builder.add_edge(\"generate\", END)\n",
    "\n",
    "graph = graph_builder.compile()"
   ]
  },
  {
   "cell_type": "code",
   "execution_count": 15,
   "id": "173b0701",
   "metadata": {},
   "outputs": [
    {
     "data": {
      "image/png": "[encoded data removed]",
      "text/plain": [
       "<IPython.core.display.Image object>"
      ]
     },
     "metadata": {},
     "output_type": "display_data"
    }
   ],
   "source": [
    "display(Image(graph.get_graph().draw_mermaid_png()))"
   ]
  },
  {
   "cell_type": "code",
   "execution_count": 16,
   "id": "8b2104af",
   "metadata": {},
   "outputs": [
    {
     "name": "stdout",
     "output_type": "stream",
     "text": [
      "================================\u001b[1m Human Message \u001b[0m=================================\n",
      "\n",
      "What's your name?\n",
      "==================================\u001b[1m Ai Message \u001b[0m==================================\n",
      "\n",
      "I don't have a personal name, but you can call me Assistant! How can I help you today?\n"
     ]
    }
   ],
   "source": [
    "input_message = \"What's your name?\"\n",
    "\n",
    "for node_state in graph.stream(\n",
    "    {\"messages\": [{\"role\": \"user\", \"content\": input_message}]},\n",
    "    stream_mode=\"values\",\n",
    "):\n",
    "    node_state[\"messages\"][-1].pretty_print()"
   ]
  },
  {
   "cell_type": "markdown",
   "id": "9e593492",
   "metadata": {},
   "source": [
    "### Stateful management of chat history"
   ]
  },
  {
   "cell_type": "markdown",
   "id": "bb54a42e",
   "metadata": {},
   "source": []
  },
  {
   "cell_type": "code",
   "execution_count": 17,
   "id": "4c3d13fb",
   "metadata": {},
   "outputs": [],
   "source": [
    "from langgraph.checkpoint.memory import MemorySaver\n",
    "\n",
    "memory = MemorySaver()\n",
    "graph = graph_builder.compile(checkpointer=memory)\n",
    "\n",
    "# Specify an ID for the thread\n",
    "config = {\"configurable\": {\"thread_id\": \"abc123\"}}"
   ]
  },
  {
   "cell_type": "code",
   "execution_count": 18,
   "id": "9490a5ac",
   "metadata": {},
   "outputs": [
    {
     "name": "stdout",
     "output_type": "stream",
     "text": [
      "================================\u001b[1m Human Message \u001b[0m=================================\n",
      "\n",
      "What is ReactJS?\n",
      "==================================\u001b[1m Ai Message \u001b[0m==================================\n",
      "Tool Calls:\n",
      "  retrieve (call_rNAb3LWTMCeDOnQdYKqAcQa6)\n",
      " Call ID: call_rNAb3LWTMCeDOnQdYKqAcQa6\n",
      "  Args:\n",
      "    query: What is ReactJS?\n",
      "=================================\u001b[1m Tool Message \u001b[0m=================================\n",
      "Name: retrieve\n",
      "\n",
      "Source: {'producer': 'xdvipdfmx (20220710)', 'creator': 'LaTeX with hyperref', 'creationdate': '2025-10-03T07:26:44+00:00', 'source': 'example_data\\\\fe_framework.pdf', 'total_pages': 4, 'page': 0, 'page_label': '1', 'start_index': 0}\n",
      "Content: Popular Frontend Frameworks and Libraries\n",
      "in 2025\n",
      "October 2025\n",
      "Introduction\n",
      "In the rapidly evolving world of web development, frontend frameworks and\n",
      "libraries are essential for building dynamic, responsive user interfaces. As of\n",
      "2025, the landscape is dominated by established giants and innovative meta-\n",
      "frameworks. This document explores React, Vue.js, Angular, Next.js, Nuxt.js, and\n",
      "Astro, comparing their popularity (via GitHub stars, NPM downloads, and usage\n",
      "surveys) and job market demand. Data is sourced from the State of JavaScript\n",
      "2024, NPM trends, and industry reports up to October 2025. This guide aims to\n",
      "assist developers, students, and hiring managers in making informed decisions.\n",
      "1 Overview of Key Frameworks\n",
      "1.1 React\n",
      "React, developed by Meta, is a declarative JavaScript library emphasizing component-\n",
      "based architecture and a virtual DOM for efficient updates.\n",
      "• Pros: Vast ecosystem, reusable components, strong community, seamless\n",
      "integration with Next.js.\n",
      "\n",
      "Source: {'producer': 'xdvipdfmx (20220710)', 'creator': 'LaTeX with hyperref', 'creationdate': '2025-10-03T07:26:44+00:00', 'source': 'example_data\\\\fe_framework.pdf', 'total_pages': 4, 'page': 0, 'page_label': '1', 'start_index': 823}\n",
      "Content: based architecture and a virtual DOM for efficient updates.\n",
      "• Pros: Vast ecosystem, reusable components, strong community, seamless\n",
      "integration with Next.js.\n",
      "• Cons: Steep learning curve for state management (e.g., Redux), potential\n",
      "boilerplate code.\n",
      "• Best For: Large-scale applications like social media platforms (e.g., Face-\n",
      "book, Instagram).\n",
      "1.2 Vue.js\n",
      "Vue.js, created by Evan You, is a progressive framework known for simplicity\n",
      "and flexibility, scaling from a library to a full framework.\n",
      "• Pros: Gentle learning curve, reactive data binding, lightweight (20KB mini-\n",
      "fied).\n",
      "• Cons: Smaller ecosystem than React, less enterprise adoption.\n",
      "1\n",
      "==================================\u001b[1m Ai Message \u001b[0m==================================\n",
      "\n",
      "ReactJS is a declarative JavaScript library developed by Meta for building user interfaces, focusing on component-based architecture and utilizing a virtual DOM for efficient updates. It features a vast ecosystem, reusable components, and strong community support, making it suitable for large-scale applications. However, it has a steep learning curve for state management and may involve potential boilerplate code.\n"
     ]
    }
   ],
   "source": [
    "input_message = \"What is ReactJS?\"\n",
    "\n",
    "for step in graph.stream(\n",
    "    {\"messages\": [{\"role\": \"user\", \"content\": input_message}]},\n",
    "    stream_mode=\"values\",\n",
    "    config=config,\n",
    "):\n",
    "    step[\"messages\"][-1].pretty_print()"
   ]
  },
  {
   "cell_type": "code",
   "execution_count": 19,
   "id": "5b23a809",
   "metadata": {},
   "outputs": [
    {
     "name": "stdout",
     "output_type": "stream",
     "text": [
      "================================\u001b[1m Human Message \u001b[0m=================================\n",
      "\n",
      "Can you tell me about the popularity of it?\n",
      "==================================\u001b[1m Ai Message \u001b[0m==================================\n",
      "Tool Calls:\n",
      "  retrieve (call_z7uiptGXnfXqYs5V3TX18SLP)\n",
      " Call ID: call_z7uiptGXnfXqYs5V3TX18SLP\n",
      "  Args:\n",
      "    query: ReactJS popularity 2025\n",
      "=================================\u001b[1m Tool Message \u001b[0m=================================\n",
      "Name: retrieve\n",
      "\n",
      "Source: {'producer': 'xdvipdfmx (20220710)', 'creator': 'LaTeX with hyperref', 'creationdate': '2025-10-03T07:26:44+00:00', 'source': 'example_data\\\\fe_framework.pdf', 'total_pages': 4, 'page': 2, 'page_label': '3', 'start_index': 0}\n",
      "Content: 2 Popularity Comparison\n",
      "Popularity is measured using GitHub stars, NPM downloads, and the State of\n",
      "JavaScript 2024 survey, reflecting trends as of mid-2025.\n",
      "Framework GitHub Stars Weekly NPM Downloads (M)Usage % Retention %\n",
      "React 220,000 25+ 63% 81%\n",
      "Vue.js 42,000 6.6 43% 85%\n",
      "Angular 91,000 3.5 18% 62%\n",
      "Next.js 120,000 8.2 N/A 88%\n",
      "Nuxt.js 52,000 1.8 N/A 82%\n",
      "Astro 41,000 2.1 12% 90%\n",
      "Bang 1:Popularity Metrics (2025)\n",
      "Insights: React leads due to its ecosystem and corporate backing. Vue.js excels in\n",
      "developer satisfaction. Angular holds steady in enterprise settings. Next.js and\n",
      "Astro are surging, with Astro gaining for its speed-focused approach.\n",
      "3 Job Opportunities and Market Demand\n",
      "The frontend job market in 2025 is robust, driven by digital transformation and\n",
      "AI integration. React skills are ubiquitous, but meta-frameworks like Next.js open\n",
      "full-stack roles. Data from job boards (LinkedIn, Indeed) shows:\n",
      "Framework Job Postings % Salary Range (USD) Demand Trend Key Industries\n",
      "\n",
      "Source: {'producer': 'xdvipdfmx (20220710)', 'creator': 'LaTeX with hyperref', 'creationdate': '2025-10-03T07:26:44+00:00', 'source': 'example_data\\\\fe_framework.pdf', 'total_pages': 4, 'page': 0, 'page_label': '1', 'start_index': 0}\n",
      "Content: Popular Frontend Frameworks and Libraries\n",
      "in 2025\n",
      "October 2025\n",
      "Introduction\n",
      "In the rapidly evolving world of web development, frontend frameworks and\n",
      "libraries are essential for building dynamic, responsive user interfaces. As of\n",
      "2025, the landscape is dominated by established giants and innovative meta-\n",
      "frameworks. This document explores React, Vue.js, Angular, Next.js, Nuxt.js, and\n",
      "Astro, comparing their popularity (via GitHub stars, NPM downloads, and usage\n",
      "surveys) and job market demand. Data is sourced from the State of JavaScript\n",
      "2024, NPM trends, and industry reports up to October 2025. This guide aims to\n",
      "assist developers, students, and hiring managers in making informed decisions.\n",
      "1 Overview of Key Frameworks\n",
      "1.1 React\n",
      "React, developed by Meta, is a declarative JavaScript library emphasizing component-\n",
      "based architecture and a virtual DOM for efficient updates.\n",
      "• Pros: Vast ecosystem, reusable components, strong community, seamless\n",
      "integration with Next.js.\n",
      "==================================\u001b[1m Ai Message \u001b[0m==================================\n",
      "\n",
      "As of mid-2025, React is the most popular frontend framework, boasting 220,000 GitHub stars and over 25 million weekly NPM downloads. It has a usage percentage of 63% and a retention rate of 81%, indicating strong developer satisfaction and continued use. Its popularity is attributed to a robust ecosystem and significant corporate backing from Meta.\n"
     ]
    }
   ],
   "source": [
    "input_message = \"Can you tell me about the popularity of it?\"\n",
    "\n",
    "for step in graph.stream(\n",
    "    {\"messages\": [{\"role\": \"user\", \"content\": input_message}]},\n",
    "    stream_mode=\"values\",\n",
    "    config=config,\n",
    "):\n",
    "    step[\"messages\"][-1].pretty_print()"
   ]
  }
 ],
 "metadata": {
  "kernelspec": {
   "display_name": ".venv",
   "language": "python",
   "name": "python3"
  },
  "language_info": {
   "codemirror_mode": {
    "name": "ipython",
    "version": 3
   },
   "file_extension": ".py",
   "mimetype": "text/x-python",
   "name": "python",
   "nbconvert_exporter": "python",
   "pygments_lexer": "ipython3",
   "version": "3.12.11"
  }
 },
 "nbformat": 4,
 "nbformat_minor": 5
}
