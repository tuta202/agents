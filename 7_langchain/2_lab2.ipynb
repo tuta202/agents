{
 "cells": [
  {
   "cell_type": "code",
   "execution_count": null,
   "id": "84763cae",
   "metadata": {},
   "outputs": [],
   "source": [
    "from langchain_openai import ChatOpenAI\n",
    "from langchain_core.messages import HumanMessage, SystemMessage\n",
    "from langchain_core.documents import Document\n",
    "from langchain_community.document_loaders import PyPDFLoader\n",
    "from langchain_openai import OpenAIEmbeddings\n",
    "from langchain_text_splitters import RecursiveCharacterTextSplitter\n",
    "from langchain_core.vectorstores import InMemoryVectorStore\n",
    "from langchain_community.embeddings import HuggingFaceEmbeddings\n",
    "from langchain_core.runnables import chain\n",
    "from typing import List\n",
    "from dotenv import load_dotenv\n",
    "import os"
   ]
  },
  {
   "cell_type": "code",
   "execution_count": 16,
   "id": "312a5972",
   "metadata": {},
   "outputs": [
    {
     "data": {
      "text/plain": [
       "True"
      ]
     },
     "execution_count": 16,
     "metadata": {},
     "output_type": "execute_result"
    }
   ],
   "source": [
    "load_dotenv(override=True)"
   ]
  },
  {
   "cell_type": "markdown",
   "id": "845ceca8",
   "metadata": {},
   "source": [
    "## Documents and Document Loaders"
   ]
  },
  {
   "cell_type": "code",
   "execution_count": 17,
   "id": "ae21881c",
   "metadata": {},
   "outputs": [],
   "source": [
    "documents = [\n",
    "    Document(\n",
    "        page_content=\"Dogs are great companions, known for their loyalty and friendliness.\",\n",
    "        metadata={\"source\": \"mammal-pets-doc\"},\n",
    "    ),\n",
    "    Document(\n",
    "        page_content=\"Cats are independent pets that often enjoy their own space.\",\n",
    "        metadata={\"source\": \"mammal-pets-doc\"},\n",
    "    ),\n",
    "]"
   ]
  },
  {
   "cell_type": "code",
   "execution_count": 18,
   "id": "dd67149c",
   "metadata": {},
   "outputs": [
    {
     "name": "stdout",
     "output_type": "stream",
     "text": [
      "3\n"
     ]
    }
   ],
   "source": [
    "file_path = \"./example_data/langchain_test_file.pdf\"\n",
    "loader = PyPDFLoader(file_path)\n",
    "\n",
    "docs = loader.load()\n",
    "\n",
    "print(len(docs))"
   ]
  },
  {
   "cell_type": "code",
   "execution_count": 19,
   "id": "37b82aa4",
   "metadata": {},
   "outputs": [
    {
     "name": "stdout",
     "output_type": "stream",
     "text": [
      "1 Introduction to LangChain\n",
      "LangChain is an open-source framework designed to simplify the development\n",
      "of applications powered by large language models (LLMs). It provides a mod-\n",
      "ular and flexible str\n",
      "\n",
      "{'producer': 'xdvipdfmx (20220710)', 'creator': 'LaTeX with hyperref', 'creationdate': '2025-10-02T15:38:43+00:00', 'source': './example_data/langchain_test_file.pdf', 'total_pages': 3, 'page': 0, 'page_label': '1'}\n"
     ]
    }
   ],
   "source": [
    "print(f\"{docs[0].page_content[:200]}\\n\")\n",
    "print(docs[0].metadata)"
   ]
  },
  {
   "cell_type": "markdown",
   "id": "0c4eb077",
   "metadata": {},
   "source": [
    "## Splitting"
   ]
  },
  {
   "cell_type": "code",
   "execution_count": 84,
   "id": "5c28680c",
   "metadata": {},
   "outputs": [
    {
     "data": {
      "text/plain": [
       "[Document(metadata={'producer': 'xdvipdfmx (20220710)', 'creator': 'LaTeX with hyperref', 'creationdate': '2025-10-02T15:38:43+00:00', 'source': './example_data/langchain_test_file.pdf', 'total_pages': 3, 'page': 0, 'page_label': '1', 'start_index': 0}, page_content='1 Introduction to LangChain\\nLangChain is an open-source framework designed to simplify the development\\nof applications powered by large language models (LLMs). It provides a mod-\\nular and flexible structure for integrating LLMs with external tools, memory,\\nand data sources, enabling developers to create context-aware and interactive\\napplications.\\n1.1 Core Components of LangChain\\nLangChain’s architecture revolves around several key components:\\n• LLM Wrappers: Interfaces to interact with various language models, such\\nas those from OpenAI, Hugging Face, or Anthropic.\\n• Prompt Templates: Tools for creating dynamic prompts to guide LLM re-\\nsponses.\\n• Memory: Mechanisms to maintain context across interactions, such as con-\\nversation history.\\n• Tools and Agents: Integrations with external APIs, databases, or search\\nengines, allowing LLMs to perform tasks like web searches or calculations.\\n• Chains: Sequences of operations that combine prompts, LLMs, and tools to\\nachieve complex workflows.'),\n",
       " Document(metadata={'producer': 'xdvipdfmx (20220710)', 'creator': 'LaTeX with hyperref', 'creationdate': '2025-10-02T15:38:43+00:00', 'source': './example_data/langchain_test_file.pdf', 'total_pages': 3, 'page': 0, 'page_label': '1', 'start_index': 820}, page_content='engines, allowing LLMs to perform tasks like web searches or calculations.\\n• Chains: Sequences of operations that combine prompts, LLMs, and tools to\\nachieve complex workflows.\\n1.2 Why Use LangChain?\\nLangChain simplifies the process of building applications that require LLMs to\\nreason, retrieve external information, or maintain state. It is particularly use-\\nful for applications like chatbots, question-answering systems, and automated\\nworkflows that need to combine natural language processing with structured\\ndata.\\n1'),\n",
       " Document(metadata={'producer': 'xdvipdfmx (20220710)', 'creator': 'LaTeX with hyperref', 'creationdate': '2025-10-02T15:38:43+00:00', 'source': './example_data/langchain_test_file.pdf', 'total_pages': 3, 'page': 1, 'page_label': '2', 'start_index': 0}, page_content='2 Introduction to LangGraph\\nLangGraph is an extension of LangChain that focuses on creating graph-based\\nworkflows for LLM applications. It allows developers to model complex inter-\\nactions as directed acyclic graphs (DAGs), where nodes represent tasks or states,\\nand edges define the flow of execution. This approach is ideal for applications\\nrequiring dynamic decision-making or multi-step processes.\\n2.1 Key Features of LangGraph\\nLangGraph introduces several features to enhance LangChain’s capabilities:\\n• Graph-Based Workflows: Represent complex processes as graphs, enabling\\nconditional branching and dynamic routing.\\n• State Management: Maintain and update state across nodes, ensuring con-\\ntext persistence in multi-step interactions.\\n• Customizable Nodes: Define custom logic for nodes, such as LLM calls,\\ntool executions, or data processing steps.\\n• Extensibility: Seamlessly integrate with LangChain components like agents,\\ntools, and memory.\\n2.2 Use Cases for LangGraph'),\n",
       " Document(metadata={'producer': 'xdvipdfmx (20220710)', 'creator': 'LaTeX with hyperref', 'creationdate': '2025-10-02T15:38:43+00:00', 'source': './example_data/langchain_test_file.pdf', 'total_pages': 3, 'page': 1, 'page_label': '2', 'start_index': 814}, page_content='tool executions, or data processing steps.\\n• Extensibility: Seamlessly integrate with LangChain components like agents,\\ntools, and memory.\\n2.2 Use Cases for LangGraph\\nLangGraph is well-suited for applications requiring intricate workflows, such\\nas automated customer support systems, multi-agent simulations, or decision-\\nmaking pipelines. By modeling interactions as graphs, developers can create\\nmore robust and adaptable systems.\\n2'),\n",
       " Document(metadata={'producer': 'xdvipdfmx (20220710)', 'creator': 'LaTeX with hyperref', 'creationdate': '2025-10-02T15:38:43+00:00', 'source': './example_data/langchain_test_file.pdf', 'total_pages': 3, 'page': 2, 'page_label': '3', 'start_index': 0}, page_content='3 Applications and Future Potential\\nBoth LangChain and LangGraph have transformed the way developers build\\nLLM-powered applications. Their modular and extensible nature makes them\\nversatile for a wide range of use cases.\\n3.1 Real-World Applications\\n• Chatbots and Virtual Assistants: LangChain’s memory and tool integra-\\ntion enable context-aware conversational agents that can access external\\ndata sources.\\n• Automated Research Tools: LangGraph’s graph-based workflows allow\\nfor dynamic research processes, such as iteratively querying databases or\\nweb sources.\\n• Workflow Automation: Combining LangChain and LangGraph, develop-\\ners can create pipelines for tasks like document summarization, data ex-\\ntraction, or report generation.\\n3.2 Future Directions\\nThe future of LangChain and LangGraph lies in their ability to support increas-\\ningly complex and autonomous systems. As LLMs advance, these frameworks\\nwill likely incorporate more sophisticated reasoning capabilities, improved tool'),\n",
       " Document(metadata={'producer': 'xdvipdfmx (20220710)', 'creator': 'LaTeX with hyperref', 'creationdate': '2025-10-02T15:38:43+00:00', 'source': './example_data/langchain_test_file.pdf', 'total_pages': 3, 'page': 2, 'page_label': '3', 'start_index': 837}, page_content='ingly complex and autonomous systems. As LLMs advance, these frameworks\\nwill likely incorporate more sophisticated reasoning capabilities, improved tool\\nintegrations, and support for multi-modal data (e.g., text, images, and audio). Ad-\\nditionally, the open-source community continues to drive innovation, ensuring\\nthat these tools remain accessible and adaptable.\\nFor more information, visit the official documentation atLangChain and Lang-\\nGraph.\\n3')]"
      ]
     },
     "execution_count": 84,
     "metadata": {},
     "output_type": "execute_result"
    }
   ],
   "source": [
    "text_splitter = RecursiveCharacterTextSplitter(\n",
    "    chunk_size=1000, chunk_overlap=200, add_start_index=True\n",
    ")\n",
    "all_splits = text_splitter.split_documents(docs)\n",
    "\n",
    "all_splits"
   ]
  },
  {
   "cell_type": "code",
   "execution_count": 85,
   "id": "1ae2368b",
   "metadata": {},
   "outputs": [],
   "source": [
    "# embeddings = OpenAIEmbeddings(model=\"text-embedding-3-small\")\n",
    "embedding_model = HuggingFaceEmbeddings(model_name=\"sentence-transformers/all-MiniLM-L6-v2\")"
   ]
  },
  {
   "cell_type": "code",
   "execution_count": 86,
   "id": "52957fcd",
   "metadata": {},
   "outputs": [
    {
     "name": "stdout",
     "output_type": "stream",
     "text": [
      "Generated vectors of length 384\n",
      "\n",
      "[-0.0013769008219242096, -0.04395429044961929, 0.008399590849876404, -0.02527850866317749, 0.06378486007452011, -0.05110172927379608, -0.012214490212500095, 0.05130786448717117, 0.04954077675938606, -0.06765234470367432]\n"
     ]
    }
   ],
   "source": [
    "vector_1 = embedding_model.embed_query(all_splits[0].page_content)\n",
    "vector_2 = embedding_model.embed_query(all_splits[1].page_content)\n",
    "\n",
    "assert len(vector_1) == len(vector_2)\n",
    "print(f\"Generated vectors of length {len(vector_1)}\\n\")\n",
    "print(vector_1[:10])"
   ]
  },
  {
   "cell_type": "markdown",
   "id": "5ea98e25",
   "metadata": {},
   "source": [
    "## Vector stores"
   ]
  },
  {
   "cell_type": "code",
   "execution_count": 87,
   "id": "e6af469a",
   "metadata": {},
   "outputs": [],
   "source": [
    "vector_store = InMemoryVectorStore(embedding_model)"
   ]
  },
  {
   "cell_type": "code",
   "execution_count": 88,
   "id": "7d60f97d",
   "metadata": {},
   "outputs": [
    {
     "data": {
      "text/plain": [
       "['dd7a8902-260f-4c94-9817-bf2e2425ae14',\n",
       " '594e0b46-c616-4436-9fec-3a12628bb1ef',\n",
       " '21e365ae-5bd0-4976-8fdc-9ed234cc7fec',\n",
       " 'f9244bf7-a99d-41fe-9fc5-c5d45471ac7a',\n",
       " '01aacc8e-1ec1-4ebc-98a8-ebf210e36c27',\n",
       " '9e9a1f11-57d2-486f-b3f0-e0c71bcdbc6d']"
      ]
     },
     "execution_count": 88,
     "metadata": {},
     "output_type": "execute_result"
    }
   ],
   "source": [
    "ids = vector_store.add_documents(documents=all_splits)\n",
    "ids"
   ]
  },
  {
   "cell_type": "code",
   "execution_count": 89,
   "id": "ea6eaa36",
   "metadata": {},
   "outputs": [
    {
     "name": "stdout",
     "output_type": "stream",
     "text": [
      "page_content='1 Introduction to LangChain\n",
      "LangChain is an open-source framework designed to simplify the development\n",
      "of applications powered by large language models (LLMs). It provides a mod-\n",
      "ular and flexible structure for integrating LLMs with external tools, memory,\n",
      "and data sources, enabling developers to create context-aware and interactive\n",
      "applications.\n",
      "1.1 Core Components of LangChain\n",
      "LangChain’s architecture revolves around several key components:\n",
      "• LLM Wrappers: Interfaces to interact with various language models, such\n",
      "as those from OpenAI, Hugging Face, or Anthropic.\n",
      "• Prompt Templates: Tools for creating dynamic prompts to guide LLM re-\n",
      "sponses.\n",
      "• Memory: Mechanisms to maintain context across interactions, such as con-\n",
      "versation history.\n",
      "• Tools and Agents: Integrations with external APIs, databases, or search\n",
      "engines, allowing LLMs to perform tasks like web searches or calculations.\n",
      "• Chains: Sequences of operations that combine prompts, LLMs, and tools to\n",
      "achieve complex workflows.' metadata={'producer': 'xdvipdfmx (20220710)', 'creator': 'LaTeX with hyperref', 'creationdate': '2025-10-02T15:38:43+00:00', 'source': './example_data/langchain_test_file.pdf', 'total_pages': 3, 'page': 0, 'page_label': '1', 'start_index': 0}\n"
     ]
    }
   ],
   "source": [
    "results = vector_store.similarity_search(\n",
    "    \"What is Prompt Templates?\"\n",
    ")\n",
    "\n",
    "print(results[0])"
   ]
  },
  {
   "cell_type": "code",
   "execution_count": 90,
   "id": "78183cdf",
   "metadata": {},
   "outputs": [
    {
     "name": "stdout",
     "output_type": "stream",
     "text": [
      "Score: 0.32155087494172074\n",
      "\n",
      "page_content='1 Introduction to LangChain\n",
      "LangChain is an open-source framework designed to simplify the development\n",
      "of applications powered by large language models (LLMs). It provides a mod-\n",
      "ular and flexible structure for integrating LLMs with external tools, memory,\n",
      "and data sources, enabling developers to create context-aware and interactive\n",
      "applications.\n",
      "1.1 Core Components of LangChain\n",
      "LangChain’s architecture revolves around several key components:\n",
      "• LLM Wrappers: Interfaces to interact with various language models, such\n",
      "as those from OpenAI, Hugging Face, or Anthropic.\n",
      "• Prompt Templates: Tools for creating dynamic prompts to guide LLM re-\n",
      "sponses.\n",
      "• Memory: Mechanisms to maintain context across interactions, such as con-\n",
      "versation history.\n",
      "• Tools and Agents: Integrations with external APIs, databases, or search\n",
      "engines, allowing LLMs to perform tasks like web searches or calculations.\n",
      "• Chains: Sequences of operations that combine prompts, LLMs, and tools to\n",
      "achieve complex workflows.' metadata={'producer': 'xdvipdfmx (20220710)', 'creator': 'LaTeX with hyperref', 'creationdate': '2025-10-02T15:38:43+00:00', 'source': './example_data/langchain_test_file.pdf', 'total_pages': 3, 'page': 0, 'page_label': '1', 'start_index': 0}\n"
     ]
    }
   ],
   "source": [
    "results = vector_store.similarity_search_with_score(\"What is Prompt Templates?\")\n",
    "doc, score = results[0]\n",
    "print(f\"Score: {score}\\n\")\n",
    "print(doc)"
   ]
  },
  {
   "cell_type": "markdown",
   "id": "780e6cd5",
   "metadata": {},
   "source": [
    "## Retrievers"
   ]
  },
  {
   "cell_type": "markdown",
   "id": "46ffae94",
   "metadata": {},
   "source": []
  }
 ],
 "metadata": {
  "kernelspec": {
   "display_name": ".venv",
   "language": "python",
   "name": "python3"
  },
  "language_info": {
   "codemirror_mode": {
    "name": "ipython",
    "version": 3
   },
   "file_extension": ".py",
   "mimetype": "text/x-python",
   "name": "python",
   "nbconvert_exporter": "python",
   "pygments_lexer": "ipython3",
   "version": "3.12.11"
  }
 },
 "nbformat": 4,
 "nbformat_minor": 5
}
